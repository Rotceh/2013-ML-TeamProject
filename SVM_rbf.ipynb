{
 "metadata": {
  "name": ""
 },
 "nbformat": 3,
 "nbformat_minor": 0,
 "worksheets": [
  {
   "cells": [
    {
     "cell_type": "heading",
     "level": 1,
     "metadata": {},
     "source": [
      "RBF SVM"
     ]
    },
    {
     "cell_type": "markdown",
     "metadata": {},
     "source": [
      "Test based on grid CV search.\n",
      "\n",
      "- C = 100\n",
      "- gamma = 1e-4\n"
     ]
    },
    {
     "cell_type": "code",
     "collapsed": false,
     "input": [
      "import numpy as np\n",
      "import pandas as pd\n",
      "import pylab as pl\n",
      "from sklearn import svm, cross_validation"
     ],
     "language": "python",
     "metadata": {},
     "outputs": [],
     "prompt_number": 1
    },
    {
     "cell_type": "code",
     "collapsed": false,
     "input": [
      "CSV_TRAIN = \"dataset/train_na2zero.csv\"\n",
      "CSV_TEST = \"dataset/test_na2zero.csv\""
     ],
     "language": "python",
     "metadata": {},
     "outputs": [],
     "prompt_number": 2
    },
    {
     "cell_type": "code",
     "collapsed": false,
     "input": [
      "df_train = pd.read_csv(CSV_TRAIN)\n",
      "df_test = pd.read_csv(CSV_TEST)"
     ],
     "language": "python",
     "metadata": {},
     "outputs": [],
     "prompt_number": 3
    },
    {
     "cell_type": "code",
     "collapsed": false,
     "input": [
      "train_Y = df_train.y\n",
      "train_X = df_train.iloc[:, 1:].values\n",
      "\n",
      "test_Y = df_test.y\n",
      "test_X = df_test.iloc[:, 1:].values"
     ],
     "language": "python",
     "metadata": {},
     "outputs": [],
     "prompt_number": 4
    },
    {
     "cell_type": "code",
     "collapsed": false,
     "input": [
      "C = 100\n",
      "gamma = 1e-5\n",
      "rbf_svc = svm.SVC(kernel='rbf', gamma=gamma, C=C)"
     ],
     "language": "python",
     "metadata": {},
     "outputs": [],
     "prompt_number": "*"
    },
    {
     "cell_type": "code",
     "collapsed": false,
     "input": [
      "%%time\n",
      "full_rbf_model = rbf_svc.fit(train_X, train_Y)\n",
      "pred_Y = full_rbf_model.predict(test_X)"
     ],
     "language": "python",
     "metadata": {},
     "outputs": [],
     "prompt_number": "*"
    },
    {
     "cell_type": "heading",
     "level": 2,
     "metadata": {},
     "source": [
      "Store Predict Y to output"
     ]
    },
    {
     "cell_type": "code",
     "collapsed": false,
     "input": [
      "def write_pred_y(out_path, pred_y):\n",
      "    with open(out_path, 'w') as out_f:\n",
      "        for y in pred_y:\n",
      "            print(y, file=out_f)"
     ],
     "language": "python",
     "metadata": {},
     "outputs": [],
     "prompt_number": 9
    },
    {
     "cell_type": "code",
     "collapsed": false,
     "input": [
      "pred_y_path = \"rbf_best_svc_1231.txt\"\n",
      "write_pred_y(pred_y_path, pred_Y)"
     ],
     "language": "python",
     "metadata": {},
     "outputs": [],
     "prompt_number": 10
    },
    {
     "cell_type": "code",
     "collapsed": false,
     "input": [],
     "language": "python",
     "metadata": {},
     "outputs": []
    }
   ],
   "metadata": {}
  }
 ]
}