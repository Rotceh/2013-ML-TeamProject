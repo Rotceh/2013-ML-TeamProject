{
 "metadata": {
  "name": ""
 },
 "nbformat": 3,
 "nbformat_minor": 0,
 "worksheets": [
  {
   "cells": [
    {
     "cell_type": "heading",
     "level": 1,
     "metadata": {},
     "source": [
      "Best Model Collections"
     ]
    },
    {
     "cell_type": "markdown",
     "metadata": {},
     "source": [
      "Here collects all best models."
     ]
    },
    {
     "cell_type": "code",
     "collapsed": false,
     "input": [
      "import numpy as np\n",
      "import pandas as pd\n",
      "import pylab as pl\n",
      "from sklearn import svm, cross_validation"
     ],
     "language": "python",
     "metadata": {},
     "outputs": [],
     "prompt_number": 1
    },
    {
     "cell_type": "code",
     "collapsed": false,
     "input": [
      "CSV_RAW_TRAIN = \"dataset/train_na2zero.csv\"\n",
      "CSV_RAW_TEST = \"dataset/test_na2zero.csv\"\n",
      "CSV_60x60_TRAIN = \"dataset/train_zero_60x60.csv\"\n",
      "CSV_60x60_TEST = \"dataset/test_zero_60x60.csv\""
     ],
     "language": "python",
     "metadata": {},
     "outputs": [],
     "prompt_number": 2
    },
    {
     "cell_type": "code",
     "collapsed": false,
     "input": [
      "def get_train_test_suite(suite_name=\"raw\"):\n",
      "    \"\"\"Return df_train, df_test, train_Y, train_X, test_Y, test_X in order.\n",
      "    \n",
      "    Create full train/test dataframe and X, Y matrix.\n",
      "    \n",
      "    Parameters\n",
      "    ==========\n",
      "    suite_name : \"raw\", suite\n",
      "        expect \"raw\", \"60x60\"\n",
      "    \"\"\"\n",
      "    if suite_name.lower() == \"raw\":\n",
      "        CSV_TRAIN = CSV_RAW_TRAIN\n",
      "        CSV_TEST = CSV_RAW_TEST\n",
      "    elif suite_name.lower() == \"60x60\":\n",
      "        CSV_TRAIN = CSV_60x60_TRAIN\n",
      "        CSV_TEST = CSV_60x60_TEST\n",
      "    else:\n",
      "        raise ValueError(\"Unexpected suite_name: {}, cannot handle.\".format(suite_name))\n",
      "    \n",
      "    df_train = pd.read_csv(CSV_TRAIN)\n",
      "    df_test = pd.read_csv(CSV_TEST)\n",
      "    \n",
      "    train_Y = df_train.y\n",
      "    train_X = df_train.iloc[:, 1:].values\n",
      "    \n",
      "    test_Y = df_test.y\n",
      "    test_X = df_test.iloc[:, 1:].values\n",
      "    \n",
      "    return df_train, df_test, train_Y, train_X, test_Y, test_X"
     ],
     "language": "python",
     "metadata": {},
     "outputs": [],
     "prompt_number": 3
    },
    {
     "cell_type": "heading",
     "level": 3,
     "metadata": {},
     "source": [
      "Store Predict Y to output"
     ]
    },
    {
     "cell_type": "code",
     "collapsed": false,
     "input": [
      "def write_pred_y(out_path, pred_y):\n",
      "    with open(out_path, 'w') as out_f:\n",
      "        for y in pred_y:\n",
      "            print(int(y), file=out_f)"
     ],
     "language": "python",
     "metadata": {},
     "outputs": [],
     "prompt_number": 11
    },
    {
     "cell_type": "heading",
     "level": 1,
     "metadata": {},
     "source": [
      "12.31 #1 - RBF SVM (raw)"
     ]
    },
    {
     "cell_type": "markdown",
     "metadata": {},
     "source": [
      "Test based on grid CV search, using raw input.\n",
      "\n",
      "- C = 100\n",
      "- gamma = 1e-4\n"
     ]
    },
    {
     "cell_type": "code",
     "collapsed": false,
     "input": [
      "df_train, df_test, train_Y, train_X, test_Y, test_X = get_train_test_suite(suite_name=\"raw\")"
     ],
     "language": "python",
     "metadata": {},
     "outputs": []
    },
    {
     "cell_type": "code",
     "collapsed": false,
     "input": [
      "C = 100\n",
      "gamma = 1e-5\n",
      "rbf_svc = svm.SVC(kernel='rbf', gamma=gamma, C=C)"
     ],
     "language": "python",
     "metadata": {},
     "outputs": [],
     "prompt_number": "*"
    },
    {
     "cell_type": "code",
     "collapsed": false,
     "input": [
      "%%time\n",
      "full_rbf_model = rbf_svc.fit(train_X, train_Y)\n",
      "pred_Y = full_rbf_model.predict(test_X)"
     ],
     "language": "python",
     "metadata": {},
     "outputs": [],
     "prompt_number": "*"
    },
    {
     "cell_type": "code",
     "collapsed": false,
     "input": [
      "PRED_RESULT_PATH = \"1231_best_1_rbf_svc.txt\"\n",
      "write_pred_y(PRED_RESULT_PATH, pred_Y)"
     ],
     "language": "python",
     "metadata": {},
     "outputs": [],
     "prompt_number": 10
    },
    {
     "cell_type": "heading",
     "level": 1,
     "metadata": {},
     "source": [
      "01.01 #1 - Poly SVM (60x60)"
     ]
    },
    {
     "cell_type": "markdown",
     "metadata": {},
     "source": [
      "Test based on grid CV search, using raw input.\n",
      "\n",
      "- C = 10\n",
      "- degree = 2"
     ]
    },
    {
     "cell_type": "code",
     "collapsed": false,
     "input": [
      "df_train, df_test, train_Y, train_X, test_Y, test_X = get_train_test_suite(suite_name=\"60x60\")"
     ],
     "language": "python",
     "metadata": {},
     "outputs": [],
     "prompt_number": 6
    },
    {
     "cell_type": "code",
     "collapsed": false,
     "input": [
      "C = 10\n",
      "degree =2\n",
      "poly_svc = svm.SVC(kernel=\"poly\", degree=degree, C=C)"
     ],
     "language": "python",
     "metadata": {},
     "outputs": [],
     "prompt_number": 7
    },
    {
     "cell_type": "code",
     "collapsed": false,
     "input": [
      "%%time\n",
      "full_model = poly_svc.fit(train_X, train_Y)\n",
      "pred_Y = full_model.predict(test_X)"
     ],
     "language": "python",
     "metadata": {},
     "outputs": [
      {
       "output_type": "stream",
       "stream": "stdout",
       "text": [
        "CPU times: user 5min 21s, sys: 139 ms, total: 5min 21s\n",
        "Wall time: 5min 22s\n"
       ]
      },
      {
       "output_type": "stream",
       "stream": "stderr",
       "text": [
        "/home/liang/.virtualenvs/ml203_py33/lib/python3.3/site-packages/sklearn/svm/base.py:233: DeprecationWarning: using a non-integer number instead of an integer will result in an error in the future\n",
        "  max_iter=self.max_iter, random_seed=random_seed)\n"
       ]
      }
     ],
     "prompt_number": 9
    },
    {
     "cell_type": "code",
     "collapsed": false,
     "input": [
      "PRED_RESULT_PATH = \"results/predictions/0101_1_best_poly_svc.txt\"\n",
      "write_pred_y(PRED_RESULT_PATH, pred_Y)"
     ],
     "language": "python",
     "metadata": {},
     "outputs": [],
     "prompt_number": 14
    },
    {
     "cell_type": "heading",
     "level": 1,
     "metadata": {},
     "source": [
      "01.01 #1 - RBF SVM (60x60)"
     ]
    },
    {
     "cell_type": "markdown",
     "metadata": {},
     "source": [
      "- 'gamma': 0.001\n",
      "- 'C': 10"
     ]
    },
    {
     "cell_type": "code",
     "collapsed": false,
     "input": [
      "C = 10\n",
      "gamma = 0.001\n",
      "svc = svm.SVC(kernel=\"rbf\", gamma=gamma, C=C)"
     ],
     "language": "python",
     "metadata": {},
     "outputs": [],
     "prompt_number": 17
    },
    {
     "cell_type": "code",
     "collapsed": false,
     "input": [
      "%%time\n",
      "full_model = svc.fit(train_X, train_Y)\n",
      "pred_Y = full_model.predict(test_X)"
     ],
     "language": "python",
     "metadata": {},
     "outputs": [
      {
       "output_type": "stream",
       "stream": "stdout",
       "text": [
        "CPU times: user 5min 30s, sys: 76 ms, total: 5min 30s\n",
        "Wall time: 5min 31s\n"
       ]
      },
      {
       "output_type": "stream",
       "stream": "stderr",
       "text": [
        "/home/liang/.virtualenvs/ml203_py33/lib/python3.3/site-packages/sklearn/svm/base.py:233: DeprecationWarning: using a non-integer number instead of an integer will result in an error in the future\n",
        "  max_iter=self.max_iter, random_seed=random_seed)\n"
       ]
      }
     ],
     "prompt_number": 18
    },
    {
     "cell_type": "code",
     "collapsed": false,
     "input": [
      "PRED_RESULT_PATH = \"results/predictions/0101_1_best_rbf_svc.txt\"\n",
      "write_pred_y(PRED_RESULT_PATH, pred_Y)"
     ],
     "language": "python",
     "metadata": {},
     "outputs": [],
     "prompt_number": 19
    },
    {
     "cell_type": "code",
     "collapsed": false,
     "input": [],
     "language": "python",
     "metadata": {},
     "outputs": []
    }
   ],
   "metadata": {}
  }
 ]
}