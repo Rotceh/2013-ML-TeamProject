{
 "metadata": {
  "name": ""
 },
 "nbformat": 3,
 "nbformat_minor": 0,
 "worksheets": [
  {
   "cells": [
    {
     "cell_type": "heading",
     "level": 1,
     "metadata": {},
     "source": [
      "Best Model Collections"
     ]
    },
    {
     "cell_type": "markdown",
     "metadata": {},
     "source": [
      "Here collects all best models."
     ]
    },
    {
     "cell_type": "code",
     "collapsed": false,
     "input": [
      "import numpy as np\n",
      "import pandas as pd\n",
      "import pylab as pl\n",
      "from sklearn import svm, cross_validation"
     ],
     "language": "python",
     "metadata": {},
     "outputs": [],
     "prompt_number": 1
    },
    {
     "cell_type": "code",
     "collapsed": false,
     "input": [
      "from util.get_data import get_train_test_suite, get_new_suite"
     ],
     "language": "python",
     "metadata": {},
     "outputs": [],
     "prompt_number": 2
    },
    {
     "cell_type": "heading",
     "level": 3,
     "metadata": {},
     "source": [
      "Store Predict Y to output"
     ]
    },
    {
     "cell_type": "code",
     "collapsed": false,
     "input": [
      "def write_pred_y(out_path, pred_y):\n",
      "    with open(out_path, 'w') as out_f:\n",
      "        for y in pred_y:\n",
      "            print(int(y), file=out_f)"
     ],
     "language": "python",
     "metadata": {},
     "outputs": [],
     "prompt_number": 3
    },
    {
     "cell_type": "heading",
     "level": 1,
     "metadata": {},
     "source": [
      "12.31 #1 - RBF SVM (raw)"
     ]
    },
    {
     "cell_type": "markdown",
     "metadata": {},
     "source": [
      "Test based on grid CV search, using raw input.\n",
      "\n",
      "- C = 100\n",
      "- gamma = 1e-4\n"
     ]
    },
    {
     "cell_type": "code",
     "collapsed": false,
     "input": [
      "df_train, df_test, train_Y, train_X, test_Y, test_X = get_train_test_suite(suite_name=\"raw\")"
     ],
     "language": "python",
     "metadata": {},
     "outputs": []
    },
    {
     "cell_type": "code",
     "collapsed": false,
     "input": [
      "C = 100\n",
      "gamma = 1e-5\n",
      "rbf_svc = svm.SVC(kernel='rbf', gamma=gamma, C=C)"
     ],
     "language": "python",
     "metadata": {},
     "outputs": [],
     "prompt_number": "*"
    },
    {
     "cell_type": "code",
     "collapsed": false,
     "input": [
      "%%time\n",
      "full_rbf_model = rbf_svc.fit(train_X, train_Y)\n",
      "pred_Y = full_rbf_model.predict(test_X)"
     ],
     "language": "python",
     "metadata": {},
     "outputs": [],
     "prompt_number": "*"
    },
    {
     "cell_type": "code",
     "collapsed": false,
     "input": [
      "PRED_RESULT_PATH = \"1231_best_1_rbf_svc.txt\"\n",
      "write_pred_y(PRED_RESULT_PATH, pred_Y)"
     ],
     "language": "python",
     "metadata": {},
     "outputs": [],
     "prompt_number": 10
    },
    {
     "cell_type": "heading",
     "level": 1,
     "metadata": {},
     "source": [
      "01.01 #1 - Poly SVM (60x60)"
     ]
    },
    {
     "cell_type": "markdown",
     "metadata": {},
     "source": [
      "Test based on grid CV search, using raw input.\n",
      "\n",
      "- C = 10\n",
      "- degree = 2"
     ]
    },
    {
     "cell_type": "code",
     "collapsed": false,
     "input": [
      "df_train, df_test, train_Y, train_X, test_Y, test_X = get_train_test_suite(suite_name=\"60x60\")"
     ],
     "language": "python",
     "metadata": {},
     "outputs": [],
     "prompt_number": 6
    },
    {
     "cell_type": "code",
     "collapsed": false,
     "input": [
      "C = 10\n",
      "degree =2\n",
      "poly_svc = svm.SVC(kernel=\"poly\", degree=degree, C=C)"
     ],
     "language": "python",
     "metadata": {},
     "outputs": [],
     "prompt_number": 7
    },
    {
     "cell_type": "code",
     "collapsed": false,
     "input": [
      "%%time\n",
      "full_model = poly_svc.fit(train_X, train_Y)\n",
      "pred_Y = full_model.predict(test_X)"
     ],
     "language": "python",
     "metadata": {},
     "outputs": [
      {
       "output_type": "stream",
       "stream": "stdout",
       "text": [
        "CPU times: user 5min 21s, sys: 139 ms, total: 5min 21s\n",
        "Wall time: 5min 22s\n"
       ]
      },
      {
       "output_type": "stream",
       "stream": "stderr",
       "text": [
        "/home/liang/.virtualenvs/ml203_py33/lib/python3.3/site-packages/sklearn/svm/base.py:233: DeprecationWarning: using a non-integer number instead of an integer will result in an error in the future\n",
        "  max_iter=self.max_iter, random_seed=random_seed)\n"
       ]
      }
     ],
     "prompt_number": 9
    },
    {
     "cell_type": "code",
     "collapsed": false,
     "input": [
      "PRED_RESULT_PATH = \"results/predictions/0101_1_best_poly_svc.txt\"\n",
      "write_pred_y(PRED_RESULT_PATH, pred_Y)"
     ],
     "language": "python",
     "metadata": {},
     "outputs": [],
     "prompt_number": 14
    },
    {
     "cell_type": "heading",
     "level": 1,
     "metadata": {},
     "source": [
      "01.01 #1 - RBF SVM (60x60)"
     ]
    },
    {
     "cell_type": "markdown",
     "metadata": {},
     "source": [
      "- 'gamma': 0.001\n",
      "- 'C': 10"
     ]
    },
    {
     "cell_type": "code",
     "collapsed": false,
     "input": [
      "C = 10\n",
      "gamma = 0.001\n",
      "svc = svm.SVC(kernel=\"rbf\", gamma=gamma, C=C)"
     ],
     "language": "python",
     "metadata": {},
     "outputs": [],
     "prompt_number": 17
    },
    {
     "cell_type": "code",
     "collapsed": false,
     "input": [
      "%%time\n",
      "full_model = svc.fit(train_X, train_Y)\n",
      "pred_Y = full_model.predict(test_X)"
     ],
     "language": "python",
     "metadata": {},
     "outputs": [
      {
       "output_type": "stream",
       "stream": "stdout",
       "text": [
        "CPU times: user 5min 30s, sys: 76 ms, total: 5min 30s\n",
        "Wall time: 5min 31s\n"
       ]
      },
      {
       "output_type": "stream",
       "stream": "stderr",
       "text": [
        "/home/liang/.virtualenvs/ml203_py33/lib/python3.3/site-packages/sklearn/svm/base.py:233: DeprecationWarning: using a non-integer number instead of an integer will result in an error in the future\n",
        "  max_iter=self.max_iter, random_seed=random_seed)\n"
       ]
      }
     ],
     "prompt_number": 18
    },
    {
     "cell_type": "code",
     "collapsed": false,
     "input": [
      "PRED_RESULT_PATH = \"results/predictions/0101_1_best_rbf_svc.txt\"\n",
      "write_pred_y(PRED_RESULT_PATH, pred_Y)"
     ],
     "language": "python",
     "metadata": {},
     "outputs": [],
     "prompt_number": 19
    },
    {
     "cell_type": "heading",
     "level": 1,
     "metadata": {},
     "source": [
      "01.01 #2 - RBF Detailed SVM (60x60)"
     ]
    },
    {
     "cell_type": "markdown",
     "metadata": {},
     "source": [
      "- gamma: 0.002\n",
      "- C: 10"
     ]
    },
    {
     "cell_type": "code",
     "collapsed": false,
     "input": [
      "df_train, df_test, train_Y, train_X, test_Y, test_X = get_train_test_suite(suite_name=\"60x60\")"
     ],
     "language": "python",
     "metadata": {},
     "outputs": [],
     "prompt_number": 5
    },
    {
     "cell_type": "code",
     "collapsed": false,
     "input": [
      "C = 10\n",
      "gamma = 0.002\n",
      "svc = svm.SVC(kernel=\"rbf\", gamma=gamma, C=C)"
     ],
     "language": "python",
     "metadata": {},
     "outputs": [],
     "prompt_number": 6
    },
    {
     "cell_type": "code",
     "collapsed": false,
     "input": [
      "%%time\n",
      "full_model = svc.fit(train_X, train_Y)\n",
      "pred_Y = full_model.predict(test_X)"
     ],
     "language": "python",
     "metadata": {},
     "outputs": [
      {
       "output_type": "stream",
       "stream": "stdout",
       "text": [
        "CPU times: user 7min 6s, sys: 75 ms, total: 7min 6s\n",
        "Wall time: 7min 7s\n"
       ]
      },
      {
       "output_type": "stream",
       "stream": "stderr",
       "text": [
        "/home/liang/.virtualenvs/ml203_py33/lib/python3.3/site-packages/sklearn/svm/base.py:233: DeprecationWarning: using a non-integer number instead of an integer will result in an error in the future\n",
        "  max_iter=self.max_iter, random_seed=random_seed)\n"
       ]
      }
     ],
     "prompt_number": 7
    },
    {
     "cell_type": "code",
     "collapsed": false,
     "input": [
      "PRED_RESULT_PATH = \"results/predictions/0101_2_finetune_rbf_svc.txt\"\n",
      "write_pred_y(PRED_RESULT_PATH, pred_Y)"
     ],
     "language": "python",
     "metadata": {},
     "outputs": [],
     "prompt_number": 8
    },
    {
     "cell_type": "heading",
     "level": 1,
     "metadata": {},
     "source": [
      "01.01 #3 - LinearSVM (60x60 addmean)"
     ]
    },
    {
     "cell_type": "markdown",
     "metadata": {},
     "source": [
      "- C: 1"
     ]
    },
    {
     "cell_type": "code",
     "collapsed": false,
     "input": [
      "df_train, df_test, train_Y, train_X, test_Y, test_X = get_train_test_suite(suite_name=\"60x60addmean\")"
     ],
     "language": "python",
     "metadata": {},
     "outputs": [],
     "prompt_number": 5
    },
    {
     "cell_type": "code",
     "collapsed": false,
     "input": [
      "C = 1\n",
      "svc = svm.LinearSVC(C=C)"
     ],
     "language": "python",
     "metadata": {},
     "outputs": [],
     "prompt_number": 7
    },
    {
     "cell_type": "code",
     "collapsed": false,
     "input": [
      "%%time\n",
      "full_model = svc.fit(train_X, train_Y)\n",
      "pred_Y = full_model.predict(test_X)"
     ],
     "language": "python",
     "metadata": {},
     "outputs": [
      {
       "output_type": "stream",
       "stream": "stdout",
       "text": [
        "CPU times: user 2min 34s, sys: 245 ms, total: 2min 34s\n",
        "Wall time: 2min 35s\n"
       ]
      }
     ],
     "prompt_number": 8
    },
    {
     "cell_type": "code",
     "collapsed": false,
     "input": [
      "PRED_RESULT_PATH = \"results/predictions/0101_3_addmean_linsvm.txt\"\n",
      "write_pred_y(PRED_RESULT_PATH, pred_Y)"
     ],
     "language": "python",
     "metadata": {},
     "outputs": [],
     "prompt_number": 9
    },
    {
     "cell_type": "heading",
     "level": 1,
     "metadata": {},
     "source": [
      "01.01 #3 - RBFSVM (60x60 addmean)"
     ]
    },
    {
     "cell_type": "markdown",
     "metadata": {},
     "source": [
      "- C: 100\n",
      "- gamma: 0.001"
     ]
    },
    {
     "cell_type": "code",
     "collapsed": false,
     "input": [
      "df_train, df_test, train_Y, train_X, test_Y, test_X = get_train_test_suite(suite_name=\"60x60addmean\")"
     ],
     "language": "python",
     "metadata": {},
     "outputs": [],
     "prompt_number": 4
    },
    {
     "cell_type": "code",
     "collapsed": false,
     "input": [
      "C = 100\n",
      "gamma = 0.001\n",
      "svc = svm.SVC(kernel=\"rbf\", gamma=gamma, C=C)"
     ],
     "language": "python",
     "metadata": {},
     "outputs": [],
     "prompt_number": 5
    },
    {
     "cell_type": "code",
     "collapsed": false,
     "input": [
      "%%time\n",
      "full_model = svc.fit(train_X, train_Y)\n",
      "pred_Y = full_model.predict(test_X)"
     ],
     "language": "python",
     "metadata": {},
     "outputs": [
      {
       "output_type": "stream",
       "stream": "stdout",
       "text": [
        "CPU times: user 2min 15s, sys: 41 ms, total: 2min 15s\n",
        "Wall time: 2min 15s\n"
       ]
      },
      {
       "output_type": "stream",
       "stream": "stderr",
       "text": [
        "/home/liang/.virtualenvs/ml203_py33/lib/python3.3/site-packages/sklearn/svm/base.py:233: DeprecationWarning: using a non-integer number instead of an integer will result in an error in the future\n",
        "  max_iter=self.max_iter, random_seed=random_seed)\n"
       ]
      }
     ],
     "prompt_number": 6
    },
    {
     "cell_type": "code",
     "collapsed": false,
     "input": [
      "PRED_RESULT_PATH = \"results/predictions/0101_3_addmean_rbfsvm.txt\"\n",
      "write_pred_y(PRED_RESULT_PATH, pred_Y)"
     ],
     "language": "python",
     "metadata": {},
     "outputs": [],
     "prompt_number": 7
    },
    {
     "cell_type": "heading",
     "level": 1,
     "metadata": {},
     "source": [
      "01.13 #1 LinearSVM (60x60 top150, th250)"
     ]
    },
    {
     "cell_type": "markdown",
     "metadata": {},
     "source": [
      "- C: 1"
     ]
    },
    {
     "cell_type": "code",
     "collapsed": false,
     "input": [
      "df_train, df_test, train_Y, train_X, test_Y, test_X = get_train_test_suite(suite_name=\"60x60grey_th250\")"
     ],
     "language": "python",
     "metadata": {},
     "outputs": [],
     "prompt_number": 4
    },
    {
     "cell_type": "code",
     "collapsed": false,
     "input": [
      "C = 1\n",
      "svc = svm.LinearSVC(C=C)"
     ],
     "language": "python",
     "metadata": {},
     "outputs": [],
     "prompt_number": 5
    },
    {
     "cell_type": "code",
     "collapsed": false,
     "input": [
      "%%time\n",
      "full_model = svc.fit(train_X, train_Y)\n",
      "pred_Y = full_model.predict(test_X)"
     ],
     "language": "python",
     "metadata": {},
     "outputs": [
      {
       "output_type": "stream",
       "stream": "stdout",
       "text": [
        "CPU times: user 1min 41s, sys: 516 ms, total: 1min 42s\n",
        "Wall time: 1min 42s\n"
       ]
      }
     ],
     "prompt_number": 6
    },
    {
     "cell_type": "code",
     "collapsed": false,
     "input": [
      "PRED_RESULT_PATH = \"results/predictions/0113_1_60sift_th250_linsvm.txt\"\n",
      "write_pred_y(PRED_RESULT_PATH, pred_Y)"
     ],
     "language": "python",
     "metadata": {},
     "outputs": [],
     "prompt_number": 7
    },
    {
     "cell_type": "heading",
     "level": 1,
     "metadata": {},
     "source": [
      "01.13 #2 RBFSVM (60x60 top150, th250)"
     ]
    },
    {
     "cell_type": "markdown",
     "metadata": {},
     "source": [
      "- C: 1000\n",
      "- gamma: 0.001"
     ]
    },
    {
     "cell_type": "code",
     "collapsed": false,
     "input": [
      "df_train, df_test, train_Y, train_X, test_Y, test_X = get_train_test_suite(suite_name=\"60x60grey_th250\")"
     ],
     "language": "python",
     "metadata": {},
     "outputs": []
    },
    {
     "cell_type": "code",
     "collapsed": false,
     "input": [
      "C = 1000\n",
      "gamma = 0.001\n",
      "svc = svm.SVC(kernel=\"rbf\", gamma=gamma, C=C)"
     ],
     "language": "python",
     "metadata": {},
     "outputs": [],
     "prompt_number": 8
    },
    {
     "cell_type": "code",
     "collapsed": false,
     "input": [
      "%%time\n",
      "full_model = svc.fit(train_X, train_Y)\n",
      "pred_Y = full_model.predict(test_X)"
     ],
     "language": "python",
     "metadata": {},
     "outputs": [
      {
       "output_type": "stream",
       "stream": "stdout",
       "text": [
        "CPU times: user 48 s, sys: 213 ms, total: 48.2 s\n",
        "Wall time: 48.4 s\n"
       ]
      },
      {
       "output_type": "stream",
       "stream": "stderr",
       "text": [
        "/usr/local/lib/python3.3/site-packages/sklearn/svm/base.py:233: DeprecationWarning: using a non-integer number instead of an integer will result in an error in the future\n",
        "  max_iter=self.max_iter, random_seed=random_seed)\n"
       ]
      }
     ],
     "prompt_number": 9
    },
    {
     "cell_type": "code",
     "collapsed": false,
     "input": [
      "PRED_RESULT_PATH = \"results/predictions/0113_2_60sift_th250_svm.txt\"\n",
      "write_pred_y(PRED_RESULT_PATH, pred_Y)"
     ],
     "language": "python",
     "metadata": {},
     "outputs": [],
     "prompt_number": 10
    },
    {
     "cell_type": "heading",
     "level": 1,
     "metadata": {},
     "source": [
      "01.13 #3 LinearSVM (trim top1)"
     ]
    },
    {
     "cell_type": "code",
     "collapsed": false,
     "input": [
      "df_train, df_test, train_Y, train_X, test_Y, test_X = get_train_test_suite(suite_name=\"60x60grey_th250\")"
     ],
     "language": "python",
     "metadata": {},
     "outputs": []
    },
    {
     "cell_type": "code",
     "collapsed": false,
     "input": [
      "def get_top_range_k(df, start_k=1, end_k=1):\n",
      "    column_to_show = [\n",
      "        \"z{}_top{}\".format(z, k)\n",
      "        for k in range(start_k, end_k)\n",
      "        for z in range(1, 13)\n",
      "    ]\n",
      "    column_to_show = column_to_show + [\n",
      "        \"z{}_mean\".format(z)\n",
      "        for z in range(1, 13)\n",
      "    ]\n",
      "    return df.loc[:, column_to_show]"
     ],
     "language": "python",
     "metadata": {},
     "outputs": [],
     "prompt_number": 19
    },
    {
     "cell_type": "code",
     "collapsed": false,
     "input": [
      "df_trim_train = get_top_range_k(df_train, start_k=2, end_k=150)\n",
      "df_trim_test = get_top_range_k(df_test, start_k=2, end_k=150)"
     ],
     "language": "python",
     "metadata": {},
     "outputs": [],
     "prompt_number": 21
    },
    {
     "cell_type": "code",
     "collapsed": false,
     "input": [
      "train_X = df_trim_train.ix[:, 1:].values\n",
      "test_X = df_trim_test.ix[:, 1:].values"
     ],
     "language": "python",
     "metadata": {},
     "outputs": [],
     "prompt_number": 24
    },
    {
     "cell_type": "code",
     "collapsed": false,
     "input": [
      "%%time\n",
      "C = 1000\n",
      "gamma = 0.001\n",
      "svc = svm.SVC(kernel=\"rbf\", gamma=gamma, C=C)\n",
      "full_model = svc.fit(train_X, train_Y)\n",
      "pred_Y = full_model.predict(test_X)"
     ],
     "language": "python",
     "metadata": {},
     "outputs": [
      {
       "output_type": "stream",
       "stream": "stdout",
       "text": [
        "CPU times: user 2min 51s, sys: 599 ms, total: 2min 52s\n",
        "Wall time: 2min 52s\n"
       ]
      },
      {
       "output_type": "stream",
       "stream": "stderr",
       "text": [
        "/usr/local/lib/python3.3/site-packages/sklearn/svm/base.py:233: DeprecationWarning: using a non-integer number instead of an integer will result in an error in the future\n",
        "  max_iter=self.max_iter, random_seed=random_seed)\n"
       ]
      }
     ],
     "prompt_number": 25
    },
    {
     "cell_type": "code",
     "collapsed": false,
     "input": [
      "C = 1\n",
      "svc = svm.LinearSVC(C=C)"
     ],
     "language": "python",
     "metadata": {},
     "outputs": [],
     "prompt_number": 5
    },
    {
     "cell_type": "code",
     "collapsed": false,
     "input": [
      "PRED_RESULT_PATH = \"results/predictions/0113_3_60sift_th250_svm.txt\"\n",
      "write_pred_y(PRED_RESULT_PATH, pred_Y)"
     ],
     "language": "python",
     "metadata": {},
     "outputs": [],
     "prompt_number": 26
    },
    {
     "cell_type": "code",
     "collapsed": false,
     "input": [],
     "language": "python",
     "metadata": {},
     "outputs": []
    }
   ],
   "metadata": {}
  }
 ]
}