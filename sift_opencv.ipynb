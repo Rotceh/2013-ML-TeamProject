{
 "metadata": {
  "name": ""
 },
 "nbformat": 3,
 "nbformat_minor": 0,
 "worksheets": [
  {
   "cells": [
    {
     "cell_type": "heading",
     "level": 1,
     "metadata": {},
     "source": [
      "SIFT and SURF"
     ]
    },
    {
     "cell_type": "markdown",
     "metadata": {},
     "source": [
      "They have been implemented in OpenCV, so first one needs to install OpenCV:\n",
      "\n",
      "- On Mac:  `brew install opencv --with-tbb`\n",
      "- On Ubuntu: I don't know @@\n",
      "\n",
      "> **OpenCV works only on Python 2.x, so ... you might switch to 2.x in this approach.**\n",
      "\n",
      "SIFT and SURF are both algorithms for recognizing scale/rotate invariant features. Basically, after an parser reads an image, it returns a list of feature vectors. \n",
      "\n",
      "$$\n",
      "F_{N, p}\n",
      "= \\begin{bmatrix}\n",
      "    \\mathbf{f}_1 \\\\\n",
      "    \\mathbf{f}_2 \\\\\n",
      "    \\vdots \\\\\n",
      "    \\mathbf{f}_N\n",
      "\\end{bmatrix}\n",
      "= \\begin{bmatrix}\n",
      "      f_{1,1} & f_{1,2} & \\cdots & f_{1,p} \\\\\n",
      "      f_{2,1} & f_{2,2} & \\cdots & f_{2,p} \\\\\n",
      "      \\vdots  & \\vdots  & \\ddots & \\vdots  \\\\\n",
      "      f_{N,1} & f_{N,2} & \\cdots & f_{N,p}\n",
      "\\end{bmatrix}\n",
      "$$\n",
      "\n",
      "- $\\mathbf{f}_i = [f_{i, 1} \\ldots f_{i, p}],~\\mathbf{f}_i \\in \\mathbb{R}^{p}$ is a feature vector. In SIFT, usually $p=128$\n",
      "- N is the number of feature vectors, **every image has different number of vectors**\n",
      "\n",
      "By using SIFT or SURF, we can extract a new lists of vectors with new dimension $p$, which are resistance to noise or modification like rotation or shift. But since every image returns a different length of list, we **cannot put them into SVM directly**. We need to select a fixed length of list, say 5 vectors, and treat them as a length of $5 p = 640$ vector into SVM.\n",
      "\n",
      "The procedure is called **Bag-of-Words** (BoW) model. Here we have 12 zodiac signs, which implies all train and test images, their freature vectors could be clustered into 12 different groups. Images of \u9f20 should have features centered in some vector $\\mathbf{cen}_1$, and images of \u725b should have features centered in vector $\\mathbf{cen}_2$, and so on so forth.\n",
      "\n",
      "> In the end, we will have 12 vectors represent 12 different center, if our data have good quality, these vectors should be very different! So if a new image comes, we could classify it by seeing its vectors are closed to which center vector $\\mathbf{cen}_i$, then it should belong to that zodiac sign. Then we are classifing by **minimum distance** approach.\n",
      "> \n",
      "> **Minimum distance** has some problems that we often cannot repesent a list of feature vectors well by using their center only.\n",
      "\n",
      "Further information see reference 2.\n",
      "\n",
      "\n",
      "## Reference\n",
      "\n",
      "1. OpenCV, SIFT, ... (C++) <http://blog.csdn.net/xiaowei_cqu/article/category/923660/2>\n",
      "2. <http://stackoverflow.com/questions/17961635/image-detection-features-sift-histogram-and-egde>\n",
      "3. OpenCV SIFT intro <http://docs.opencv.org/trunk/doc/py_tutorials/py_feature2d/py_sift_intro/py_sift_intro.html>\n",
      "3. OpenCV Python SIFT<http://jayrambhia.com/blog/sift-keypoint-matching-using-python-opencv/>"
     ]
    },
    {
     "cell_type": "heading",
     "level": 1,
     "metadata": {},
     "source": [
      "HOG"
     ]
    },
    {
     "cell_type": "markdown",
     "metadata": {},
     "source": [
      "Similar to SIFT/SURF, but relatively easier and always return a **fixed-length** vector. I guess it is easier to do.\n",
      "\n",
      "## Reference\n",
      "\n",
      "- Using keywords: HOG, SVM\n",
      "- <http://www.robots.ox.ac.uk/~az/lectures/ml/lect2.pdf>"
     ]
    },
    {
     "cell_type": "markdown",
     "metadata": {},
     "source": [
      "-----"
     ]
    },
    {
     "cell_type": "markdown",
     "metadata": {},
     "source": [
      "# Hack SIFT\n",
      "\n",
      "First follow <http://jayrambhia.com/blog/sift-keypoint-matching-using-python-opencv/>.\n",
      "\n",
      "Try <http://stackoverflow.com/questions/10799625>\n",
      "\n",
      "### MLDM 2013.03.11\n",
      "\n",
      "- Video: <http://www.youtube.com/watch?v=F0odRfIBqZI>\n",
      "- Codeh: <ttps://github.com/shaochuan/MLDM-demo/tree/master/sift>\n"
     ]
    },
    {
     "cell_type": "code",
     "collapsed": false,
     "input": [
      "import cv2\n",
      "import pandas as pd\n",
      "import numpy as np\n",
      "import itertools\n",
      "CSV_TRAIN = \"dataset/train_na2zero.csv\""
     ],
     "language": "python",
     "metadata": {},
     "outputs": [],
     "prompt_number": 1
    },
    {
     "cell_type": "code",
     "collapsed": false,
     "input": [
      "%matplotlib inline\n",
      "import pylab as pl\n",
      "from matplotlib import cm"
     ],
     "language": "python",
     "metadata": {},
     "outputs": [],
     "prompt_number": 2
    },
    {
     "cell_type": "code",
     "collapsed": false,
     "input": [
      "df = pd.read_csv(CSV_TRAIN, nrows=50)"
     ],
     "language": "python",
     "metadata": {},
     "outputs": [],
     "prompt_number": 3
    },
    {
     "cell_type": "code",
     "collapsed": false,
     "input": [
      "zodiac_groupped = df.groupby(by=\"y\")"
     ],
     "language": "python",
     "metadata": {},
     "outputs": [],
     "prompt_number": 4
    },
    {
     "cell_type": "code",
     "collapsed": false,
     "input": [
      "df_dragon = zodiac_groupped.get_group(5).reset_index(drop=True)\n",
      "df_dragon.head()"
     ],
     "language": "python",
     "metadata": {},
     "outputs": [
      {
       "html": [
        "<pre>\n",
        "&lt;class 'pandas.core.frame.DataFrame'&gt;\n",
        "Int64Index: 5 entries, 0 to 4\n",
        "Columns: 12811 entries, y to x_12810\n",
        "dtypes: float64(12811)\n",
        "</pre>"
       ],
       "metadata": {},
       "output_type": "pyout",
       "prompt_number": 5,
       "text": [
        "<class 'pandas.core.frame.DataFrame'>\n",
        "Int64Index: 5 entries, 0 to 4\n",
        "Columns: 12811 entries, y to x_12810\n",
        "dtypes: float64(12811)"
       ]
      }
     ],
     "prompt_number": 5
    },
    {
     "cell_type": "code",
     "collapsed": false,
     "input": [
      "wd_template = df_dragon.ix[2, 1:].values\n",
      "wd_sample = df_dragon.ix[3, 1:].values"
     ],
     "language": "python",
     "metadata": {},
     "outputs": [],
     "prompt_number": 38
    },
    {
     "cell_type": "code",
     "collapsed": false,
     "input": [
      "PIXEL_X = 122\n",
      "PIXEL_Y = 105\n",
      "wd_template.shape = (PIXEL_X, PIXEL_Y)\n",
      "wd_sample.shape = (PIXEL_X, PIXEL_Y)"
     ],
     "language": "python",
     "metadata": {},
     "outputs": [],
     "prompt_number": 39
    },
    {
     "cell_type": "code",
     "collapsed": false,
     "input": [
      "pl.figure()\n",
      "pl.subplot(1, 2, 1)\n",
      "pl.imshow(wd_template, aspect=\"equal\", cmap=cm.binary)\n",
      "\n",
      "pl.subplot(1, 2, 2)\n",
      "pl.imshow(wd_sample, aspect=\"equal\", cmap=cm.binary)\n",
      "pl.show()"
     ],
     "language": "python",
     "metadata": {},
     "outputs": [
      {
       "metadata": {},
       "output_type": "display_data",
       "png": "[encoded data removed]",
       "text": [
        "<matplotlib.figure.Figure at 0x109051490>"
       ]
      }
     ],
     "prompt_number": 40
    },
    {
     "cell_type": "code",
     "collapsed": false,
     "input": [
      "wd_template = np.round((1 - wd_template) * 255).astype(np.uint8)\n",
      "# wd_template.dtype = np.uint8\n",
      "wd_template.shape"
     ],
     "language": "python",
     "metadata": {},
     "outputs": [
      {
       "metadata": {},
       "output_type": "pyout",
       "prompt_number": 41,
       "text": [
        "(122, 105)"
       ]
      }
     ],
     "prompt_number": 41
    },
    {
     "cell_type": "code",
     "collapsed": false,
     "input": [
      "detector = cv2.FeatureDetector_create(\"SIFT\")\n",
      "descriptor = cv2.DescriptorExtractor_create(\"SIFT\")"
     ],
     "language": "python",
     "metadata": {},
     "outputs": [],
     "prompt_number": 42
    },
    {
     "cell_type": "code",
     "collapsed": false,
     "input": [
      "skp = detector.detect(wd_template)\n",
      "skp, sd = descriptor.compute(wd_template, skp)"
     ],
     "language": "python",
     "metadata": {},
     "outputs": [],
     "prompt_number": 43
    },
    {
     "cell_type": "code",
     "collapsed": false,
     "input": [
      "sift = cv2.SIFT()\n",
      "kp = sift.detect(wd_template, None)"
     ],
     "language": "python",
     "metadata": {},
     "outputs": [],
     "prompt_number": 45
    },
    {
     "cell_type": "code",
     "collapsed": false,
     "input": [
      "wd = cv2.cvtColor(wd_template, cv2.COLOR_GRAY2BGR)\n",
      "img = cv2.drawKeypoints(\n",
      "    wd, kp,\n",
      "    flags=cv2.DRAW_MATCHES_FLAGS_DRAW_RICH_KEYPOINTS\n",
      ")\n",
      "pl.imshow(img, aspect=\"equal\")"
     ],
     "language": "python",
     "metadata": {},
     "outputs": [
      {
       "metadata": {},
       "output_type": "pyout",
       "prompt_number": 47,
       "text": [
        "<matplotlib.image.AxesImage at 0x1092c37d0>"
       ]
      },
      {
       "metadata": {},
       "output_type": "display_data",
       "png": "[encoded data removed]",
       "text": [
        "<matplotlib.figure.Figure at 0x1090045d0>"
       ]
      }
     ],
     "prompt_number": 47
    },
    {
     "cell_type": "code",
     "collapsed": false,
     "input": [
      "kp, desc = sift.detectAndCompute(wd_template, None)"
     ],
     "language": "python",
     "metadata": {},
     "outputs": [],
     "prompt_number": 48
    },
    {
     "cell_type": "code",
     "collapsed": false,
     "input": [
      "desc.shape"
     ],
     "language": "python",
     "metadata": {},
     "outputs": [
      {
       "metadata": {},
       "output_type": "pyout",
       "prompt_number": 51,
       "text": [
        "(43, 128)"
       ]
      }
     ],
     "prompt_number": 51
    },
    {
     "cell_type": "code",
     "collapsed": false,
     "input": [],
     "language": "python",
     "metadata": {},
     "outputs": []
    }
   ],
   "metadata": {}
  }
 ]
}