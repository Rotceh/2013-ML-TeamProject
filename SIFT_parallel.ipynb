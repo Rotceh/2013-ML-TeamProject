{
 "metadata": {
  "name": ""
 },
 "nbformat": 3,
 "nbformat_minor": 0,
 "worksheets": [
  {
   "cells": [
    {
     "cell_type": "code",
     "collapsed": false,
     "input": [
      "from __future__ import division\n",
      "import numpy as np\n",
      "import pandas as pd\n",
      "import cv2"
     ],
     "language": "python",
     "metadata": {},
     "outputs": [],
     "prompt_number": 1
    },
    {
     "cell_type": "code",
     "collapsed": false,
     "input": [
      "%%time\n",
      "from util.get_data import get_train_test_suite, get_new_suite\n",
      "SUITE_NAME = \"60x60grey\"\n",
      "df_train, df_test, train_Y, train_X, test_Y, test_X = get_new_suite(suite_name=SUITE_NAME)"
     ],
     "language": "python",
     "metadata": {},
     "outputs": [
      {
       "output_type": "stream",
       "stream": "stdout",
       "text": [
        "CPU times: user 13.1 s, sys: 449 ms, total: 13.5 s\n",
        "Wall time: 13.5 s\n"
       ]
      }
     ],
     "prompt_number": 2
    },
    {
     "cell_type": "heading",
     "level": 2,
     "metadata": {},
     "source": [
      "Parallel setup"
     ]
    },
    {
     "cell_type": "code",
     "collapsed": false,
     "input": [
      "from IPython.parallel import Client"
     ],
     "language": "python",
     "metadata": {},
     "outputs": [],
     "prompt_number": 3
    },
    {
     "cell_type": "code",
     "collapsed": false,
     "input": [
      "rc = Client()"
     ],
     "language": "python",
     "metadata": {},
     "outputs": [],
     "prompt_number": 4
    },
    {
     "cell_type": "code",
     "collapsed": false,
     "input": [
      "rc.ids"
     ],
     "language": "python",
     "metadata": {},
     "outputs": [
      {
       "metadata": {},
       "output_type": "pyout",
       "prompt_number": 5,
       "text": [
        "[0, 1, 2, 3, 4, 5, 6, 7, 8, 9, 10, 11, 12, 13, 14]"
       ]
      }
     ],
     "prompt_number": 5
    },
    {
     "cell_type": "code",
     "collapsed": false,
     "input": [
      "dview = rc[:]"
     ],
     "language": "python",
     "metadata": {},
     "outputs": [],
     "prompt_number": 6
    },
    {
     "cell_type": "code",
     "collapsed": false,
     "input": [
      "dview.block = True"
     ],
     "language": "python",
     "metadata": {},
     "outputs": [],
     "prompt_number": 7
    },
    {
     "cell_type": "code",
     "collapsed": false,
     "input": [
      "%%px\n",
      "from __future__ import division\n",
      "import numpy as np\n",
      "import pandas as pd\n",
      "import cv2"
     ],
     "language": "python",
     "metadata": {},
     "outputs": [],
     "prompt_number": 8
    },
    {
     "cell_type": "code",
     "collapsed": false,
     "input": [
      "dview['df_train'] = df_train\n",
      "dview['train_X'] = train_X\n",
      "\n",
      "dview['df_test'] = df_test\n",
      "dview['test_X'] = test_X"
     ],
     "language": "python",
     "metadata": {},
     "outputs": [],
     "prompt_number": 9
    },
    {
     "cell_type": "code",
     "collapsed": false,
     "input": [
      "%%px\n",
      "class Instance(object):\n",
      "    __slots__ = [\"ix\", \"zwd\", \"kp_list\", \"desc_list\"]\n",
      "    def __init__(self, ix, zwd, kp_list=None, desc_list=None):\n",
      "        self.ix = ix\n",
      "        self.zwd = zwd\n",
      "        self.kp_list = [] if kp_list is None else kp_list\n",
      "        self.desc_list = [] if desc_list is None else desc_list"
     ],
     "language": "python",
     "metadata": {},
     "outputs": [],
     "prompt_number": 10
    },
    {
     "cell_type": "code",
     "collapsed": false,
     "input": [
      "%%px\n",
      "group_train = df_train.groupby(\"y\")\n",
      "group_inst_ix = [v for v in group_train.groups.values()]"
     ],
     "language": "python",
     "metadata": {},
     "outputs": [],
     "prompt_number": 11
    },
    {
     "cell_type": "code",
     "collapsed": false,
     "input": [
      "%%time\n",
      "%%px\n",
      "zwd_inst_mat = [\n",
      "    [Instance(ix=ix, zwd=zwd) for ix in ix_array] \n",
      "    for ix_array, zwd in zip(group_inst_ix, range(1, 13))\n",
      "]\n",
      "flatten_inst_arary = np.array(\n",
      "    [inst for inst_array in zwd_inst_mat for inst in inst_array]\n",
      ")"
     ],
     "language": "python",
     "metadata": {},
     "outputs": [
      {
       "output_type": "stream",
       "stream": "stdout",
       "text": [
        "CPU times: user 36 ms, sys: 1e+03 \u00b5s, total: 37 ms\n",
        "Wall time: 75.9 ms\n"
       ]
      }
     ],
     "prompt_number": 12
    },
    {
     "cell_type": "code",
     "collapsed": false,
     "input": [
      "dview['len(flatten_inst_arary)']"
     ],
     "language": "python",
     "metadata": {},
     "outputs": [
      {
       "metadata": {},
       "output_type": "pyout",
       "prompt_number": 13,
       "text": [
        "[9216,\n",
        " 9216,\n",
        " 9216,\n",
        " 9216,\n",
        " 9216,\n",
        " 9216,\n",
        " 9216,\n",
        " 9216,\n",
        " 9216,\n",
        " 9216,\n",
        " 9216,\n",
        " 9216,\n",
        " 9216,\n",
        " 9216,\n",
        " 9216]"
       ]
      }
     ],
     "prompt_number": 13
    },
    {
     "cell_type": "heading",
     "level": 2,
     "metadata": {},
     "source": [
      "SIFT feature extraction"
     ]
    },
    {
     "cell_type": "code",
     "collapsed": false,
     "input": [
      "%%px\n",
      "def grey_convert(wd_array):\n",
      "    \"\"\"convert [0, 1] greyscale to [0, 255] (dark, white)\"\"\"\n",
      "    return np.round((1 - wd_array) * 255).astype(np.uint8)"
     ],
     "language": "python",
     "metadata": {},
     "outputs": [],
     "prompt_number": 14
    },
    {
     "cell_type": "code",
     "collapsed": false,
     "input": [
      "%%px\n",
      "PIXEL_X = 60\n",
      "PIXEL_Y = 60\n",
      "\n",
      "sigma = 1.4 # default: 1.6\n",
      "contrastThreshold = 0.03 # default: 0.04\n",
      "nOctaveLayers = 5  # default: 3\n",
      "edgeThreshold = 7 # default: 10\n",
      "\n",
      "sift = cv2.SIFT(\n",
      "    sigma=sigma, \n",
      "    contrastThreshold=contrastThreshold,\n",
      "    nOctaveLayers=nOctaveLayers,\n",
      "    edgeThreshold=edgeThreshold\n",
      ")"
     ],
     "language": "python",
     "metadata": {},
     "outputs": [],
     "prompt_number": 15
    },
    {
     "cell_type": "code",
     "collapsed": false,
     "input": [
      "%%time\n",
      "%%px\n",
      "for inst in flatten_inst_arary:\n",
      "    inst.kp_list, inst.desc_list = sift.detectAndCompute(\n",
      "        grey_convert(train_X[inst.ix].reshape(PIXEL_X, PIXEL_Y)),\n",
      "        None\n",
      "    )"
     ],
     "language": "python",
     "metadata": {},
     "outputs": [
      {
       "output_type": "stream",
       "stream": "stdout",
       "text": [
        "CPU times: user 13.6 s, sys: 1.47 s, total: 15.1 s\n",
        "Wall time: 1min 30s\n"
       ]
      }
     ],
     "prompt_number": 16
    },
    {
     "cell_type": "code",
     "collapsed": false,
     "input": [
      "def get_total_features():\n",
      "    return sum(len(x.kp_list) for x in flatten_inst_arary)\n",
      "\n",
      "ar = dview.apply_sync(get_total_features)\n",
      "np.all(np.equal(ar, ar)), ar[0]"
     ],
     "language": "python",
     "metadata": {},
     "outputs": [
      {
       "metadata": {},
       "output_type": "pyout",
       "prompt_number": 17,
       "text": [
        "(True, 426896)"
       ]
      }
     ],
     "prompt_number": 17
    },
    {
     "cell_type": "code",
     "collapsed": false,
     "input": [
      "def get_avg_features():\n",
      "    return np.mean([len(inst.kp_list) for inst in flatten_inst_arary])\n",
      "\n",
      "ar = dview.apply_sync(get_avg_features)\n",
      "np.all(np.equal(ar, ar)), ar[0]"
     ],
     "language": "python",
     "metadata": {},
     "outputs": [
      {
       "metadata": {},
       "output_type": "pyout",
       "prompt_number": 18,
       "text": [
        "(True, 46.321180555555557)"
       ]
      }
     ],
     "prompt_number": 18
    },
    {
     "cell_type": "heading",
     "level": 2,
     "metadata": {},
     "source": [
      "Matching"
     ]
    },
    {
     "cell_type": "heading",
     "level": 3,
     "metadata": {},
     "source": [
      "Make output dataframe"
     ]
    },
    {
     "cell_type": "code",
     "collapsed": false,
     "input": [
      "TOP_K = 150\n",
      "N_ZODIAC = 12\n",
      "out_dict = {'y': np.zeros(len(train_X))}\n",
      "\n",
      "# Top K columns\n",
      "top_column_names = [\n",
      "    \"z{}_top{}\".format(zwd+1, k+1)\n",
      "    for zwd in range(N_ZODIAC) for k in range(TOP_K)\n",
      "]\n",
      "# Mean columns\n",
      "mean_column_names = [\n",
      "    \"z{}_mean\".format(zwd+1) for zwd in range(N_ZODIAC)\n",
      "]\n",
      "out_dict.update({\n",
      "    col_name : 0 for col_name in top_column_names + mean_column_names\n",
      "})\n",
      "df_sift_train_out = pd.DataFrame(out_dict, dtype=np.float)\n",
      "\n",
      "# sort column name for better human readability\n",
      "df_sift_train_out.columns = (\n",
      "    ['y'] +\n",
      "    top_column_names +\n",
      "    mean_column_names\n",
      ")   "
     ],
     "language": "python",
     "metadata": {},
     "outputs": [],
     "prompt_number": 42
    },
    {
     "cell_type": "heading",
     "level": 3,
     "metadata": {},
     "source": [
      "FLANN Matcher"
     ]
    },
    {
     "cell_type": "code",
     "collapsed": false,
     "input": [
      "%%px\n",
      "# FLANN parameters\n",
      "FLANN_INDEX_KDTREE = 0\n",
      "index_params = dict(algorithm=FLANN_INDEX_KDTREE, trees=5)\n",
      "search_params = dict(checks=100)   # or pass empty dictionary\n",
      "\n",
      "flann = cv2.FlannBasedMatcher(index_params, search_params)"
     ],
     "language": "python",
     "metadata": {},
     "outputs": [],
     "prompt_number": 43
    },
    {
     "cell_type": "code",
     "collapsed": false,
     "input": [
      "%%time\n",
      "dview['TOP_K'] = TOP_K\n",
      "dview['DISTANCE_TH'] = 250\n",
      "\n",
      "dview['df_sift_train_out'] = df_sift_train_out"
     ],
     "language": "python",
     "metadata": {},
     "outputs": [
      {
       "output_type": "stream",
       "stream": "stdout",
       "text": [
        "CPU times: user 1.99 s, sys: 2.95 s, total: 4.94 s\n",
        "Wall time: 4.33 s\n"
       ]
      }
     ],
     "prompt_number": 44
    },
    {
     "cell_type": "code",
     "collapsed": false,
     "input": [
      "def sift_match():\n",
      "    for inst in flatten_inst_arary[inst_i_arr]:\n",
      "        for zwd, zwd_inst_list in zip(range(1, 13), zwd_inst_mat):\n",
      "            prop_matched_list = []\n",
      "            for zwd_inst in zwd_inst_list:\n",
      "                # print(i)\n",
      "                if zwd_inst.desc_list is None:\n",
      "                    # print(\"{} of zwd({}) has no features\".format(zwd_inst.ix, zwd_inst.zwd))\n",
      "                    prop_matched_list.append(0)\n",
      "                    continue\n",
      "                len_feature = len(zwd_inst.desc_list)\n",
      "                all_matches = flann.knnMatch(\n",
      "                    inst.desc_list,\n",
      "                    zwd_inst.desc_list,\n",
      "                    k=len_feature\n",
      "                )\n",
      "                matches_mat = np.unique([\n",
      "                    m.trainIdx for row in all_matches for m in row if m.distance < DISTANCE_TH\n",
      "                ])\n",
      "                prop_matched_list.append(\n",
      "                   len(matches_mat) / float(len_feature)\n",
      "                )\n",
      "            # write match result to data fame\n",
      "            # prop_matched_list.sort(reverse=True)\n",
      "            prop_matched_list = np.sort(prop_matched_list)[::-1]\n",
      "            df_sift_train_out.ix[inst.ix, \"z{}_top1\".format(zwd):\"z{}_top{}\".format(zwd, TOP_K)] = prop_matched_list[:TOP_K]\n",
      "            df_sift_train_out.ix[inst.ix, \"z{}_mean\".format(zwd)] = np.mean(prop_matched_list)"
     ],
     "language": "python",
     "metadata": {},
     "outputs": [],
     "prompt_number": 45
    },
    {
     "cell_type": "code",
     "collapsed": false,
     "input": [
      "len_total_inst = dview['len(flatten_inst_arary)'][0]\n",
      "dview.scatter('inst_i_arr', range(len_total_inst))"
     ],
     "language": "python",
     "metadata": {},
     "outputs": [],
     "prompt_number": 155
    },
    {
     "cell_type": "code",
     "collapsed": false,
     "input": [
      "ar = dview.apply_async(sift_match)"
     ],
     "language": "python",
     "metadata": {},
     "outputs": [],
     "prompt_number": 47
    },
    {
     "cell_type": "code",
     "collapsed": false,
     "input": [
      "ar.wait_interactive()"
     ],
     "language": "python",
     "metadata": {},
     "outputs": [
      {
       "output_type": "stream",
       "stream": "stdout",
       "text": [
        "\n",
        "done\n"
       ]
      }
     ],
     "prompt_number": 93
    },
    {
     "cell_type": "heading",
     "level": 2,
     "metadata": {},
     "source": [
      "Gather results"
     ]
    },
    {
     "cell_type": "code",
     "collapsed": false,
     "input": [
      "%%time\n",
      "returned_df_train_list = dview['df_sift_train_out']"
     ],
     "language": "python",
     "metadata": {},
     "outputs": [
      {
       "output_type": "stream",
       "stream": "stdout",
       "text": [
        "CPU times: user 2.14 s, sys: 2.97 s, total: 5.11 s\n",
        "Wall time: 5.14 s\n"
       ]
      }
     ],
     "prompt_number": 99
    },
    {
     "cell_type": "markdown",
     "metadata": {},
     "source": [
      "\u5982\u679c\u641e\u7838\u4e86\u7684\u8a71\n",
      "\n",
      "```\n",
      "scatter_i = dview['inst_i_arr']\n",
      "def get_flat_ix():\n",
      "    return [inst.ix for inst in flatten_inst_arary]\n",
      "\n",
      "flat_ix = np.array(rc[0].apply_sync(get_flat_ix))\n",
      "df_final = df_sift_train_out.copy()\n",
      "for i, df in zip(scatter_i, returned_df_out_list):\n",
      "    ix = flat_ix[i]\n",
      "    df_final.ix[ix, :] = df.ix[ix, :]\n",
      "```"
     ]
    },
    {
     "cell_type": "code",
     "collapsed": false,
     "input": [
      "df_final_train = df_sift_train_out.copy()"
     ],
     "language": "python",
     "metadata": {},
     "outputs": [],
     "prompt_number": 141
    },
    {
     "cell_type": "code",
     "collapsed": false,
     "input": [
      "def get_flat_ix():\n",
      "    return [inst.ix for inst in flatten_inst_arary[inst_i_arr]]\n",
      "\n",
      "scattered_ix = dview.apply_sync(get_flat_ix)"
     ],
     "language": "python",
     "metadata": {},
     "outputs": [],
     "prompt_number": 160
    },
    {
     "cell_type": "code",
     "collapsed": false,
     "input": [
      "df_final_train = df_sift_train_out.copy()\n",
      "for ix, df in zip(scattered_ix, returned_df_train_list):\n",
      "    df_final_train.ix[ix, :] = df.ix[ix, :]"
     ],
     "language": "python",
     "metadata": {},
     "outputs": [],
     "prompt_number": 162
    },
    {
     "cell_type": "code",
     "collapsed": false,
     "input": [
      "df_final_train.ix[:10,:10]"
     ],
     "language": "python",
     "metadata": {},
     "outputs": [
      {
       "html": [
        "<div style=\"max-height:1000px;max-width:1500px;overflow:auto;\">\n",
        "<table border=\"1\" class=\"dataframe\">\n",
        "  <thead>\n",
        "    <tr style=\"text-align: right;\">\n",
        "      <th></th>\n",
        "      <th>y</th>\n",
        "      <th>z1_top1</th>\n",
        "      <th>z1_top2</th>\n",
        "      <th>z1_top3</th>\n",
        "      <th>z1_top4</th>\n",
        "      <th>z1_top5</th>\n",
        "      <th>z1_top6</th>\n",
        "      <th>z1_top7</th>\n",
        "      <th>z1_top8</th>\n",
        "      <th>z1_top9</th>\n",
        "    </tr>\n",
        "  </thead>\n",
        "  <tbody>\n",
        "    <tr>\n",
        "      <th>0 </th>\n",
        "      <td> 0</td>\n",
        "      <td> 0.615385</td>\n",
        "      <td> 0.560976</td>\n",
        "      <td> 0.558140</td>\n",
        "      <td> 0.551724</td>\n",
        "      <td> 0.533333</td>\n",
        "      <td> 0.473684</td>\n",
        "      <td> 0.469697</td>\n",
        "      <td> 0.458333</td>\n",
        "      <td> 0.447368</td>\n",
        "    </tr>\n",
        "    <tr>\n",
        "      <th>1 </th>\n",
        "      <td> 0</td>\n",
        "      <td> 1.000000</td>\n",
        "      <td> 0.684211</td>\n",
        "      <td> 0.653846</td>\n",
        "      <td> 0.604651</td>\n",
        "      <td> 0.588235</td>\n",
        "      <td> 0.586207</td>\n",
        "      <td> 0.564103</td>\n",
        "      <td> 0.555556</td>\n",
        "      <td> 0.536585</td>\n",
        "    </tr>\n",
        "    <tr>\n",
        "      <th>2 </th>\n",
        "      <td> 0</td>\n",
        "      <td> 0.488372</td>\n",
        "      <td> 0.448276</td>\n",
        "      <td> 0.444444</td>\n",
        "      <td> 0.444444</td>\n",
        "      <td> 0.434783</td>\n",
        "      <td> 0.413793</td>\n",
        "      <td> 0.400000</td>\n",
        "      <td> 0.400000</td>\n",
        "      <td> 0.393939</td>\n",
        "    </tr>\n",
        "    <tr>\n",
        "      <th>3 </th>\n",
        "      <td> 0</td>\n",
        "      <td> 0.466667</td>\n",
        "      <td> 0.448276</td>\n",
        "      <td> 0.444444</td>\n",
        "      <td> 0.421053</td>\n",
        "      <td> 0.418605</td>\n",
        "      <td> 0.400000</td>\n",
        "      <td> 0.388889</td>\n",
        "      <td> 0.384615</td>\n",
        "      <td> 0.370370</td>\n",
        "    </tr>\n",
        "    <tr>\n",
        "      <th>4 </th>\n",
        "      <td> 0</td>\n",
        "      <td> 0.807692</td>\n",
        "      <td> 0.733333</td>\n",
        "      <td> 0.720930</td>\n",
        "      <td> 0.692308</td>\n",
        "      <td> 0.666667</td>\n",
        "      <td> 0.655172</td>\n",
        "      <td> 0.652174</td>\n",
        "      <td> 0.651163</td>\n",
        "      <td> 0.647059</td>\n",
        "    </tr>\n",
        "    <tr>\n",
        "      <th>5 </th>\n",
        "      <td> 0</td>\n",
        "      <td> 0.588235</td>\n",
        "      <td> 0.538462</td>\n",
        "      <td> 0.538462</td>\n",
        "      <td> 0.534884</td>\n",
        "      <td> 0.533333</td>\n",
        "      <td> 0.500000</td>\n",
        "      <td> 0.482759</td>\n",
        "      <td> 0.470588</td>\n",
        "      <td> 0.441860</td>\n",
        "    </tr>\n",
        "    <tr>\n",
        "      <th>6 </th>\n",
        "      <td> 0</td>\n",
        "      <td> 0.807692</td>\n",
        "      <td> 0.800000</td>\n",
        "      <td> 0.697674</td>\n",
        "      <td> 0.689655</td>\n",
        "      <td> 0.684211</td>\n",
        "      <td> 0.676471</td>\n",
        "      <td> 0.666667</td>\n",
        "      <td> 0.652174</td>\n",
        "      <td> 0.647059</td>\n",
        "    </tr>\n",
        "    <tr>\n",
        "      <th>7 </th>\n",
        "      <td> 0</td>\n",
        "      <td> 0.400000</td>\n",
        "      <td> 0.333333</td>\n",
        "      <td> 0.315789</td>\n",
        "      <td> 0.310345</td>\n",
        "      <td> 0.304348</td>\n",
        "      <td> 0.296296</td>\n",
        "      <td> 0.296296</td>\n",
        "      <td> 0.285714</td>\n",
        "      <td> 0.285714</td>\n",
        "    </tr>\n",
        "    <tr>\n",
        "      <th>8 </th>\n",
        "      <td> 0</td>\n",
        "      <td> 0.807692</td>\n",
        "      <td> 0.674419</td>\n",
        "      <td> 0.641026</td>\n",
        "      <td> 0.620690</td>\n",
        "      <td> 0.604651</td>\n",
        "      <td> 0.600000</td>\n",
        "      <td> 0.600000</td>\n",
        "      <td> 0.583333</td>\n",
        "      <td> 0.578947</td>\n",
        "    </tr>\n",
        "    <tr>\n",
        "      <th>9 </th>\n",
        "      <td> 0</td>\n",
        "      <td> 0.315789</td>\n",
        "      <td> 0.307692</td>\n",
        "      <td> 0.304348</td>\n",
        "      <td> 0.285714</td>\n",
        "      <td> 0.257143</td>\n",
        "      <td> 0.250000</td>\n",
        "      <td> 0.250000</td>\n",
        "      <td> 0.244898</td>\n",
        "      <td> 0.241379</td>\n",
        "    </tr>\n",
        "    <tr>\n",
        "      <th>10</th>\n",
        "      <td> 0</td>\n",
        "      <td> 0.600000</td>\n",
        "      <td> 0.576923</td>\n",
        "      <td> 0.555556</td>\n",
        "      <td> 0.541667</td>\n",
        "      <td> 0.533333</td>\n",
        "      <td> 0.512821</td>\n",
        "      <td> 0.511628</td>\n",
        "      <td> 0.500000</td>\n",
        "      <td> 0.487805</td>\n",
        "    </tr>\n",
        "  </tbody>\n",
        "</table>\n",
        "</div>"
       ],
       "metadata": {},
       "output_type": "pyout",
       "prompt_number": 163,
       "text": [
        "    y   z1_top1   z1_top2   z1_top3   z1_top4   z1_top5   z1_top6   z1_top7  \\\n",
        "0   0  0.615385  0.560976  0.558140  0.551724  0.533333  0.473684  0.469697   \n",
        "1   0  1.000000  0.684211  0.653846  0.604651  0.588235  0.586207  0.564103   \n",
        "2   0  0.488372  0.448276  0.444444  0.444444  0.434783  0.413793  0.400000   \n",
        "3   0  0.466667  0.448276  0.444444  0.421053  0.418605  0.400000  0.388889   \n",
        "4   0  0.807692  0.733333  0.720930  0.692308  0.666667  0.655172  0.652174   \n",
        "5   0  0.588235  0.538462  0.538462  0.534884  0.533333  0.500000  0.482759   \n",
        "6   0  0.807692  0.800000  0.697674  0.689655  0.684211  0.676471  0.666667   \n",
        "7   0  0.400000  0.333333  0.315789  0.310345  0.304348  0.296296  0.296296   \n",
        "8   0  0.807692  0.674419  0.641026  0.620690  0.604651  0.600000  0.600000   \n",
        "9   0  0.315789  0.307692  0.304348  0.285714  0.257143  0.250000  0.250000   \n",
        "10  0  0.600000  0.576923  0.555556  0.541667  0.533333  0.512821  0.511628   \n",
        "\n",
        "     z1_top8   z1_top9  \n",
        "0   0.458333  0.447368  \n",
        "1   0.555556  0.536585  \n",
        "2   0.400000  0.393939  \n",
        "3   0.384615  0.370370  \n",
        "4   0.651163  0.647059  \n",
        "5   0.470588  0.441860  \n",
        "6   0.652174  0.647059  \n",
        "7   0.285714  0.285714  \n",
        "8   0.583333  0.578947  \n",
        "9   0.244898  0.241379  \n",
        "10  0.500000  0.487805  "
       ]
      }
     ],
     "prompt_number": 163
    },
    {
     "cell_type": "code",
     "collapsed": false,
     "input": [
      "CSV_TRAIN_SIFT = \"dataset/train_60x60_grey_SIFT_top150_distth250.csv\"\n",
      "df_final_train['y'] = train_Y.values\n",
      "df_final_train.to_csv(CSV_TRAIN_SIFT, index=False)"
     ],
     "language": "python",
     "metadata": {},
     "outputs": [],
     "prompt_number": 164
    },
    {
     "cell_type": "heading",
     "level": 2,
     "metadata": {},
     "source": [
      "Applying on Test Data"
     ]
    },
    {
     "cell_type": "code",
     "collapsed": false,
     "input": [
      "out_dict = {'y': np.zeros(len(test_X))}\n",
      "\n",
      "# Top K columns\n",
      "top_column_names = [\n",
      "    \"z{}_top{}\".format(zwd+1, k+1)\n",
      "    for zwd in range(N_ZODIAC) for k in range(TOP_K)\n",
      "]\n",
      "# Mean columns\n",
      "mean_column_names = [\n",
      "    \"z{}_mean\".format(zwd+1) for zwd in range(N_ZODIAC)\n",
      "]\n",
      "out_dict.update({\n",
      "    col_name : 0 for col_name in top_column_names + mean_column_names\n",
      "})\n",
      "df_sift_test_out = pd.DataFrame(out_dict, dtype=np.float)\n",
      "\n",
      "# sort column name for better human readability\n",
      "df_sift_test_out.columns = (\n",
      "    ['y'] +\n",
      "    top_column_names +\n",
      "    mean_column_names\n",
      ")   "
     ],
     "language": "python",
     "metadata": {},
     "outputs": [],
     "prompt_number": "*"
    },
    {
     "cell_type": "code",
     "collapsed": false,
     "input": [
      "%%time\n",
      "dview['df_sift_test_out'] = df_sift_test_out"
     ],
     "language": "python",
     "metadata": {},
     "outputs": [],
     "prompt_number": "*"
    },
    {
     "cell_type": "code",
     "collapsed": false,
     "input": [
      "%%time\n",
      "%%px\n",
      "group_test = df_test.groupby(\"y\")\n",
      "group_test_inst_ix = [v for v in group_test.groups.values()]\n",
      "\n",
      "zwd_test_inst_mat = [\n",
      "    [Instance(ix=ix, zwd=zwd) for ix in ix_array] \n",
      "    for ix_array, zwd in zip(group_test_inst_ix, range(1, 13))\n",
      "]\n",
      "flatten_test_inst_arary = np.array(\n",
      "    [inst for inst_array in zwd_test_inst_mat for inst in inst_array]\n",
      ")"
     ],
     "language": "python",
     "metadata": {},
     "outputs": [],
     "prompt_number": "*"
    },
    {
     "cell_type": "code",
     "collapsed": false,
     "input": [
      "dview.get(('len(flatten_test_inst_arary)', 'len(flatten_inst_arary)'))"
     ],
     "language": "python",
     "metadata": {},
     "outputs": [
      {
       "metadata": {},
       "output_type": "pyout",
       "prompt_number": 123,
       "text": [
        "[[3072, 9216],\n",
        " [3072, 9216],\n",
        " [3072, 9216],\n",
        " [3072, 9216],\n",
        " [3072, 9216],\n",
        " [3072, 9216],\n",
        " [3072, 9216],\n",
        " [3072, 9216],\n",
        " [3072, 9216],\n",
        " [3072, 9216],\n",
        " [3072, 9216],\n",
        " [3072, 9216],\n",
        " [3072, 9216],\n",
        " [3072, 9216],\n",
        " [3072, 9216]]"
       ]
      }
     ],
     "prompt_number": 123
    },
    {
     "cell_type": "heading",
     "level": 3,
     "metadata": {},
     "source": [
      "SIFT"
     ]
    },
    {
     "cell_type": "code",
     "collapsed": false,
     "input": [
      "%%time\n",
      "%%px\n",
      "for inst in flatten_test_inst_arary:\n",
      "    inst.kp_list, inst.desc_list = sift.detectAndCompute(\n",
      "        grey_convert(test_X[inst.ix].reshape(PIXEL_X, PIXEL_Y)),\n",
      "        None\n",
      "    )"
     ],
     "language": "python",
     "metadata": {},
     "outputs": [],
     "prompt_number": "*"
    },
    {
     "cell_type": "code",
     "collapsed": false,
     "input": [
      "def get_total_test_features():\n",
      "    return sum(len(x.kp_list) for x in flatten_test_inst_arary)\n",
      "\n",
      "ar = dview.apply_sync(get_total_test_features)\n",
      "np.all(np.equal(ar, ar)), ar[0]"
     ],
     "language": "python",
     "metadata": {},
     "outputs": [
      {
       "metadata": {},
       "output_type": "pyout",
       "prompt_number": 128,
       "text": [
        "(True, 141581)"
       ]
      }
     ],
     "prompt_number": 128
    },
    {
     "cell_type": "code",
     "collapsed": false,
     "input": [
      "def get_avg_test_features():\n",
      "    return np.mean([len(inst.kp_list) for inst in flatten_test_inst_arary])\n",
      "\n",
      "ar = dview.apply_sync(get_avg_test_features)\n",
      "np.all(np.equal(ar, ar)), ar[0]"
     ],
     "language": "python",
     "metadata": {},
     "outputs": [
      {
       "metadata": {},
       "output_type": "pyout",
       "prompt_number": 129,
       "text": [
        "(True, 46.087565104166664)"
       ]
      }
     ],
     "prompt_number": 129
    },
    {
     "cell_type": "heading",
     "level": 3,
     "metadata": {},
     "source": [
      "FLANN Match"
     ]
    },
    {
     "cell_type": "code",
     "collapsed": false,
     "input": [
      "def sift_match_test():\n",
      "    for inst in flatten_test_inst_arary[inst_i_arr]:\n",
      "        for zwd, zwd_inst_list in zip(range(1, 13), zwd_inst_mat):\n",
      "            prop_matched_list = []\n",
      "            for zwd_inst in zwd_inst_list:\n",
      "                # print(i)\n",
      "                if zwd_inst.desc_list is None:\n",
      "                    # print(\"{} of zwd({}) has no features\".format(zwd_inst.ix, zwd_inst.zwd))\n",
      "                    prop_matched_list.append(0)\n",
      "                    continue\n",
      "                len_feature = len(zwd_inst.desc_list)\n",
      "                all_matches = flann.knnMatch(\n",
      "                    inst.desc_list,\n",
      "                    zwd_inst.desc_list,\n",
      "                    k=len_feature\n",
      "                )\n",
      "                matches_mat = np.unique([\n",
      "                    m.trainIdx for row in all_matches for m in row if m.distance < DISTANCE_TH\n",
      "                ])\n",
      "                prop_matched_list.append(\n",
      "                   len(matches_mat) / float(len_feature)\n",
      "                )\n",
      "            # write match result to data fame\n",
      "            # prop_matched_list.sort(reverse=True)\n",
      "            prop_matched_list = np.sort(prop_matched_list)[::-1]\n",
      "            df_sift_test_out.ix[inst.ix, \"z{}_top1\".format(zwd):\"z{}_top{}\".format(zwd, TOP_K)] = prop_matched_list[:TOP_K]\n",
      "            df_sift_test_out.ix[inst.ix, \"z{}_mean\".format(zwd)] = np.mean(prop_matched_list)"
     ],
     "language": "python",
     "metadata": {},
     "outputs": [],
     "prompt_number": "*"
    },
    {
     "cell_type": "code",
     "collapsed": false,
     "input": [
      "len_total_inst = dview['len(flatten_test_inst_arary)'][0]\n",
      "dview.scatter('inst_i_arr', range(len_total_inst))"
     ],
     "language": "python",
     "metadata": {},
     "outputs": [],
     "prompt_number": "*"
    },
    {
     "cell_type": "code",
     "collapsed": false,
     "input": [
      "ar = dview.apply_async(sift_match_test)"
     ],
     "language": "python",
     "metadata": {},
     "outputs": [],
     "prompt_number": "*"
    },
    {
     "cell_type": "code",
     "collapsed": false,
     "input": [
      "ar.wall_time, ar.ready() # get how many time passed\n",
      "ar.wait_interactive()"
     ],
     "language": "python",
     "metadata": {},
     "outputs": [
      {
       "output_type": "stream",
       "stream": "stdout",
       "text": [
        "\n",
        "done\n"
       ]
      }
     ],
     "prompt_number": 98
    },
    {
     "cell_type": "heading",
     "level": 3,
     "metadata": {},
     "source": [
      "Gather"
     ]
    },
    {
     "cell_type": "code",
     "collapsed": false,
     "input": [
      "returned_df_test_list = dview['df_sift_test_out']"
     ],
     "language": "python",
     "metadata": {},
     "outputs": [],
     "prompt_number": 95
    },
    {
     "cell_type": "code",
     "collapsed": false,
     "input": [
      "df_final_test = df_sift_test_out.copy()\n",
      "for df in returned_df_test_list:\n",
      "    df_final_test = df + df_final_test"
     ],
     "language": "python",
     "metadata": {},
     "outputs": [],
     "prompt_number": 96
    },
    {
     "cell_type": "code",
     "collapsed": false,
     "input": [
      "df_final_test.ix[140:150, :10]"
     ],
     "language": "python",
     "metadata": {},
     "outputs": [
      {
       "html": [
        "<div style=\"max-height:1000px;max-width:1500px;overflow:auto;\">\n",
        "<table border=\"1\" class=\"dataframe\">\n",
        "  <thead>\n",
        "    <tr style=\"text-align: right;\">\n",
        "      <th></th>\n",
        "      <th>y</th>\n",
        "      <th>z1_top1</th>\n",
        "      <th>z1_top2</th>\n",
        "      <th>z1_top3</th>\n",
        "      <th>z1_top4</th>\n",
        "      <th>z1_top5</th>\n",
        "      <th>z1_top6</th>\n",
        "      <th>z1_top7</th>\n",
        "      <th>z1_top8</th>\n",
        "      <th>z1_top9</th>\n",
        "    </tr>\n",
        "  </thead>\n",
        "  <tbody>\n",
        "    <tr>\n",
        "      <th>140</th>\n",
        "      <td> 0</td>\n",
        "      <td> 0.411765</td>\n",
        "      <td> 0.333333</td>\n",
        "      <td> 0.263158</td>\n",
        "      <td> 0.263158</td>\n",
        "      <td> 0.250000</td>\n",
        "      <td> 0.239130</td>\n",
        "      <td> 0.235294</td>\n",
        "      <td> 0.233333</td>\n",
        "      <td> 0.232558</td>\n",
        "    </tr>\n",
        "    <tr>\n",
        "      <th>141</th>\n",
        "      <td> 0</td>\n",
        "      <td> 0.695652</td>\n",
        "      <td> 0.692308</td>\n",
        "      <td> 0.611111</td>\n",
        "      <td> 0.611111</td>\n",
        "      <td> 0.575000</td>\n",
        "      <td> 0.533333</td>\n",
        "      <td> 0.511628</td>\n",
        "      <td> 0.500000</td>\n",
        "      <td> 0.470588</td>\n",
        "    </tr>\n",
        "    <tr>\n",
        "      <th>142</th>\n",
        "      <td> 0</td>\n",
        "      <td> 0.884615</td>\n",
        "      <td> 0.800000</td>\n",
        "      <td> 0.794872</td>\n",
        "      <td> 0.789474</td>\n",
        "      <td> 0.767442</td>\n",
        "      <td> 0.666667</td>\n",
        "      <td> 0.666667</td>\n",
        "      <td> 0.620690</td>\n",
        "      <td> 0.609756</td>\n",
        "    </tr>\n",
        "    <tr>\n",
        "      <th>143</th>\n",
        "      <td> 0</td>\n",
        "      <td> 0.739130</td>\n",
        "      <td> 0.692308</td>\n",
        "      <td> 0.589744</td>\n",
        "      <td> 0.578947</td>\n",
        "      <td> 0.551724</td>\n",
        "      <td> 0.534884</td>\n",
        "      <td> 0.534884</td>\n",
        "      <td> 0.526316</td>\n",
        "      <td> 0.518519</td>\n",
        "    </tr>\n",
        "    <tr>\n",
        "      <th>144</th>\n",
        "      <td> 0</td>\n",
        "      <td> 0.615385</td>\n",
        "      <td> 0.600000</td>\n",
        "      <td> 0.500000</td>\n",
        "      <td> 0.466667</td>\n",
        "      <td> 0.413043</td>\n",
        "      <td> 0.390244</td>\n",
        "      <td> 0.384615</td>\n",
        "      <td> 0.375000</td>\n",
        "      <td> 0.375000</td>\n",
        "    </tr>\n",
        "    <tr>\n",
        "      <th>145</th>\n",
        "      <td> 0</td>\n",
        "      <td> 0.576923</td>\n",
        "      <td> 0.400000</td>\n",
        "      <td> 0.395349</td>\n",
        "      <td> 0.388889</td>\n",
        "      <td> 0.388889</td>\n",
        "      <td> 0.342857</td>\n",
        "      <td> 0.333333</td>\n",
        "      <td> 0.333333</td>\n",
        "      <td> 0.333333</td>\n",
        "    </tr>\n",
        "    <tr>\n",
        "      <th>146</th>\n",
        "      <td> 0</td>\n",
        "      <td> 0.692308</td>\n",
        "      <td> 0.666667</td>\n",
        "      <td> 0.608696</td>\n",
        "      <td> 0.589744</td>\n",
        "      <td> 0.586207</td>\n",
        "      <td> 0.558140</td>\n",
        "      <td> 0.555556</td>\n",
        "      <td> 0.536585</td>\n",
        "      <td> 0.533333</td>\n",
        "    </tr>\n",
        "    <tr>\n",
        "      <th>147</th>\n",
        "      <td> 0</td>\n",
        "      <td> 0.076923</td>\n",
        "      <td> 0.038462</td>\n",
        "      <td> 0.025641</td>\n",
        "      <td> 0.023810</td>\n",
        "      <td> 0.023256</td>\n",
        "      <td> 0.021739</td>\n",
        "      <td> 0.021739</td>\n",
        "      <td> 0.016667</td>\n",
        "      <td> 0.011364</td>\n",
        "    </tr>\n",
        "    <tr>\n",
        "      <th>148</th>\n",
        "      <td> 0</td>\n",
        "      <td> 0.897436</td>\n",
        "      <td> 0.866667</td>\n",
        "      <td> 0.846154</td>\n",
        "      <td> 0.767442</td>\n",
        "      <td> 0.707317</td>\n",
        "      <td> 0.701493</td>\n",
        "      <td> 0.655172</td>\n",
        "      <td> 0.627907</td>\n",
        "      <td> 0.625000</td>\n",
        "    </tr>\n",
        "    <tr>\n",
        "      <th>149</th>\n",
        "      <td> 0</td>\n",
        "      <td> 0.666667</td>\n",
        "      <td> 0.500000</td>\n",
        "      <td> 0.470588</td>\n",
        "      <td> 0.470588</td>\n",
        "      <td> 0.466667</td>\n",
        "      <td> 0.461538</td>\n",
        "      <td> 0.461538</td>\n",
        "      <td> 0.444444</td>\n",
        "      <td> 0.434783</td>\n",
        "    </tr>\n",
        "    <tr>\n",
        "      <th>150</th>\n",
        "      <td> 0</td>\n",
        "      <td> 0.608696</td>\n",
        "      <td> 0.533333</td>\n",
        "      <td> 0.533333</td>\n",
        "      <td> 0.526316</td>\n",
        "      <td> 0.526316</td>\n",
        "      <td> 0.516129</td>\n",
        "      <td> 0.500000</td>\n",
        "      <td> 0.487179</td>\n",
        "      <td> 0.470588</td>\n",
        "    </tr>\n",
        "  </tbody>\n",
        "</table>\n",
        "</div>"
       ],
       "metadata": {},
       "output_type": "pyout",
       "prompt_number": 127,
       "text": [
        "     y   z1_top1   z1_top2   z1_top3   z1_top4   z1_top5   z1_top6   z1_top7  \\\n",
        "140  0  0.411765  0.333333  0.263158  0.263158  0.250000  0.239130  0.235294   \n",
        "141  0  0.695652  0.692308  0.611111  0.611111  0.575000  0.533333  0.511628   \n",
        "142  0  0.884615  0.800000  0.794872  0.789474  0.767442  0.666667  0.666667   \n",
        "143  0  0.739130  0.692308  0.589744  0.578947  0.551724  0.534884  0.534884   \n",
        "144  0  0.615385  0.600000  0.500000  0.466667  0.413043  0.390244  0.384615   \n",
        "145  0  0.576923  0.400000  0.395349  0.388889  0.388889  0.342857  0.333333   \n",
        "146  0  0.692308  0.666667  0.608696  0.589744  0.586207  0.558140  0.555556   \n",
        "147  0  0.076923  0.038462  0.025641  0.023810  0.023256  0.021739  0.021739   \n",
        "148  0  0.897436  0.866667  0.846154  0.767442  0.707317  0.701493  0.655172   \n",
        "149  0  0.666667  0.500000  0.470588  0.470588  0.466667  0.461538  0.461538   \n",
        "150  0  0.608696  0.533333  0.533333  0.526316  0.526316  0.516129  0.500000   \n",
        "\n",
        "      z1_top8   z1_top9  \n",
        "140  0.233333  0.232558  \n",
        "141  0.500000  0.470588  \n",
        "142  0.620690  0.609756  \n",
        "143  0.526316  0.518519  \n",
        "144  0.375000  0.375000  \n",
        "145  0.333333  0.333333  \n",
        "146  0.536585  0.533333  \n",
        "147  0.016667  0.011364  \n",
        "148  0.627907  0.625000  \n",
        "149  0.444444  0.434783  \n",
        "150  0.487179  0.470588  "
       ]
      }
     ],
     "prompt_number": 127
    },
    {
     "cell_type": "code",
     "collapsed": false,
     "input": [
      "CSV_TEST_SIFT = \"dataset/test_60x60_grey_SIFT_top150_distth250.csv\"\n",
      "df_final_test.to_csv(CSV_TEST_SIFT, index=False)"
     ],
     "language": "python",
     "metadata": {},
     "outputs": [],
     "prompt_number": 125
    },
    {
     "cell_type": "code",
     "collapsed": false,
     "input": [
      "ls -hl $CSV_TRAIN_SIFT $CSV_TEST_SIFT"
     ],
     "language": "python",
     "metadata": {},
     "outputs": [
      {
       "output_type": "stream",
       "stream": "stdout",
       "text": [
        "-rw-r--r-- 1 liang users  89M 2014-01-09 21:38 dataset/test_60x60_grey_SIFT_top150_distth250.csv\r\n",
        "-rw-r--r-- 1 liang users 199M 2014-01-09 22:18 dataset/train_60x60_grey_SIFT_top150_distth250.csv\r\n"
       ]
      }
     ],
     "prompt_number": 165
    },
    {
     "cell_type": "code",
     "collapsed": false,
     "input": [],
     "language": "python",
     "metadata": {},
     "outputs": []
    }
   ],
   "metadata": {}
  }
 ]
}