{
 "metadata": {
  "name": ""
 },
 "nbformat": 3,
 "nbformat_minor": 0,
 "worksheets": [
  {
   "cells": [
    {
     "cell_type": "code",
     "collapsed": false,
     "input": [
      "%%time\n",
      "from util.get_data import get_train_test_suite, get_new_suite\n",
      "SUITE_NAME = \"60x60grey\"\n",
      "df_train, df_test, train_Y, train_X, test_Y, test_X = get_new_suite(suite_name=SUITE_NAME)"
     ],
     "language": "python",
     "metadata": {},
     "outputs": [
      {
       "output_type": "stream",
       "stream": "stdout",
       "text": [
        "CPU times: user 13.3 s, sys: 426 ms, total: 13.7 s\n",
        "Wall time: 13.7 s\n"
       ]
      }
     ],
     "prompt_number": 1
    },
    {
     "cell_type": "code",
     "collapsed": false,
     "input": [
      "from __future__ import division\n",
      "import numpy as np\n",
      "import pandas as pd\n",
      "import cv2"
     ],
     "language": "python",
     "metadata": {},
     "outputs": [],
     "prompt_number": 20
    },
    {
     "cell_type": "heading",
     "level": 2,
     "metadata": {},
     "source": [
      "Parallel setup"
     ]
    },
    {
     "cell_type": "code",
     "collapsed": false,
     "input": [
      "from IPython.parallel import Client"
     ],
     "language": "python",
     "metadata": {},
     "outputs": [],
     "prompt_number": 2
    },
    {
     "cell_type": "code",
     "collapsed": false,
     "input": [
      "rc = Client()"
     ],
     "language": "python",
     "metadata": {},
     "outputs": [],
     "prompt_number": 3
    },
    {
     "cell_type": "code",
     "collapsed": false,
     "input": [
      "rc.ids"
     ],
     "language": "python",
     "metadata": {},
     "outputs": [
      {
       "metadata": {},
       "output_type": "pyout",
       "prompt_number": 4,
       "text": [
        "[0, 1, 2, 3, 4, 5, 6, 7, 8, 9, 10, 11, 12, 13]"
       ]
      }
     ],
     "prompt_number": 4
    },
    {
     "cell_type": "code",
     "collapsed": false,
     "input": [
      "dview = rc[:]"
     ],
     "language": "python",
     "metadata": {},
     "outputs": [],
     "prompt_number": 5
    },
    {
     "cell_type": "code",
     "collapsed": false,
     "input": [
      "dview.block = True"
     ],
     "language": "python",
     "metadata": {},
     "outputs": [],
     "prompt_number": 6
    },
    {
     "cell_type": "code",
     "collapsed": false,
     "input": [
      "%%px\n",
      "from __future__ import division\n",
      "import numpy as np\n",
      "import pandas as pd\n",
      "import cv2"
     ],
     "language": "python",
     "metadata": {},
     "outputs": [],
     "prompt_number": 7
    },
    {
     "cell_type": "code",
     "collapsed": false,
     "input": [
      "dview['df_train'] = df_train\n",
      "dview['train_X'] = train_X\n",
      "\n",
      "dview['df_test'] = df_test\n",
      "dview['test_X'] = test_X"
     ],
     "language": "python",
     "metadata": {},
     "outputs": [],
     "prompt_number": 8
    },
    {
     "cell_type": "code",
     "collapsed": false,
     "input": [
      "%%px\n",
      "class Instance(object):\n",
      "    __slots__ = [\"ix\", \"zwd\", \"kp_list\", \"desc_list\"]\n",
      "    def __init__(self, ix, zwd, kp_list=None, desc_list=None):\n",
      "        self.ix = ix\n",
      "        self.zwd = zwd\n",
      "        self.kp_list = [] if kp_list is None else kp_list\n",
      "        self.desc_list = [] if desc_list is None else desc_list"
     ],
     "language": "python",
     "metadata": {},
     "outputs": [],
     "prompt_number": 9
    },
    {
     "cell_type": "code",
     "collapsed": false,
     "input": [
      "%%px\n",
      "group_train = df_train.groupby(\"y\")\n",
      "group_inst_ix = [v for v in group_train.groups.values()]"
     ],
     "language": "python",
     "metadata": {},
     "outputs": [],
     "prompt_number": 200
    },
    {
     "cell_type": "code",
     "collapsed": false,
     "input": [
      "%%time\n",
      "%%px\n",
      "zwd_inst_mat = [\n",
      "    [Instance(ix=ix, zwd=zwd) for ix in ix_array] \n",
      "    for ix_array, zwd in zip(group_inst_ix, range(1, 13))\n",
      "]\n",
      "flatten_inst_arary = np.array(\n",
      "    [inst for inst_array in zwd_inst_mat for inst in inst_array]\n",
      ")"
     ],
     "language": "python",
     "metadata": {},
     "outputs": [
      {
       "output_type": "stream",
       "stream": "stdout",
       "text": [
        "CPU times: user 52 ms, sys: 4 ms, total: 56 ms\n",
        "Wall time: 144 ms\n"
       ]
      }
     ],
     "prompt_number": 201
    },
    {
     "cell_type": "code",
     "collapsed": false,
     "input": [
      "dview['len(flatten_inst_arary)']"
     ],
     "language": "python",
     "metadata": {},
     "outputs": [
      {
       "metadata": {},
       "output_type": "pyout",
       "prompt_number": 202,
       "text": [
        "[9216,\n",
        " 9216,\n",
        " 9216,\n",
        " 9216,\n",
        " 9216,\n",
        " 9216,\n",
        " 9216,\n",
        " 9216,\n",
        " 9216,\n",
        " 9216,\n",
        " 9216,\n",
        " 9216,\n",
        " 9216,\n",
        " 9216]"
       ]
      }
     ],
     "prompt_number": 202
    },
    {
     "cell_type": "heading",
     "level": 2,
     "metadata": {},
     "source": [
      "SIFT feature extraction"
     ]
    },
    {
     "cell_type": "code",
     "collapsed": false,
     "input": [
      "%%px\n",
      "def grey_convert(wd_array):\n",
      "    \"\"\"convert [0, 1] greyscale to [0, 255] (dark, white)\"\"\"\n",
      "    return np.round((1 - wd_array) * 255).astype(np.uint8)"
     ],
     "language": "python",
     "metadata": {},
     "outputs": [],
     "prompt_number": 15
    },
    {
     "cell_type": "code",
     "collapsed": false,
     "input": [
      "%%px\n",
      "PIXEL_X = 60\n",
      "PIXEL_Y = 60\n",
      "\n",
      "sigma = 1.4 # default: 1.6\n",
      "contrastThreshold = 0.03 # default: 0.04\n",
      "nOctaveLayers = 5  # default: 3\n",
      "edgeThreshold = 7 # default: 10\n",
      "\n",
      "sift = cv2.SIFT(\n",
      "    sigma=sigma, \n",
      "    contrastThreshold=contrastThreshold,\n",
      "    nOctaveLayers=nOctaveLayers,\n",
      "    edgeThreshold=edgeThreshold\n",
      ")"
     ],
     "language": "python",
     "metadata": {},
     "outputs": [],
     "prompt_number": 17
    },
    {
     "cell_type": "code",
     "collapsed": false,
     "input": [
      "%%time\n",
      "%%px\n",
      "for inst in flatten_inst_arary:\n",
      "    inst.kp_list, inst.desc_list = sift.detectAndCompute(\n",
      "        grey_convert(train_X[inst.ix].reshape(PIXEL_X, PIXEL_Y)),\n",
      "        None\n",
      "    )"
     ],
     "language": "python",
     "metadata": {},
     "outputs": [
      {
       "output_type": "stream",
       "stream": "stdout",
       "text": [
        "CPU times: user 12.6 s, sys: 978 ms, total: 13.6 s\n",
        "Wall time: 1min 22s\n"
       ]
      }
     ],
     "prompt_number": 18
    },
    {
     "cell_type": "code",
     "collapsed": false,
     "input": [
      "def get_total_features():\n",
      "    return sum(len(x.kp_list) for x in flatten_inst_arary)\n",
      "\n",
      "ar = dview.apply_sync(get_total_features)\n",
      "np.all(np.equal(ar, ar)), ar[0]"
     ],
     "language": "python",
     "metadata": {},
     "outputs": [
      {
       "metadata": {},
       "output_type": "pyout",
       "prompt_number": 29,
       "text": [
        "(True, 426896)"
       ]
      }
     ],
     "prompt_number": 29
    },
    {
     "cell_type": "code",
     "collapsed": false,
     "input": [
      "def get_avg_features():\n",
      "    return np.mean([len(inst.kp_list) for inst in flatten_inst_arary])\n",
      "\n",
      "ar = dview.apply_sync(get_avg_features)\n",
      "np.all(np.equal(ar, ar)), ar[0]"
     ],
     "language": "python",
     "metadata": {},
     "outputs": [
      {
       "metadata": {},
       "output_type": "pyout",
       "prompt_number": 31,
       "text": [
        "(True, 46.321180555555557)"
       ]
      }
     ],
     "prompt_number": 31
    },
    {
     "cell_type": "heading",
     "level": 2,
     "metadata": {},
     "source": [
      "Matching"
     ]
    },
    {
     "cell_type": "heading",
     "level": 3,
     "metadata": {},
     "source": [
      "Make output dataframe"
     ]
    },
    {
     "cell_type": "code",
     "collapsed": false,
     "input": [
      "TOP_K = 100\n",
      "N_ZODIAC = 12\n",
      "out_dict = {'y': np.zeros(len(train_X))}\n",
      "\n",
      "# Top K columns\n",
      "top_column_names = [\n",
      "    \"z{}_top{}\".format(zwd+1, k+1)\n",
      "    for zwd in range(N_ZODIAC) for k in range(TOP_K)\n",
      "]\n",
      "# Mean columns\n",
      "mean_column_names = [\n",
      "    \"z{}_mean\".format(zwd+1) for zwd in range(N_ZODIAC)\n",
      "]\n",
      "out_dict.update({\n",
      "    col_name : 0 for col_name in top_column_names + mean_column_names\n",
      "})\n",
      "df_sift_train_out = pd.DataFrame(out_dict, dtype=np.float)\n",
      "\n",
      "# sort column name for better human readability\n",
      "df_sift_train_out.columns = (\n",
      "    ['y'] +\n",
      "    top_column_names +\n",
      "    mean_column_names\n",
      ")   "
     ],
     "language": "python",
     "metadata": {},
     "outputs": [],
     "prompt_number": 131
    },
    {
     "cell_type": "heading",
     "level": 3,
     "metadata": {},
     "source": [
      "FLANN Matcher"
     ]
    },
    {
     "cell_type": "code",
     "collapsed": false,
     "input": [
      "%%px\n",
      "# FLANN parameters\n",
      "FLANN_INDEX_KDTREE = 0\n",
      "index_params = dict(algorithm=FLANN_INDEX_KDTREE, trees=5)\n",
      "search_params = dict(checks=100)   # or pass empty dictionary\n",
      "\n",
      "flann = cv2.FlannBasedMatcher(index_params, search_params)"
     ],
     "language": "python",
     "metadata": {},
     "outputs": [],
     "prompt_number": 33
    },
    {
     "cell_type": "code",
     "collapsed": false,
     "input": [
      "%%time\n",
      "dview['TOP_K'] = 100\n",
      "dview['DISTANCE_TH'] = 300\n",
      "\n",
      "dview['df_sift_train_out'] = df_sift_train_out"
     ],
     "language": "python",
     "metadata": {},
     "outputs": [
      {
       "output_type": "stream",
       "stream": "stdout",
       "text": [
        "CPU times: user 1.19 s, sys: 1.75 s, total: 2.95 s\n",
        "Wall time: 2.41 s\n"
       ]
      }
     ],
     "prompt_number": 34
    },
    {
     "cell_type": "code",
     "collapsed": false,
     "input": [
      "def sift_match():\n",
      "    for inst in flatten_inst_arary[inst_i_arr]:\n",
      "        for zwd, zwd_inst_list in zip(range(1, 13), zwd_inst_mat):\n",
      "            prop_matched_list = []\n",
      "            for zwd_inst in zwd_inst_list:\n",
      "                # print(i)\n",
      "                if zwd_inst.desc_list is None:\n",
      "                    # print(\"{} of zwd({}) has no features\".format(zwd_inst.ix, zwd_inst.zwd))\n",
      "                    prop_matched_list.append(0)\n",
      "                    continue\n",
      "                len_feature = len(zwd_inst.desc_list)\n",
      "                all_matches = flann.knnMatch(\n",
      "                    inst.desc_list,\n",
      "                    zwd_inst.desc_list,\n",
      "                    k=len_feature\n",
      "                )\n",
      "                matches_mat = np.unique([\n",
      "                    m.trainIdx for row in all_matches for m in row if m.distance < DISTANCE_TH\n",
      "                ])\n",
      "                prop_matched_list.append(\n",
      "                   len(matches_mat) / float(len_feature)\n",
      "                )\n",
      "            # write match result to data fame\n",
      "            # prop_matched_list.sort(reverse=True)\n",
      "            prop_matched_list = np.sort(prop_matched_list)[::-1]\n",
      "            df_sift_train_out.ix[inst.ix, \"z{}_top1\".format(zwd):\"z{}_top{}\".format(zwd, TOP_K)] = prop_matched_list[:TOP_K]\n",
      "            df_sift_train_out.ix[inst.ix, \"z{}_mean\".format(zwd)] = np.mean(prop_matched_list)"
     ],
     "language": "python",
     "metadata": {},
     "outputs": [],
     "prompt_number": 99
    },
    {
     "cell_type": "code",
     "collapsed": false,
     "input": [
      "len_total_inst = dview['len(flatten_inst_arary)'][0]\n",
      "dview.scatter('inst_i_arr', range(len_total_inst))"
     ],
     "language": "python",
     "metadata": {},
     "outputs": [],
     "prompt_number": 100
    },
    {
     "cell_type": "code",
     "collapsed": false,
     "input": [
      "ar = dview.apply_async(sift_match)"
     ],
     "language": "python",
     "metadata": {},
     "outputs": [
      {
       "output_type": "stream",
       "stream": "stdout",
       "text": [
        "   0/14 tasks finished after 3579 s"
       ]
      }
     ],
     "prompt_number": "*"
    },
    {
     "cell_type": "code",
     "collapsed": false,
     "input": [
      "ar.wait_interactive()\n",
      "ar.elapsed"
     ],
     "language": "python",
     "metadata": {},
     "outputs": [
      {
       "output_type": "stream",
       "stream": "stdout",
       "text": [
        "\n",
        "done\n"
       ]
      },
      {
       "metadata": {},
       "output_type": "pyout",
       "prompt_number": 145,
       "text": [
        "11253.341412"
       ]
      }
     ],
     "prompt_number": 145
    },
    {
     "cell_type": "heading",
     "level": 2,
     "metadata": {},
     "source": [
      "Gather results"
     ]
    },
    {
     "cell_type": "code",
     "collapsed": false,
     "input": [
      "%%time\n",
      "returned_df_out_list = dview['df_sift_train_out']"
     ],
     "language": "python",
     "metadata": {},
     "outputs": [
      {
       "output_type": "stream",
       "stream": "stdout",
       "text": [
        "CPU times: user 2.34 s, sys: 3.78 s, total: 6.12 s\n",
        "Wall time: 6.29 s\n"
       ]
      }
     ],
     "prompt_number": 263
    },
    {
     "cell_type": "code",
     "collapsed": false,
     "input": [
      "scatter_i = dview['inst_i_arr']"
     ],
     "language": "python",
     "metadata": {},
     "outputs": [],
     "prompt_number": 177
    },
    {
     "cell_type": "code",
     "collapsed": false,
     "input": [
      "def get_flat_ix():\n",
      "    return [inst.ix for inst in flatten_inst_arary]\n",
      "\n",
      "flat_ix = np.array(rc[0].apply_sync(get_flat_ix))"
     ],
     "language": "python",
     "metadata": {},
     "outputs": [],
     "prompt_number": 176
    },
    {
     "cell_type": "code",
     "collapsed": false,
     "input": [
      "df_final = df_sift_train_out.copy()\n",
      "for i, df in zip(scatter_i, returned_df_out_list):\n",
      "    ix = flat_ix[i]\n",
      "    df_final.ix[ix, :] = df.ix[ix, :]"
     ],
     "language": "python",
     "metadata": {},
     "outputs": [],
     "prompt_number": 264
    },
    {
     "cell_type": "code",
     "collapsed": false,
     "input": [
      "CSV_TRAIN_SIFT = \"dataset/train_60x60_grey_SIFT_top100_distth300.csv\"\n",
      "df_final['y'] = train_Y.values\n",
      "df_final.to_csv(CSV_TRAIN_SIFT, index=False)"
     ],
     "language": "python",
     "metadata": {},
     "outputs": [],
     "prompt_number": 265
    },
    {
     "cell_type": "code",
     "collapsed": false,
     "input": [
      "df_final.ix[50:60, 595:605]"
     ],
     "language": "python",
     "metadata": {},
     "outputs": [
      {
       "html": [
        "<div style=\"max-height:1000px;max-width:1500px;overflow:auto;\">\n",
        "<table border=\"1\" class=\"dataframe\">\n",
        "  <thead>\n",
        "    <tr style=\"text-align: right;\">\n",
        "      <th></th>\n",
        "      <th>z6_top95</th>\n",
        "      <th>z6_top96</th>\n",
        "      <th>z6_top97</th>\n",
        "      <th>z6_top98</th>\n",
        "      <th>z6_top99</th>\n",
        "      <th>z6_top100</th>\n",
        "      <th>z7_top1</th>\n",
        "      <th>z7_top2</th>\n",
        "      <th>z7_top3</th>\n",
        "      <th>z7_top4</th>\n",
        "    </tr>\n",
        "  </thead>\n",
        "  <tbody>\n",
        "    <tr>\n",
        "      <th>50</th>\n",
        "      <td> 0.250000</td>\n",
        "      <td> 0.250000</td>\n",
        "      <td> 0.250000</td>\n",
        "      <td> 0.250000</td>\n",
        "      <td> 0.250000</td>\n",
        "      <td> 0.250000</td>\n",
        "      <td> 0.666667</td>\n",
        "      <td> 0.486486</td>\n",
        "      <td> 0.483871</td>\n",
        "      <td> 0.428571</td>\n",
        "    </tr>\n",
        "    <tr>\n",
        "      <th>51</th>\n",
        "      <td> 0.520833</td>\n",
        "      <td> 0.520000</td>\n",
        "      <td> 0.520000</td>\n",
        "      <td> 0.518519</td>\n",
        "      <td> 0.514286</td>\n",
        "      <td> 0.512821</td>\n",
        "      <td> 0.836735</td>\n",
        "      <td> 0.808511</td>\n",
        "      <td> 0.782609</td>\n",
        "      <td> 0.774194</td>\n",
        "    </tr>\n",
        "    <tr>\n",
        "      <th>52</th>\n",
        "      <td> 0.476190</td>\n",
        "      <td> 0.473684</td>\n",
        "      <td> 0.473684</td>\n",
        "      <td> 0.472222</td>\n",
        "      <td> 0.472222</td>\n",
        "      <td> 0.468750</td>\n",
        "      <td> 1.000000</td>\n",
        "      <td> 0.837838</td>\n",
        "      <td> 0.795918</td>\n",
        "      <td> 0.782609</td>\n",
        "    </tr>\n",
        "    <tr>\n",
        "      <th>53</th>\n",
        "      <td> 0.529412</td>\n",
        "      <td> 0.529412</td>\n",
        "      <td> 0.527273</td>\n",
        "      <td> 0.525000</td>\n",
        "      <td> 0.524590</td>\n",
        "      <td> 0.522388</td>\n",
        "      <td> 0.847826</td>\n",
        "      <td> 0.816327</td>\n",
        "      <td> 0.812500</td>\n",
        "      <td> 0.810811</td>\n",
        "    </tr>\n",
        "    <tr>\n",
        "      <th>54</th>\n",
        "      <td> 0.558824</td>\n",
        "      <td> 0.558824</td>\n",
        "      <td> 0.558140</td>\n",
        "      <td> 0.555556</td>\n",
        "      <td> 0.551724</td>\n",
        "      <td> 0.545455</td>\n",
        "      <td> 0.857143</td>\n",
        "      <td> 0.838710</td>\n",
        "      <td> 0.837838</td>\n",
        "      <td> 0.806452</td>\n",
        "    </tr>\n",
        "    <tr>\n",
        "      <th>55</th>\n",
        "      <td> 0.421053</td>\n",
        "      <td> 0.421053</td>\n",
        "      <td> 0.421053</td>\n",
        "      <td> 0.421053</td>\n",
        "      <td> 0.421053</td>\n",
        "      <td> 0.420000</td>\n",
        "      <td> 0.795918</td>\n",
        "      <td> 0.750000</td>\n",
        "      <td> 0.714286</td>\n",
        "      <td> 0.694444</td>\n",
        "    </tr>\n",
        "    <tr>\n",
        "      <th>56</th>\n",
        "      <td> 0.400000</td>\n",
        "      <td> 0.400000</td>\n",
        "      <td> 0.400000</td>\n",
        "      <td> 0.395833</td>\n",
        "      <td> 0.395349</td>\n",
        "      <td> 0.394737</td>\n",
        "      <td> 0.692308</td>\n",
        "      <td> 0.687500</td>\n",
        "      <td> 0.666667</td>\n",
        "      <td> 0.666667</td>\n",
        "    </tr>\n",
        "    <tr>\n",
        "      <th>57</th>\n",
        "      <td> 0.448980</td>\n",
        "      <td> 0.447761</td>\n",
        "      <td> 0.447761</td>\n",
        "      <td> 0.444444</td>\n",
        "      <td> 0.444444</td>\n",
        "      <td> 0.444444</td>\n",
        "      <td> 0.840909</td>\n",
        "      <td> 0.836735</td>\n",
        "      <td> 0.807692</td>\n",
        "      <td> 0.783784</td>\n",
        "    </tr>\n",
        "    <tr>\n",
        "      <th>58</th>\n",
        "      <td> 0.409091</td>\n",
        "      <td> 0.409091</td>\n",
        "      <td> 0.407895</td>\n",
        "      <td> 0.407407</td>\n",
        "      <td> 0.406780</td>\n",
        "      <td> 0.406250</td>\n",
        "      <td> 0.750000</td>\n",
        "      <td> 0.677419</td>\n",
        "      <td> 0.666667</td>\n",
        "      <td> 0.642857</td>\n",
        "    </tr>\n",
        "    <tr>\n",
        "      <th>59</th>\n",
        "      <td> 0.272727</td>\n",
        "      <td> 0.272727</td>\n",
        "      <td> 0.269231</td>\n",
        "      <td> 0.268657</td>\n",
        "      <td> 0.267857</td>\n",
        "      <td> 0.266667</td>\n",
        "      <td> 0.545455</td>\n",
        "      <td> 0.540541</td>\n",
        "      <td> 0.469388</td>\n",
        "      <td> 0.458333</td>\n",
        "    </tr>\n",
        "    <tr>\n",
        "      <th>60</th>\n",
        "      <td> 0.500000</td>\n",
        "      <td> 0.500000</td>\n",
        "      <td> 0.500000</td>\n",
        "      <td> 0.500000</td>\n",
        "      <td> 0.500000</td>\n",
        "      <td> 0.500000</td>\n",
        "      <td> 0.918367</td>\n",
        "      <td> 0.838710</td>\n",
        "      <td> 0.826923</td>\n",
        "      <td> 0.820513</td>\n",
        "    </tr>\n",
        "  </tbody>\n",
        "</table>\n",
        "</div>"
       ],
       "metadata": {},
       "output_type": "pyout",
       "prompt_number": 273,
       "text": [
        "    z6_top95  z6_top96  z6_top97  z6_top98  z6_top99  z6_top100   z7_top1  \\\n",
        "50  0.250000  0.250000  0.250000  0.250000  0.250000   0.250000  0.666667   \n",
        "51  0.520833  0.520000  0.520000  0.518519  0.514286   0.512821  0.836735   \n",
        "52  0.476190  0.473684  0.473684  0.472222  0.472222   0.468750  1.000000   \n",
        "53  0.529412  0.529412  0.527273  0.525000  0.524590   0.522388  0.847826   \n",
        "54  0.558824  0.558824  0.558140  0.555556  0.551724   0.545455  0.857143   \n",
        "55  0.421053  0.421053  0.421053  0.421053  0.421053   0.420000  0.795918   \n",
        "56  0.400000  0.400000  0.400000  0.395833  0.395349   0.394737  0.692308   \n",
        "57  0.448980  0.447761  0.447761  0.444444  0.444444   0.444444  0.840909   \n",
        "58  0.409091  0.409091  0.407895  0.407407  0.406780   0.406250  0.750000   \n",
        "59  0.272727  0.272727  0.269231  0.268657  0.267857   0.266667  0.545455   \n",
        "60  0.500000  0.500000  0.500000  0.500000  0.500000   0.500000  0.918367   \n",
        "\n",
        "     z7_top2   z7_top3   z7_top4  \n",
        "50  0.486486  0.483871  0.428571  \n",
        "51  0.808511  0.782609  0.774194  \n",
        "52  0.837838  0.795918  0.782609  \n",
        "53  0.816327  0.812500  0.810811  \n",
        "54  0.838710  0.837838  0.806452  \n",
        "55  0.750000  0.714286  0.694444  \n",
        "56  0.687500  0.666667  0.666667  \n",
        "57  0.836735  0.807692  0.783784  \n",
        "58  0.677419  0.666667  0.642857  \n",
        "59  0.540541  0.469388  0.458333  \n",
        "60  0.838710  0.826923  0.820513  "
       ]
      }
     ],
     "prompt_number": 273
    },
    {
     "cell_type": "heading",
     "level": 2,
     "metadata": {},
     "source": [
      "Applying on Test Data"
     ]
    },
    {
     "cell_type": "code",
     "collapsed": false,
     "input": [
      "out_dict = {'y': np.zeros(len(test_X))}\n",
      "\n",
      "# Top K columns\n",
      "top_column_names = [\n",
      "    \"z{}_top{}\".format(zwd+1, k+1)\n",
      "    for zwd in range(N_ZODIAC) for k in range(TOP_K)\n",
      "]\n",
      "# Mean columns\n",
      "mean_column_names = [\n",
      "    \"z{}_mean\".format(zwd+1) for zwd in range(N_ZODIAC)\n",
      "]\n",
      "out_dict.update({\n",
      "    col_name : 0 for col_name in top_column_names + mean_column_names\n",
      "})\n",
      "df_sift_test_out = pd.DataFrame(out_dict, dtype=np.float)\n",
      "\n",
      "# sort column name for better human readability\n",
      "df_sift_test_out.columns = (\n",
      "    ['y'] +\n",
      "    top_column_names +\n",
      "    mean_column_names\n",
      ")   "
     ],
     "language": "python",
     "metadata": {},
     "outputs": [],
     "prompt_number": 213
    },
    {
     "cell_type": "code",
     "collapsed": false,
     "input": [
      "%%time\n",
      "dview['df_sift_test_out'] = df_sift_test_out"
     ],
     "language": "python",
     "metadata": {},
     "outputs": [
      {
       "output_type": "stream",
       "stream": "stdout",
       "text": [
        "CPU times: user 520 ms, sys: 540 ms, total: 1.06 s\n",
        "Wall time: 858 ms\n"
       ]
      }
     ],
     "prompt_number": 214
    },
    {
     "cell_type": "code",
     "collapsed": false,
     "input": [
      "%%time\n",
      "%%px\n",
      "group_test = df_test.groupby(\"y\")\n",
      "group_test_inst_ix = [v for v in group_test.groups.values()]\n",
      "\n",
      "zwd_test_inst_mat = [\n",
      "    [Instance(ix=ix, zwd=zwd) for ix in ix_array] \n",
      "    for ix_array, zwd in zip(group_test_inst_ix, range(1, 13))\n",
      "]\n",
      "flatten_test_inst_arary = np.array(\n",
      "    [inst for inst_array in zwd_test_inst_mat for inst in inst_array]\n",
      ")"
     ],
     "language": "python",
     "metadata": {},
     "outputs": [
      {
       "output_type": "stream",
       "stream": "stdout",
       "text": [
        "CPU times: user 32 ms, sys: 3 ms, total: 35 ms\n",
        "Wall time: 41.5 ms\n"
       ]
      }
     ],
     "prompt_number": 203
    },
    {
     "cell_type": "code",
     "collapsed": false,
     "input": [
      "dview.get(('len(flatten_test_inst_arary)', 'len(flatten_inst_arary)'))"
     ],
     "language": "python",
     "metadata": {},
     "outputs": [
      {
       "metadata": {},
       "output_type": "pyout",
       "prompt_number": 205,
       "text": [
        "[[3072, 9216],\n",
        " [3072, 9216],\n",
        " [3072, 9216],\n",
        " [3072, 9216],\n",
        " [3072, 9216],\n",
        " [3072, 9216],\n",
        " [3072, 9216],\n",
        " [3072, 9216],\n",
        " [3072, 9216],\n",
        " [3072, 9216],\n",
        " [3072, 9216],\n",
        " [3072, 9216],\n",
        " [3072, 9216],\n",
        " [3072, 9216]]"
       ]
      }
     ],
     "prompt_number": 205
    },
    {
     "cell_type": "heading",
     "level": 3,
     "metadata": {},
     "source": [
      "SIFT"
     ]
    },
    {
     "cell_type": "code",
     "collapsed": false,
     "input": [
      "%%time\n",
      "%%px\n",
      "for inst in flatten_test_inst_arary:\n",
      "    inst.kp_list, inst.desc_list = sift.detectAndCompute(\n",
      "        grey_convert(test_X[inst.ix].reshape(PIXEL_X, PIXEL_Y)),\n",
      "        None\n",
      "    )"
     ],
     "language": "python",
     "metadata": {},
     "outputs": [
      {
       "output_type": "stream",
       "stream": "stdout",
       "text": [
        "CPU times: user 4.2 s, sys: 308 ms, total: 4.51 s\n",
        "Wall time: 27.4 s\n"
       ]
      }
     ],
     "prompt_number": 209
    },
    {
     "cell_type": "code",
     "collapsed": false,
     "input": [
      "def get_total_test_features():\n",
      "    return sum(len(x.kp_list) for x in flatten_test_inst_arary)\n",
      "\n",
      "ar = dview.apply_sync(get_total_test_features)\n",
      "np.all(np.equal(ar, ar)), ar[0]"
     ],
     "language": "python",
     "metadata": {},
     "outputs": [
      {
       "metadata": {},
       "output_type": "pyout",
       "prompt_number": 211,
       "text": [
        "(True, 141581)"
       ]
      }
     ],
     "prompt_number": 211
    },
    {
     "cell_type": "code",
     "collapsed": false,
     "input": [
      "def get_avg_test_features():\n",
      "    return np.mean([len(inst.kp_list) for inst in flatten_test_inst_arary])\n",
      "\n",
      "ar = dview.apply_sync(get_avg_test_features)\n",
      "np.all(np.equal(ar, ar)), ar[0]"
     ],
     "language": "python",
     "metadata": {},
     "outputs": [
      {
       "metadata": {},
       "output_type": "pyout",
       "prompt_number": 212,
       "text": [
        "(True, 46.087565104166664)"
       ]
      }
     ],
     "prompt_number": 212
    },
    {
     "cell_type": "heading",
     "level": 3,
     "metadata": {},
     "source": [
      "FLANN Match"
     ]
    },
    {
     "cell_type": "code",
     "collapsed": false,
     "input": [
      "def sift_match_test():\n",
      "    for inst in flatten_test_inst_arary[inst_i_arr]:\n",
      "        for zwd, zwd_inst_list in zip(range(1, 13), zwd_inst_mat):\n",
      "            prop_matched_list = []\n",
      "            for zwd_inst in zwd_inst_list:\n",
      "                # print(i)\n",
      "                if zwd_inst.desc_list is None:\n",
      "                    # print(\"{} of zwd({}) has no features\".format(zwd_inst.ix, zwd_inst.zwd))\n",
      "                    prop_matched_list.append(0)\n",
      "                    continue\n",
      "                len_feature = len(zwd_inst.desc_list)\n",
      "                all_matches = flann.knnMatch(\n",
      "                    inst.desc_list,\n",
      "                    zwd_inst.desc_list,\n",
      "                    k=len_feature\n",
      "                )\n",
      "                matches_mat = np.unique([\n",
      "                    m.trainIdx for row in all_matches for m in row if m.distance < DISTANCE_TH\n",
      "                ])\n",
      "                prop_matched_list.append(\n",
      "                   len(matches_mat) / float(len_feature)\n",
      "                )\n",
      "            # write match result to data fame\n",
      "            # prop_matched_list.sort(reverse=True)\n",
      "            prop_matched_list = np.sort(prop_matched_list)[::-1]\n",
      "            df_sift_test_out.ix[inst.ix, \"z{}_top1\".format(zwd):\"z{}_top{}\".format(zwd, TOP_K)] = prop_matched_list[:TOP_K]\n",
      "            df_sift_test_out.ix[inst.ix, \"z{}_mean\".format(zwd)] = np.mean(prop_matched_list)"
     ],
     "language": "python",
     "metadata": {},
     "outputs": [],
     "prompt_number": 215
    },
    {
     "cell_type": "code",
     "collapsed": false,
     "input": [
      "len_total_inst = dview['len(flatten_test_inst_arary)'][0]\n",
      "dview.scatter('inst_i_arr', range(len_total_inst))"
     ],
     "language": "python",
     "metadata": {},
     "outputs": [],
     "prompt_number": 217
    },
    {
     "cell_type": "code",
     "collapsed": false,
     "input": [
      "ar = dview.apply_async(sift_match_test)"
     ],
     "language": "python",
     "metadata": {},
     "outputs": [],
     "prompt_number": 219
    },
    {
     "cell_type": "code",
     "collapsed": false,
     "input": [
      "ar.wall_time, ar.ready() # get how many time passed\n",
      "# ar.wait_interactive()"
     ],
     "language": "python",
     "metadata": {},
     "outputs": [
      {
       "metadata": {},
       "output_type": "pyout",
       "prompt_number": 252,
       "text": [
        "(37693.033937, True)"
       ]
      }
     ],
     "prompt_number": 252
    },
    {
     "cell_type": "heading",
     "level": 3,
     "metadata": {},
     "source": [
      "Gather"
     ]
    },
    {
     "cell_type": "code",
     "collapsed": false,
     "input": [
      "returned_df_out_list = dview['df_sift_test_out']"
     ],
     "language": "python",
     "metadata": {},
     "outputs": [],
     "prompt_number": 253
    },
    {
     "cell_type": "code",
     "collapsed": false,
     "input": [
      "df_final = df_sift_test_out.copy()\n",
      "for df in returned_df_out_list:\n",
      "    df_final = df + df_final"
     ],
     "language": "python",
     "metadata": {},
     "outputs": [],
     "prompt_number": 254
    },
    {
     "cell_type": "code",
     "collapsed": false,
     "input": [
      "df_final.ix[:10, 495:505]"
     ],
     "language": "python",
     "metadata": {},
     "outputs": [
      {
       "html": [
        "<div style=\"max-height:1000px;max-width:1500px;overflow:auto;\">\n",
        "<table border=\"1\" class=\"dataframe\">\n",
        "  <thead>\n",
        "    <tr style=\"text-align: right;\">\n",
        "      <th></th>\n",
        "      <th>z5_top95</th>\n",
        "      <th>z5_top96</th>\n",
        "      <th>z5_top97</th>\n",
        "      <th>z5_top98</th>\n",
        "      <th>z5_top99</th>\n",
        "      <th>z5_top100</th>\n",
        "      <th>z6_top1</th>\n",
        "      <th>z6_top2</th>\n",
        "      <th>z6_top3</th>\n",
        "      <th>z6_top4</th>\n",
        "    </tr>\n",
        "  </thead>\n",
        "  <tbody>\n",
        "    <tr>\n",
        "      <th>0 </th>\n",
        "      <td> 0.133333</td>\n",
        "      <td> 0.132075</td>\n",
        "      <td> 0.131868</td>\n",
        "      <td> 0.131579</td>\n",
        "      <td> 0.130841</td>\n",
        "      <td> 0.130435</td>\n",
        "      <td> 0.555556</td>\n",
        "      <td> 0.533333</td>\n",
        "      <td> 0.500000</td>\n",
        "      <td> 0.428571</td>\n",
        "    </tr>\n",
        "    <tr>\n",
        "      <th>1 </th>\n",
        "      <td> 0.300000</td>\n",
        "      <td> 0.298246</td>\n",
        "      <td> 0.294872</td>\n",
        "      <td> 0.294118</td>\n",
        "      <td> 0.293103</td>\n",
        "      <td> 0.291667</td>\n",
        "      <td> 0.777778</td>\n",
        "      <td> 0.681818</td>\n",
        "      <td> 0.666667</td>\n",
        "      <td> 0.600000</td>\n",
        "    </tr>\n",
        "    <tr>\n",
        "      <th>2 </th>\n",
        "      <td> 0.362069</td>\n",
        "      <td> 0.361702</td>\n",
        "      <td> 0.361111</td>\n",
        "      <td> 0.360000</td>\n",
        "      <td> 0.360000</td>\n",
        "      <td> 0.358491</td>\n",
        "      <td> 0.789474</td>\n",
        "      <td> 0.777778</td>\n",
        "      <td> 0.777778</td>\n",
        "      <td> 0.769231</td>\n",
        "    </tr>\n",
        "    <tr>\n",
        "      <th>3 </th>\n",
        "      <td> 0.360000</td>\n",
        "      <td> 0.357143</td>\n",
        "      <td> 0.357143</td>\n",
        "      <td> 0.355932</td>\n",
        "      <td> 0.354839</td>\n",
        "      <td> 0.354167</td>\n",
        "      <td> 1.000000</td>\n",
        "      <td> 0.826087</td>\n",
        "      <td> 0.800000</td>\n",
        "      <td> 0.769231</td>\n",
        "    </tr>\n",
        "    <tr>\n",
        "      <th>4 </th>\n",
        "      <td> 0.176471</td>\n",
        "      <td> 0.175439</td>\n",
        "      <td> 0.175439</td>\n",
        "      <td> 0.175000</td>\n",
        "      <td> 0.175000</td>\n",
        "      <td> 0.175000</td>\n",
        "      <td> 0.666667</td>\n",
        "      <td> 0.590909</td>\n",
        "      <td> 0.500000</td>\n",
        "      <td> 0.470588</td>\n",
        "    </tr>\n",
        "    <tr>\n",
        "      <th>5 </th>\n",
        "      <td> 0.323529</td>\n",
        "      <td> 0.322581</td>\n",
        "      <td> 0.321429</td>\n",
        "      <td> 0.320000</td>\n",
        "      <td> 0.318182</td>\n",
        "      <td> 0.318182</td>\n",
        "      <td> 1.000000</td>\n",
        "      <td> 0.818182</td>\n",
        "      <td> 0.777778</td>\n",
        "      <td> 0.733333</td>\n",
        "    </tr>\n",
        "    <tr>\n",
        "      <th>6 </th>\n",
        "      <td> 0.358974</td>\n",
        "      <td> 0.350000</td>\n",
        "      <td> 0.350000</td>\n",
        "      <td> 0.350000</td>\n",
        "      <td> 0.350000</td>\n",
        "      <td> 0.346154</td>\n",
        "      <td> 0.833333</td>\n",
        "      <td> 0.730769</td>\n",
        "      <td> 0.727273</td>\n",
        "      <td> 0.714286</td>\n",
        "    </tr>\n",
        "    <tr>\n",
        "      <th>7 </th>\n",
        "      <td> 0.391304</td>\n",
        "      <td> 0.389610</td>\n",
        "      <td> 0.388889</td>\n",
        "      <td> 0.384615</td>\n",
        "      <td> 0.384615</td>\n",
        "      <td> 0.384615</td>\n",
        "      <td> 1.000000</td>\n",
        "      <td> 0.888889</td>\n",
        "      <td> 0.777778</td>\n",
        "      <td> 0.772727</td>\n",
        "    </tr>\n",
        "    <tr>\n",
        "      <th>8 </th>\n",
        "      <td> 0.403846</td>\n",
        "      <td> 0.400000</td>\n",
        "      <td> 0.400000</td>\n",
        "      <td> 0.400000</td>\n",
        "      <td> 0.400000</td>\n",
        "      <td> 0.400000</td>\n",
        "      <td> 1.000000</td>\n",
        "      <td> 0.833333</td>\n",
        "      <td> 0.809524</td>\n",
        "      <td> 0.800000</td>\n",
        "    </tr>\n",
        "    <tr>\n",
        "      <th>9 </th>\n",
        "      <td> 0.410256</td>\n",
        "      <td> 0.409091</td>\n",
        "      <td> 0.408163</td>\n",
        "      <td> 0.407407</td>\n",
        "      <td> 0.405405</td>\n",
        "      <td> 0.405405</td>\n",
        "      <td> 1.000000</td>\n",
        "      <td> 1.000000</td>\n",
        "      <td> 0.884615</td>\n",
        "      <td> 0.875000</td>\n",
        "    </tr>\n",
        "    <tr>\n",
        "      <th>10</th>\n",
        "      <td> 0.054054</td>\n",
        "      <td> 0.053571</td>\n",
        "      <td> 0.053571</td>\n",
        "      <td> 0.053333</td>\n",
        "      <td> 0.053097</td>\n",
        "      <td> 0.052632</td>\n",
        "      <td> 0.148148</td>\n",
        "      <td> 0.142857</td>\n",
        "      <td> 0.125000</td>\n",
        "      <td> 0.120690</td>\n",
        "    </tr>\n",
        "  </tbody>\n",
        "</table>\n",
        "</div>"
       ],
       "metadata": {},
       "output_type": "pyout",
       "prompt_number": 257,
       "text": [
        "    z5_top95  z5_top96  z5_top97  z5_top98  z5_top99  z5_top100   z6_top1  \\\n",
        "0   0.133333  0.132075  0.131868  0.131579  0.130841   0.130435  0.555556   \n",
        "1   0.300000  0.298246  0.294872  0.294118  0.293103   0.291667  0.777778   \n",
        "2   0.362069  0.361702  0.361111  0.360000  0.360000   0.358491  0.789474   \n",
        "3   0.360000  0.357143  0.357143  0.355932  0.354839   0.354167  1.000000   \n",
        "4   0.176471  0.175439  0.175439  0.175000  0.175000   0.175000  0.666667   \n",
        "5   0.323529  0.322581  0.321429  0.320000  0.318182   0.318182  1.000000   \n",
        "6   0.358974  0.350000  0.350000  0.350000  0.350000   0.346154  0.833333   \n",
        "7   0.391304  0.389610  0.388889  0.384615  0.384615   0.384615  1.000000   \n",
        "8   0.403846  0.400000  0.400000  0.400000  0.400000   0.400000  1.000000   \n",
        "9   0.410256  0.409091  0.408163  0.407407  0.405405   0.405405  1.000000   \n",
        "10  0.054054  0.053571  0.053571  0.053333  0.053097   0.052632  0.148148   \n",
        "\n",
        "     z6_top2   z6_top3   z6_top4  \n",
        "0   0.533333  0.500000  0.428571  \n",
        "1   0.681818  0.666667  0.600000  \n",
        "2   0.777778  0.777778  0.769231  \n",
        "3   0.826087  0.800000  0.769231  \n",
        "4   0.590909  0.500000  0.470588  \n",
        "5   0.818182  0.777778  0.733333  \n",
        "6   0.730769  0.727273  0.714286  \n",
        "7   0.888889  0.777778  0.772727  \n",
        "8   0.833333  0.809524  0.800000  \n",
        "9   1.000000  0.884615  0.875000  \n",
        "10  0.142857  0.125000  0.120690  "
       ]
      }
     ],
     "prompt_number": 257
    },
    {
     "cell_type": "code",
     "collapsed": false,
     "input": [
      "CSV_TEST_SIFT = \"dataset/test_60x60_grey_SIFT_top100_distth300.csv\"\n",
      "df_final.to_csv(CSV_TEST_SIFT, index=False)"
     ],
     "language": "python",
     "metadata": {},
     "outputs": [],
     "prompt_number": 260
    },
    {
     "cell_type": "code",
     "collapsed": false,
     "input": [
      "!ls -hl $CSV_TRAIN_SIFT $CSV_TEST_SIFT"
     ],
     "language": "python",
     "metadata": {},
     "outputs": [
      {
       "output_type": "stream",
       "stream": "stdout",
       "text": [
        "-rw-r--r-- 1 liang users  59M 2014-01-09 10:17 dataset/test_60x60_grey_SIFT_top100_distth300.csv\r\n",
        "-rw-r--r-- 1 liang users 131M 2014-01-09 10:19 dataset/train_60x60_grey_SIFT_top100_distth300.csv\r\n"
       ]
      }
     ],
     "prompt_number": 266
    },
    {
     "cell_type": "code",
     "collapsed": false,
     "input": [],
     "language": "python",
     "metadata": {},
     "outputs": []
    }
   ],
   "metadata": {}
  }
 ]
}