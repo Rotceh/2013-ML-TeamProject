{
 "metadata": {
  "name": ""
 },
 "nbformat": 3,
 "nbformat_minor": 0,
 "worksheets": [
  {
   "cells": [
    {
     "cell_type": "code",
     "collapsed": false,
     "input": [
      "from __future__ import division\n",
      "import numpy as np\n",
      "import pandas as pd\n",
      "import cv2"
     ],
     "language": "python",
     "metadata": {},
     "outputs": [],
     "prompt_number": 1
    },
    {
     "cell_type": "code",
     "collapsed": false,
     "input": [
      "%%time\n",
      "from util.get_data import get_train_test_suite, get_new_suite\n",
      "SUITE_NAME = \"60x60grey\"\n",
      "df_train, df_test, train_Y, train_X, test_Y, test_X = get_new_suite(suite_name=SUITE_NAME)"
     ],
     "language": "python",
     "metadata": {},
     "outputs": [
      {
       "output_type": "stream",
       "stream": "stdout",
       "text": [
        "CPU times: user 13.5 s, sys: 469 ms, total: 13.9 s\n",
        "Wall time: 14 s\n"
       ]
      }
     ],
     "prompt_number": 2
    },
    {
     "cell_type": "heading",
     "level": 2,
     "metadata": {},
     "source": [
      "Parallel setup"
     ]
    },
    {
     "cell_type": "code",
     "collapsed": false,
     "input": [
      "from IPython.parallel import Client"
     ],
     "language": "python",
     "metadata": {},
     "outputs": [],
     "prompt_number": 3
    },
    {
     "cell_type": "code",
     "collapsed": false,
     "input": [
      "rc = Client()"
     ],
     "language": "python",
     "metadata": {},
     "outputs": [],
     "prompt_number": 4
    },
    {
     "cell_type": "code",
     "collapsed": false,
     "input": [
      "rc.ids"
     ],
     "language": "python",
     "metadata": {},
     "outputs": [
      {
       "metadata": {},
       "output_type": "pyout",
       "prompt_number": 5,
       "text": [
        "[0, 1, 2, 3, 4, 5, 6, 7, 8, 9, 10, 11, 12, 13, 14, 15]"
       ]
      }
     ],
     "prompt_number": 5
    },
    {
     "cell_type": "code",
     "collapsed": false,
     "input": [
      "dview = rc[:]"
     ],
     "language": "python",
     "metadata": {},
     "outputs": [],
     "prompt_number": 6
    },
    {
     "cell_type": "code",
     "collapsed": false,
     "input": [
      "dview.block = True"
     ],
     "language": "python",
     "metadata": {},
     "outputs": [],
     "prompt_number": 7
    },
    {
     "cell_type": "code",
     "collapsed": false,
     "input": [
      "%%px\n",
      "from __future__ import division\n",
      "import numpy as np\n",
      "import pandas as pd\n",
      "import cv2"
     ],
     "language": "python",
     "metadata": {},
     "outputs": [],
     "prompt_number": 8
    },
    {
     "cell_type": "code",
     "collapsed": false,
     "input": [
      "dview['df_train'] = df_train\n",
      "dview['train_X'] = train_X\n",
      "\n",
      "dview['df_test'] = df_test\n",
      "dview['test_X'] = test_X"
     ],
     "language": "python",
     "metadata": {},
     "outputs": [],
     "prompt_number": 9
    },
    {
     "cell_type": "code",
     "collapsed": false,
     "input": [
      "%%px\n",
      "class Instance(object):\n",
      "    __slots__ = [\"ix\", \"zwd\", \"kp_list\", \"desc_list\"]\n",
      "    def __init__(self, ix, zwd, kp_list=None, desc_list=None):\n",
      "        self.ix = ix\n",
      "        self.zwd = zwd\n",
      "        self.kp_list = [] if kp_list is None else kp_list\n",
      "        self.desc_list = [] if desc_list is None else desc_list"
     ],
     "language": "python",
     "metadata": {},
     "outputs": [],
     "prompt_number": 10
    },
    {
     "cell_type": "code",
     "collapsed": false,
     "input": [
      "%%px\n",
      "group_train = df_train.groupby(\"y\")\n",
      "group_inst_ix = [v for v in group_train.groups.values()]"
     ],
     "language": "python",
     "metadata": {},
     "outputs": [],
     "prompt_number": 11
    },
    {
     "cell_type": "code",
     "collapsed": false,
     "input": [
      "%%time\n",
      "%%px\n",
      "zwd_inst_mat = [\n",
      "    [Instance(ix=ix, zwd=zwd) for ix in ix_array] \n",
      "    for ix_array, zwd in zip(group_inst_ix, range(1, 13))\n",
      "]\n",
      "flatten_inst_arary = np.array(\n",
      "    [inst for inst_array in zwd_inst_mat for inst in inst_array]\n",
      ")"
     ],
     "language": "python",
     "metadata": {},
     "outputs": [
      {
       "output_type": "stream",
       "stream": "stdout",
       "text": [
        "CPU times: user 45 ms, sys: 4 ms, total: 49 ms\n",
        "Wall time: 94.8 ms\n"
       ]
      }
     ],
     "prompt_number": 12
    },
    {
     "cell_type": "code",
     "collapsed": false,
     "input": [
      "dview['len(flatten_inst_arary)']"
     ],
     "language": "python",
     "metadata": {},
     "outputs": [
      {
       "metadata": {},
       "output_type": "pyout",
       "prompt_number": 13,
       "text": [
        "[9216,\n",
        " 9216,\n",
        " 9216,\n",
        " 9216,\n",
        " 9216,\n",
        " 9216,\n",
        " 9216,\n",
        " 9216,\n",
        " 9216,\n",
        " 9216,\n",
        " 9216,\n",
        " 9216,\n",
        " 9216,\n",
        " 9216,\n",
        " 9216,\n",
        " 9216]"
       ]
      }
     ],
     "prompt_number": 13
    },
    {
     "cell_type": "heading",
     "level": 2,
     "metadata": {},
     "source": [
      "SIFT feature extraction"
     ]
    },
    {
     "cell_type": "code",
     "collapsed": false,
     "input": [
      "%%px\n",
      "def grey_convert(wd_array):\n",
      "    \"\"\"convert [0, 1] greyscale to [0, 255] (dark, white)\"\"\"\n",
      "    return np.round((1 - wd_array) * 255).astype(np.uint8)"
     ],
     "language": "python",
     "metadata": {},
     "outputs": [],
     "prompt_number": 14
    },
    {
     "cell_type": "code",
     "collapsed": false,
     "input": [
      "%%px\n",
      "PIXEL_X = 60\n",
      "PIXEL_Y = 60\n",
      "\n",
      "sigma = 1.4 # default: 1.6\n",
      "contrastThreshold = 0.03 # default: 0.04\n",
      "nOctaveLayers = 5  # default: 3\n",
      "edgeThreshold = 7 # default: 10\n",
      "\n",
      "sift = cv2.SIFT(\n",
      "    sigma=sigma, \n",
      "    contrastThreshold=contrastThreshold,\n",
      "    nOctaveLayers=nOctaveLayers,\n",
      "    edgeThreshold=edgeThreshold\n",
      ")"
     ],
     "language": "python",
     "metadata": {},
     "outputs": [],
     "prompt_number": 15
    },
    {
     "cell_type": "code",
     "collapsed": false,
     "input": [
      "%%time\n",
      "%%px\n",
      "for inst in flatten_inst_arary:\n",
      "    inst.kp_list, inst.desc_list = sift.detectAndCompute(\n",
      "        grey_convert(train_X[inst.ix].reshape(PIXEL_X, PIXEL_Y)),\n",
      "        None\n",
      "    )"
     ],
     "language": "python",
     "metadata": {},
     "outputs": [
      {
       "output_type": "stream",
       "stream": "stdout",
       "text": [
        "CPU times: user 13.2 s, sys: 1.76 s, total: 15 s\n",
        "Wall time: 1min 30s\n"
       ]
      }
     ],
     "prompt_number": 16
    },
    {
     "cell_type": "code",
     "collapsed": false,
     "input": [
      "def get_total_features():\n",
      "    return sum(len(x.kp_list) for x in flatten_inst_arary)\n",
      "\n",
      "ar = dview.apply_sync(get_total_features)\n",
      "np.all(np.equal(ar, ar)), ar[0]"
     ],
     "language": "python",
     "metadata": {},
     "outputs": [
      {
       "metadata": {},
       "output_type": "pyout",
       "prompt_number": 17,
       "text": [
        "(True, 426896)"
       ]
      }
     ],
     "prompt_number": 17
    },
    {
     "cell_type": "code",
     "collapsed": false,
     "input": [
      "def get_avg_features():\n",
      "    return np.mean([len(inst.kp_list) for inst in flatten_inst_arary])\n",
      "\n",
      "ar = dview.apply_sync(get_avg_features)\n",
      "np.all(np.equal(ar, ar)), ar[0]"
     ],
     "language": "python",
     "metadata": {},
     "outputs": [
      {
       "metadata": {},
       "output_type": "pyout",
       "prompt_number": 18,
       "text": [
        "(True, 46.321180555555557)"
       ]
      }
     ],
     "prompt_number": 18
    },
    {
     "cell_type": "heading",
     "level": 2,
     "metadata": {},
     "source": [
      "Matching"
     ]
    },
    {
     "cell_type": "heading",
     "level": 3,
     "metadata": {},
     "source": [
      "Make output dataframe"
     ]
    },
    {
     "cell_type": "code",
     "collapsed": false,
     "input": [
      "TOP_K = 150\n",
      "N_ZODIAC = 12\n",
      "out_dict = {'y': np.zeros(len(train_X))}\n",
      "\n",
      "# Top K columns\n",
      "top_column_names = [\n",
      "    \"z{}_top{}\".format(zwd+1, k+1)\n",
      "    for zwd in range(N_ZODIAC) for k in range(TOP_K)\n",
      "]\n",
      "# Mean columns\n",
      "mean_column_names = [\n",
      "    \"z{}_mean\".format(zwd+1) for zwd in range(N_ZODIAC)\n",
      "]\n",
      "out_dict.update({\n",
      "    col_name : 0 for col_name in top_column_names + mean_column_names\n",
      "})\n",
      "df_sift_train_out = pd.DataFrame(out_dict, dtype=np.float)\n",
      "\n",
      "# sort column name for better human readability\n",
      "df_sift_train_out.columns = (\n",
      "    ['y'] +\n",
      "    top_column_names +\n",
      "    mean_column_names\n",
      ")   "
     ],
     "language": "python",
     "metadata": {},
     "outputs": [],
     "prompt_number": 19
    },
    {
     "cell_type": "heading",
     "level": 3,
     "metadata": {},
     "source": [
      "FLANN Matcher"
     ]
    },
    {
     "cell_type": "code",
     "collapsed": false,
     "input": [
      "%%px\n",
      "# FLANN parameters\n",
      "FLANN_INDEX_KDTREE = 0\n",
      "index_params = dict(algorithm=FLANN_INDEX_KDTREE, trees=5)\n",
      "search_params = dict(checks=100)   # or pass empty dictionary\n",
      "\n",
      "flann = cv2.FlannBasedMatcher(index_params, search_params)"
     ],
     "language": "python",
     "metadata": {},
     "outputs": [],
     "prompt_number": 20
    },
    {
     "cell_type": "code",
     "collapsed": false,
     "input": [
      "%%time\n",
      "dview['TOP_K'] = TOP_K\n",
      "dview['DISTANCE_TH'] = 350\n",
      "\n",
      "dview['df_sift_train_out'] = df_sift_train_out"
     ],
     "language": "python",
     "metadata": {},
     "outputs": [
      {
       "output_type": "stream",
       "stream": "stdout",
       "text": [
        "CPU times: user 2.17 s, sys: 3.28 s, total: 5.45 s\n",
        "Wall time: 4.43 s\n"
       ]
      }
     ],
     "prompt_number": 21
    },
    {
     "cell_type": "code",
     "collapsed": false,
     "input": [
      "def sift_match():\n",
      "    for inst in flatten_inst_arary[inst_i_arr]:\n",
      "        for zwd, zwd_inst_list in zip(range(1, 13), zwd_inst_mat):\n",
      "            prop_matched_list = []\n",
      "            for zwd_inst in zwd_inst_list:\n",
      "                # print(i)\n",
      "                if zwd_inst.desc_list is None:\n",
      "                    # print(\"{} of zwd({}) has no features\".format(zwd_inst.ix, zwd_inst.zwd))\n",
      "                    prop_matched_list.append(0)\n",
      "                    continue\n",
      "                len_feature = len(zwd_inst.desc_list)\n",
      "                all_matches = flann.knnMatch(\n",
      "                    inst.desc_list,\n",
      "                    zwd_inst.desc_list,\n",
      "                    k=len_feature\n",
      "                )\n",
      "                matches_mat = np.unique([\n",
      "                    m.trainIdx for row in all_matches for m in row if m.distance < DISTANCE_TH\n",
      "                ])\n",
      "                prop_matched_list.append(\n",
      "                   len(matches_mat) / float(len_feature)\n",
      "                )\n",
      "            # write match result to data fame\n",
      "            # prop_matched_list.sort(reverse=True)\n",
      "            prop_matched_list = np.sort(prop_matched_list)[::-1]\n",
      "            df_sift_train_out.ix[inst.ix, \"z{}_top1\".format(zwd):\"z{}_top{}\".format(zwd, TOP_K)] = prop_matched_list[:TOP_K]\n",
      "            df_sift_train_out.ix[inst.ix, \"z{}_mean\".format(zwd)] = np.mean(prop_matched_list)"
     ],
     "language": "python",
     "metadata": {},
     "outputs": [],
     "prompt_number": 22
    },
    {
     "cell_type": "code",
     "collapsed": false,
     "input": [
      "len_total_inst = dview['len(flatten_inst_arary)'][0]\n",
      "dview.scatter('inst_i_arr', range(len_total_inst))"
     ],
     "language": "python",
     "metadata": {},
     "outputs": [],
     "prompt_number": 23
    },
    {
     "cell_type": "code",
     "collapsed": false,
     "input": [
      "ar = dview.apply_async(sift_match)"
     ],
     "language": "python",
     "metadata": {},
     "outputs": [],
     "prompt_number": "*"
    },
    {
     "cell_type": "code",
     "collapsed": false,
     "input": [
      "ar.wait_interactive()"
     ],
     "language": "python",
     "metadata": {},
     "outputs": [
      {
       "output_type": "stream",
       "stream": "stdout",
       "text": [
        "   0/16 tasks finished after   11 s"
       ]
      }
     ],
     "prompt_number": "*"
    },
    {
     "cell_type": "heading",
     "level": 2,
     "metadata": {},
     "source": [
      "Gather results"
     ]
    },
    {
     "cell_type": "code",
     "collapsed": false,
     "input": [
      "%%time\n",
      "returned_df_train_list = dview['df_sift_train_out']"
     ],
     "language": "python",
     "metadata": {},
     "outputs": [],
     "prompt_number": "*"
    },
    {
     "cell_type": "markdown",
     "metadata": {},
     "source": [
      "\u5982\u679c\u641e\u7838\u4e86\u7684\u8a71\n",
      "\n",
      "```\n",
      "scatter_i = dview['inst_i_arr']\n",
      "def get_flat_ix():\n",
      "    return [inst.ix for inst in flatten_inst_arary]\n",
      "\n",
      "flat_ix = np.array(rc[0].apply_sync(get_flat_ix))\n",
      "df_final = df_sift_train_out.copy()\n",
      "for i, df in zip(scatter_i, returned_df_out_list):\n",
      "    ix = flat_ix[i]\n",
      "    df_final.ix[ix, :] = df.ix[ix, :]\n",
      "```"
     ]
    },
    {
     "cell_type": "code",
     "collapsed": false,
     "input": [
      "df_final_train = df_sift_train_out.copy()"
     ],
     "language": "python",
     "metadata": {},
     "outputs": [],
     "prompt_number": "*"
    },
    {
     "cell_type": "code",
     "collapsed": false,
     "input": [
      "def get_flat_ix():\n",
      "    return [inst.ix for inst in flatten_inst_arary[inst_i_arr]]\n",
      "\n",
      "scattered_ix = dview.apply_sync(get_flat_ix)"
     ],
     "language": "python",
     "metadata": {},
     "outputs": [],
     "prompt_number": "*"
    },
    {
     "cell_type": "code",
     "collapsed": false,
     "input": [
      "df_final_train = df_sift_train_out.copy()\n",
      "for ix, df in zip(scattered_ix, returned_df_train_list):\n",
      "    df_final_train.ix[ix, :] = df.ix[ix, :]"
     ],
     "language": "python",
     "metadata": {},
     "outputs": [],
     "prompt_number": "*"
    },
    {
     "cell_type": "code",
     "collapsed": false,
     "input": [
      "df_final_train.ix[:10,:10]"
     ],
     "language": "python",
     "metadata": {},
     "outputs": [
      {
       "html": [
        "<div style=\"max-height:1000px;max-width:1500px;overflow:auto;\">\n",
        "<table border=\"1\" class=\"dataframe\">\n",
        "  <thead>\n",
        "    <tr style=\"text-align: right;\">\n",
        "      <th></th>\n",
        "      <th>y</th>\n",
        "      <th>z1_top1</th>\n",
        "      <th>z1_top2</th>\n",
        "      <th>z1_top3</th>\n",
        "      <th>z1_top4</th>\n",
        "      <th>z1_top5</th>\n",
        "      <th>z1_top6</th>\n",
        "      <th>z1_top7</th>\n",
        "      <th>z1_top8</th>\n",
        "      <th>z1_top9</th>\n",
        "    </tr>\n",
        "  </thead>\n",
        "  <tbody>\n",
        "    <tr>\n",
        "      <th>0 </th>\n",
        "      <td>  2</td>\n",
        "      <td> 0.933333</td>\n",
        "      <td> 0.923077</td>\n",
        "      <td> 0.871795</td>\n",
        "      <td> 0.869565</td>\n",
        "      <td> 0.866667</td>\n",
        "      <td> 0.833333</td>\n",
        "      <td> 0.821429</td>\n",
        "      <td> 0.805556</td>\n",
        "      <td> 0.800000</td>\n",
        "    </tr>\n",
        "    <tr>\n",
        "      <th>1 </th>\n",
        "      <td>  1</td>\n",
        "      <td> 1.000000</td>\n",
        "      <td> 0.923077</td>\n",
        "      <td> 0.894737</td>\n",
        "      <td> 0.888889</td>\n",
        "      <td> 0.888889</td>\n",
        "      <td> 0.869565</td>\n",
        "      <td> 0.866667</td>\n",
        "      <td> 0.866667</td>\n",
        "      <td> 0.857143</td>\n",
        "    </tr>\n",
        "    <tr>\n",
        "      <th>2 </th>\n",
        "      <td>  9</td>\n",
        "      <td> 0.923077</td>\n",
        "      <td> 0.897436</td>\n",
        "      <td> 0.888889</td>\n",
        "      <td> 0.883721</td>\n",
        "      <td> 0.842105</td>\n",
        "      <td> 0.837209</td>\n",
        "      <td> 0.829268</td>\n",
        "      <td> 0.823529</td>\n",
        "      <td> 0.809524</td>\n",
        "    </tr>\n",
        "    <tr>\n",
        "      <th>3 </th>\n",
        "      <td> 10</td>\n",
        "      <td> 0.814815</td>\n",
        "      <td> 0.805556</td>\n",
        "      <td> 0.789474</td>\n",
        "      <td> 0.774194</td>\n",
        "      <td> 0.760870</td>\n",
        "      <td> 0.750000</td>\n",
        "      <td> 0.750000</td>\n",
        "      <td> 0.742857</td>\n",
        "      <td> 0.735294</td>\n",
        "    </tr>\n",
        "    <tr>\n",
        "      <th>4 </th>\n",
        "      <td>  9</td>\n",
        "      <td> 0.961538</td>\n",
        "      <td> 0.933333</td>\n",
        "      <td> 0.906977</td>\n",
        "      <td> 0.906977</td>\n",
        "      <td> 0.903226</td>\n",
        "      <td> 0.896552</td>\n",
        "      <td> 0.883721</td>\n",
        "      <td> 0.882353</td>\n",
        "      <td> 0.875000</td>\n",
        "    </tr>\n",
        "    <tr>\n",
        "      <th>5 </th>\n",
        "      <td>  6</td>\n",
        "      <td> 1.000000</td>\n",
        "      <td> 0.956522</td>\n",
        "      <td> 0.883721</td>\n",
        "      <td> 0.880000</td>\n",
        "      <td> 0.866667</td>\n",
        "      <td> 0.866667</td>\n",
        "      <td> 0.860465</td>\n",
        "      <td> 0.857143</td>\n",
        "      <td> 0.850000</td>\n",
        "    </tr>\n",
        "    <tr>\n",
        "      <th>6 </th>\n",
        "      <td> 11</td>\n",
        "      <td> 1.000000</td>\n",
        "      <td> 0.961538</td>\n",
        "      <td> 0.953488</td>\n",
        "      <td> 0.948718</td>\n",
        "      <td> 0.947368</td>\n",
        "      <td> 0.941176</td>\n",
        "      <td> 0.941176</td>\n",
        "      <td> 0.916667</td>\n",
        "      <td> 0.909091</td>\n",
        "    </tr>\n",
        "    <tr>\n",
        "      <th>7 </th>\n",
        "      <td>  9</td>\n",
        "      <td> 0.884615</td>\n",
        "      <td> 0.860465</td>\n",
        "      <td> 0.813953</td>\n",
        "      <td> 0.800000</td>\n",
        "      <td> 0.789474</td>\n",
        "      <td> 0.780488</td>\n",
        "      <td> 0.777778</td>\n",
        "      <td> 0.774194</td>\n",
        "      <td> 0.767442</td>\n",
        "    </tr>\n",
        "    <tr>\n",
        "      <th>8 </th>\n",
        "      <td>  3</td>\n",
        "      <td> 0.923077</td>\n",
        "      <td> 0.800000</td>\n",
        "      <td> 0.800000</td>\n",
        "      <td> 0.794872</td>\n",
        "      <td> 0.794118</td>\n",
        "      <td> 0.789474</td>\n",
        "      <td> 0.782609</td>\n",
        "      <td> 0.775510</td>\n",
        "      <td> 0.767442</td>\n",
        "    </tr>\n",
        "    <tr>\n",
        "      <th>9 </th>\n",
        "      <td>  7</td>\n",
        "      <td> 0.961538</td>\n",
        "      <td> 0.958333</td>\n",
        "      <td> 0.866667</td>\n",
        "      <td> 0.813953</td>\n",
        "      <td> 0.800000</td>\n",
        "      <td> 0.787879</td>\n",
        "      <td> 0.782609</td>\n",
        "      <td> 0.777778</td>\n",
        "      <td> 0.777778</td>\n",
        "    </tr>\n",
        "    <tr>\n",
        "      <th>10</th>\n",
        "      <td>  8</td>\n",
        "      <td> 0.807692</td>\n",
        "      <td> 0.777778</td>\n",
        "      <td> 0.777778</td>\n",
        "      <td> 0.769231</td>\n",
        "      <td> 0.764706</td>\n",
        "      <td> 0.764706</td>\n",
        "      <td> 0.758621</td>\n",
        "      <td> 0.750000</td>\n",
        "      <td> 0.742857</td>\n",
        "    </tr>\n",
        "  </tbody>\n",
        "</table>\n",
        "</div>"
       ],
       "metadata": {},
       "output_type": "pyout",
       "prompt_number": 46,
       "text": [
        "     y   z1_top1   z1_top2   z1_top3   z1_top4   z1_top5   z1_top6   z1_top7  \\\n",
        "0    2  0.933333  0.923077  0.871795  0.869565  0.866667  0.833333  0.821429   \n",
        "1    1  1.000000  0.923077  0.894737  0.888889  0.888889  0.869565  0.866667   \n",
        "2    9  0.923077  0.897436  0.888889  0.883721  0.842105  0.837209  0.829268   \n",
        "3   10  0.814815  0.805556  0.789474  0.774194  0.760870  0.750000  0.750000   \n",
        "4    9  0.961538  0.933333  0.906977  0.906977  0.903226  0.896552  0.883721   \n",
        "5    6  1.000000  0.956522  0.883721  0.880000  0.866667  0.866667  0.860465   \n",
        "6   11  1.000000  0.961538  0.953488  0.948718  0.947368  0.941176  0.941176   \n",
        "7    9  0.884615  0.860465  0.813953  0.800000  0.789474  0.780488  0.777778   \n",
        "8    3  0.923077  0.800000  0.800000  0.794872  0.794118  0.789474  0.782609   \n",
        "9    7  0.961538  0.958333  0.866667  0.813953  0.800000  0.787879  0.782609   \n",
        "10   8  0.807692  0.777778  0.777778  0.769231  0.764706  0.764706  0.758621   \n",
        "\n",
        "     z1_top8   z1_top9  \n",
        "0   0.805556  0.800000  \n",
        "1   0.866667  0.857143  \n",
        "2   0.823529  0.809524  \n",
        "3   0.742857  0.735294  \n",
        "4   0.882353  0.875000  \n",
        "5   0.857143  0.850000  \n",
        "6   0.916667  0.909091  \n",
        "7   0.774194  0.767442  \n",
        "8   0.775510  0.767442  \n",
        "9   0.777778  0.777778  \n",
        "10  0.750000  0.742857  "
       ]
      }
     ],
     "prompt_number": 46
    },
    {
     "cell_type": "code",
     "collapsed": false,
     "input": [
      "CSV_TRAIN_SIFT = \"dataset/train_60x60_grey_SIFT_top150_distth350.csv\"\n",
      "df_final_train['y'] = train_Y.values\n",
      "df_final_train.to_csv(CSV_TRAIN_SIFT, index=False)"
     ],
     "language": "python",
     "metadata": {},
     "outputs": [],
     "prompt_number": "*"
    },
    {
     "cell_type": "heading",
     "level": 2,
     "metadata": {},
     "source": [
      "Applying on Test Data"
     ]
    },
    {
     "cell_type": "code",
     "collapsed": false,
     "input": [
      "out_dict = {'y': np.zeros(len(test_X))}\n",
      "\n",
      "# Top K columns\n",
      "top_column_names = [\n",
      "    \"z{}_top{}\".format(zwd+1, k+1)\n",
      "    for zwd in range(N_ZODIAC) for k in range(TOP_K)\n",
      "]\n",
      "# Mean columns\n",
      "mean_column_names = [\n",
      "    \"z{}_mean\".format(zwd+1) for zwd in range(N_ZODIAC)\n",
      "]\n",
      "out_dict.update({\n",
      "    col_name : 0 for col_name in top_column_names + mean_column_names\n",
      "})\n",
      "df_sift_test_out = pd.DataFrame(out_dict, dtype=np.float)\n",
      "\n",
      "# sort column name for better human readability\n",
      "df_sift_test_out.columns = (\n",
      "    ['y'] +\n",
      "    top_column_names +\n",
      "    mean_column_names\n",
      ")   "
     ],
     "language": "python",
     "metadata": {},
     "outputs": [],
     "prompt_number": "*"
    },
    {
     "cell_type": "code",
     "collapsed": false,
     "input": [
      "%%time\n",
      "dview['df_sift_test_out'] = df_sift_test_out"
     ],
     "language": "python",
     "metadata": {},
     "outputs": [],
     "prompt_number": "*"
    },
    {
     "cell_type": "code",
     "collapsed": false,
     "input": [
      "%%time\n",
      "%%px\n",
      "group_test = df_test.groupby(\"y\")\n",
      "group_test_inst_ix = [v for v in group_test.groups.values()]\n",
      "\n",
      "zwd_test_inst_mat = [\n",
      "    [Instance(ix=ix, zwd=zwd) for ix in ix_array] \n",
      "    for ix_array, zwd in zip(group_test_inst_ix, range(1, 13))\n",
      "]\n",
      "flatten_test_inst_arary = np.array(\n",
      "    [inst for inst_array in zwd_test_inst_mat for inst in inst_array]\n",
      ")"
     ],
     "language": "python",
     "metadata": {},
     "outputs": [],
     "prompt_number": "*"
    },
    {
     "cell_type": "code",
     "collapsed": false,
     "input": [
      "dview.get(('len(flatten_test_inst_arary)', 'len(flatten_inst_arary)'))"
     ],
     "language": "python",
     "metadata": {},
     "outputs": [],
     "prompt_number": "*"
    },
    {
     "cell_type": "heading",
     "level": 3,
     "metadata": {},
     "source": [
      "SIFT"
     ]
    },
    {
     "cell_type": "code",
     "collapsed": false,
     "input": [
      "%%time\n",
      "%%px\n",
      "for inst in flatten_test_inst_arary:\n",
      "    inst.kp_list, inst.desc_list = sift.detectAndCompute(\n",
      "        grey_convert(test_X[inst.ix].reshape(PIXEL_X, PIXEL_Y)),\n",
      "        None\n",
      "    )"
     ],
     "language": "python",
     "metadata": {},
     "outputs": [],
     "prompt_number": "*"
    },
    {
     "cell_type": "code",
     "collapsed": false,
     "input": [
      "def get_total_test_features():\n",
      "    return sum(len(x.kp_list) for x in flatten_test_inst_arary)\n",
      "\n",
      "ar = dview.apply_sync(get_total_test_features)\n",
      "np.all(np.equal(ar, ar)), ar[0]"
     ],
     "language": "python",
     "metadata": {},
     "outputs": [],
     "prompt_number": "*"
    },
    {
     "cell_type": "code",
     "collapsed": false,
     "input": [
      "def get_avg_test_features():\n",
      "    return np.mean([len(inst.kp_list) for inst in flatten_test_inst_arary])\n",
      "\n",
      "ar = dview.apply_sync(get_avg_test_features)\n",
      "np.all(np.equal(ar, ar)), ar[0]"
     ],
     "language": "python",
     "metadata": {},
     "outputs": [],
     "prompt_number": "*"
    },
    {
     "cell_type": "heading",
     "level": 3,
     "metadata": {},
     "source": [
      "FLANN Match"
     ]
    },
    {
     "cell_type": "code",
     "collapsed": false,
     "input": [
      "def sift_match_test():\n",
      "    for inst in flatten_test_inst_arary[inst_i_arr]:\n",
      "        for zwd, zwd_inst_list in zip(range(1, 13), zwd_inst_mat):\n",
      "            prop_matched_list = []\n",
      "            for zwd_inst in zwd_inst_list:\n",
      "                # print(i)\n",
      "                if zwd_inst.desc_list is None:\n",
      "                    # print(\"{} of zwd({}) has no features\".format(zwd_inst.ix, zwd_inst.zwd))\n",
      "                    prop_matched_list.append(0)\n",
      "                    continue\n",
      "                len_feature = len(zwd_inst.desc_list)\n",
      "                all_matches = flann.knnMatch(\n",
      "                    inst.desc_list,\n",
      "                    zwd_inst.desc_list,\n",
      "                    k=len_feature\n",
      "                )\n",
      "                matches_mat = np.unique([\n",
      "                    m.trainIdx for row in all_matches for m in row if m.distance < DISTANCE_TH\n",
      "                ])\n",
      "                prop_matched_list.append(\n",
      "                   len(matches_mat) / float(len_feature)\n",
      "                )\n",
      "            # write match result to data fame\n",
      "            # prop_matched_list.sort(reverse=True)\n",
      "            prop_matched_list = np.sort(prop_matched_list)[::-1]\n",
      "            df_sift_test_out.ix[inst.ix, \"z{}_top1\".format(zwd):\"z{}_top{}\".format(zwd, TOP_K)] = prop_matched_list[:TOP_K]\n",
      "            df_sift_test_out.ix[inst.ix, \"z{}_mean\".format(zwd)] = np.mean(prop_matched_list)"
     ],
     "language": "python",
     "metadata": {},
     "outputs": [],
     "prompt_number": "*"
    },
    {
     "cell_type": "code",
     "collapsed": false,
     "input": [
      "len_total_inst = dview['len(flatten_test_inst_arary)'][0]\n",
      "dview.scatter('inst_i_arr', range(len_total_inst))"
     ],
     "language": "python",
     "metadata": {},
     "outputs": [],
     "prompt_number": "*"
    },
    {
     "cell_type": "code",
     "collapsed": false,
     "input": [
      "ar = dview.apply_async(sift_match_test)"
     ],
     "language": "python",
     "metadata": {},
     "outputs": [],
     "prompt_number": "*"
    },
    {
     "cell_type": "code",
     "collapsed": false,
     "input": [
      "ar.wall_time, ar.ready() # get how many time passed\n",
      "ar.wait_interactive()\n",
      "# ar.metadata"
     ],
     "language": "python",
     "metadata": {},
     "outputs": [
      {
       "output_type": "stream",
       "stream": "stdout",
       "text": [
        "\n",
        "done\n"
       ]
      }
     ],
     "prompt_number": 55
    },
    {
     "cell_type": "heading",
     "level": 3,
     "metadata": {},
     "source": [
      "Gather"
     ]
    },
    {
     "cell_type": "code",
     "collapsed": false,
     "input": [
      "returned_df_test_list = dview['df_sift_test_out']"
     ],
     "language": "python",
     "metadata": {},
     "outputs": [],
     "prompt_number": 48
    },
    {
     "cell_type": "code",
     "collapsed": false,
     "input": [
      "df_final_test = df_sift_test_out.copy()\n",
      "for df in returned_df_test_list:\n",
      "    df_final_test = df + df_final_test"
     ],
     "language": "python",
     "metadata": {},
     "outputs": [],
     "prompt_number": 49
    },
    {
     "cell_type": "code",
     "collapsed": false,
     "input": [
      "df_final_test.ix[140:150, :10]"
     ],
     "language": "python",
     "metadata": {},
     "outputs": [
      {
       "html": [
        "<div style=\"max-height:1000px;max-width:1500px;overflow:auto;\">\n",
        "<table border=\"1\" class=\"dataframe\">\n",
        "  <thead>\n",
        "    <tr style=\"text-align: right;\">\n",
        "      <th></th>\n",
        "      <th>y</th>\n",
        "      <th>z1_top1</th>\n",
        "      <th>z1_top2</th>\n",
        "      <th>z1_top3</th>\n",
        "      <th>z1_top4</th>\n",
        "      <th>z1_top5</th>\n",
        "      <th>z1_top6</th>\n",
        "      <th>z1_top7</th>\n",
        "      <th>z1_top8</th>\n",
        "      <th>z1_top9</th>\n",
        "    </tr>\n",
        "  </thead>\n",
        "  <tbody>\n",
        "    <tr>\n",
        "      <th>140</th>\n",
        "      <td> 0</td>\n",
        "      <td> 0.875000</td>\n",
        "      <td> 0.860465</td>\n",
        "      <td> 0.800000</td>\n",
        "      <td> 0.750000</td>\n",
        "      <td> 0.741935</td>\n",
        "      <td> 0.729730</td>\n",
        "      <td> 0.727273</td>\n",
        "      <td> 0.708333</td>\n",
        "      <td> 0.700000</td>\n",
        "    </tr>\n",
        "    <tr>\n",
        "      <th>141</th>\n",
        "      <td> 0</td>\n",
        "      <td> 0.944444</td>\n",
        "      <td> 0.944444</td>\n",
        "      <td> 0.935484</td>\n",
        "      <td> 0.933333</td>\n",
        "      <td> 0.933333</td>\n",
        "      <td> 0.923077</td>\n",
        "      <td> 0.904762</td>\n",
        "      <td> 0.894737</td>\n",
        "      <td> 0.875000</td>\n",
        "    </tr>\n",
        "    <tr>\n",
        "      <th>142</th>\n",
        "      <td> 0</td>\n",
        "      <td> 1.000000</td>\n",
        "      <td> 0.956522</td>\n",
        "      <td> 0.948718</td>\n",
        "      <td> 0.947368</td>\n",
        "      <td> 0.935484</td>\n",
        "      <td> 0.935484</td>\n",
        "      <td> 0.933333</td>\n",
        "      <td> 0.930233</td>\n",
        "      <td> 0.923077</td>\n",
        "    </tr>\n",
        "    <tr>\n",
        "      <th>143</th>\n",
        "      <td> 0</td>\n",
        "      <td> 0.923077</td>\n",
        "      <td> 0.894737</td>\n",
        "      <td> 0.869565</td>\n",
        "      <td> 0.866667</td>\n",
        "      <td> 0.860465</td>\n",
        "      <td> 0.860465</td>\n",
        "      <td> 0.833333</td>\n",
        "      <td> 0.833333</td>\n",
        "      <td> 0.825000</td>\n",
        "    </tr>\n",
        "    <tr>\n",
        "      <th>144</th>\n",
        "      <td> 0</td>\n",
        "      <td> 1.000000</td>\n",
        "      <td> 0.933333</td>\n",
        "      <td> 0.916667</td>\n",
        "      <td> 0.909091</td>\n",
        "      <td> 0.880952</td>\n",
        "      <td> 0.857143</td>\n",
        "      <td> 0.837209</td>\n",
        "      <td> 0.828571</td>\n",
        "      <td> 0.813953</td>\n",
        "    </tr>\n",
        "    <tr>\n",
        "      <th>145</th>\n",
        "      <td> 0</td>\n",
        "      <td> 0.961538</td>\n",
        "      <td> 0.933333</td>\n",
        "      <td> 0.933333</td>\n",
        "      <td> 0.916667</td>\n",
        "      <td> 0.880952</td>\n",
        "      <td> 0.869565</td>\n",
        "      <td> 0.828571</td>\n",
        "      <td> 0.827586</td>\n",
        "      <td> 0.823529</td>\n",
        "    </tr>\n",
        "    <tr>\n",
        "      <th>146</th>\n",
        "      <td> 0</td>\n",
        "      <td> 0.933333</td>\n",
        "      <td> 0.923077</td>\n",
        "      <td> 0.923077</td>\n",
        "      <td> 0.888889</td>\n",
        "      <td> 0.880952</td>\n",
        "      <td> 0.866667</td>\n",
        "      <td> 0.861111</td>\n",
        "      <td> 0.852941</td>\n",
        "      <td> 0.852941</td>\n",
        "    </tr>\n",
        "    <tr>\n",
        "      <th>147</th>\n",
        "      <td> 0</td>\n",
        "      <td> 0.333333</td>\n",
        "      <td> 0.290323</td>\n",
        "      <td> 0.266667</td>\n",
        "      <td> 0.263158</td>\n",
        "      <td> 0.250000</td>\n",
        "      <td> 0.238095</td>\n",
        "      <td> 0.235294</td>\n",
        "      <td> 0.222222</td>\n",
        "      <td> 0.222222</td>\n",
        "    </tr>\n",
        "    <tr>\n",
        "      <th>148</th>\n",
        "      <td> 0</td>\n",
        "      <td> 1.000000</td>\n",
        "      <td> 1.000000</td>\n",
        "      <td> 0.974359</td>\n",
        "      <td> 0.939394</td>\n",
        "      <td> 0.923077</td>\n",
        "      <td> 0.909091</td>\n",
        "      <td> 0.906977</td>\n",
        "      <td> 0.904762</td>\n",
        "      <td> 0.895833</td>\n",
        "    </tr>\n",
        "    <tr>\n",
        "      <th>149</th>\n",
        "      <td> 0</td>\n",
        "      <td> 1.000000</td>\n",
        "      <td> 1.000000</td>\n",
        "      <td> 0.956522</td>\n",
        "      <td> 0.941176</td>\n",
        "      <td> 0.939394</td>\n",
        "      <td> 0.933333</td>\n",
        "      <td> 0.928571</td>\n",
        "      <td> 0.923077</td>\n",
        "      <td> 0.894737</td>\n",
        "    </tr>\n",
        "    <tr>\n",
        "      <th>150</th>\n",
        "      <td> 0</td>\n",
        "      <td> 1.000000</td>\n",
        "      <td> 0.933333</td>\n",
        "      <td> 0.933333</td>\n",
        "      <td> 0.925000</td>\n",
        "      <td> 0.923077</td>\n",
        "      <td> 0.913043</td>\n",
        "      <td> 0.875000</td>\n",
        "      <td> 0.875000</td>\n",
        "      <td> 0.870968</td>\n",
        "    </tr>\n",
        "  </tbody>\n",
        "</table>\n",
        "</div>"
       ],
       "metadata": {},
       "output_type": "pyout",
       "prompt_number": 50,
       "text": [
        "     y   z1_top1   z1_top2   z1_top3   z1_top4   z1_top5   z1_top6   z1_top7  \\\n",
        "140  0  0.875000  0.860465  0.800000  0.750000  0.741935  0.729730  0.727273   \n",
        "141  0  0.944444  0.944444  0.935484  0.933333  0.933333  0.923077  0.904762   \n",
        "142  0  1.000000  0.956522  0.948718  0.947368  0.935484  0.935484  0.933333   \n",
        "143  0  0.923077  0.894737  0.869565  0.866667  0.860465  0.860465  0.833333   \n",
        "144  0  1.000000  0.933333  0.916667  0.909091  0.880952  0.857143  0.837209   \n",
        "145  0  0.961538  0.933333  0.933333  0.916667  0.880952  0.869565  0.828571   \n",
        "146  0  0.933333  0.923077  0.923077  0.888889  0.880952  0.866667  0.861111   \n",
        "147  0  0.333333  0.290323  0.266667  0.263158  0.250000  0.238095  0.235294   \n",
        "148  0  1.000000  1.000000  0.974359  0.939394  0.923077  0.909091  0.906977   \n",
        "149  0  1.000000  1.000000  0.956522  0.941176  0.939394  0.933333  0.928571   \n",
        "150  0  1.000000  0.933333  0.933333  0.925000  0.923077  0.913043  0.875000   \n",
        "\n",
        "      z1_top8   z1_top9  \n",
        "140  0.708333  0.700000  \n",
        "141  0.894737  0.875000  \n",
        "142  0.930233  0.923077  \n",
        "143  0.833333  0.825000  \n",
        "144  0.828571  0.813953  \n",
        "145  0.827586  0.823529  \n",
        "146  0.852941  0.852941  \n",
        "147  0.222222  0.222222  \n",
        "148  0.904762  0.895833  \n",
        "149  0.923077  0.894737  \n",
        "150  0.875000  0.870968  "
       ]
      }
     ],
     "prompt_number": 50
    },
    {
     "cell_type": "code",
     "collapsed": false,
     "input": [
      "CSV_TEST_SIFT = \"dataset/test_60x60_grey_SIFT_top150_distth350.csv\"\n",
      "df_final_test.to_csv(CSV_TEST_SIFT, index=False)"
     ],
     "language": "python",
     "metadata": {},
     "outputs": [],
     "prompt_number": 56
    },
    {
     "cell_type": "code",
     "collapsed": false,
     "input": [
      "ls -hl $CSV_TRAIN_SIFT $CSV_TEST_SIFT"
     ],
     "language": "python",
     "metadata": {},
     "outputs": [
      {
       "output_type": "stream",
       "stream": "stdout",
       "text": [
        "-rw-r--r-- 1 liang users  87M 2014-01-11 13:37 dataset/test_60x60_grey_SIFT_top150_distth350.csv\r\n",
        "-rw-r--r-- 1 liang users 195M 2014-01-10 17:48 dataset/train_60x60_grey_SIFT_top150_distth350.csv\r\n"
       ]
      }
     ],
     "prompt_number": 57
    },
    {
     "cell_type": "code",
     "collapsed": false,
     "input": [],
     "language": "python",
     "metadata": {},
     "outputs": [],
     "prompt_number": "*"
    }
   ],
   "metadata": {}
  }
 ]
}