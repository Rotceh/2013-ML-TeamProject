{
 "metadata": {
  "name": ""
 },
 "nbformat": 3,
 "nbformat_minor": 0,
 "worksheets": [
  {
   "cells": [
    {
     "cell_type": "markdown",
     "metadata": {},
     "source": [
      "Parser \u73fe\u5728\u5df2\u7d93\u5beb\u597d\u4e86\uff0c\u6240\u4ee5\u53ef\u4ee5\u76f4\u63a5 import \u5b83\u4f86\u7528"
     ]
    },
    {
     "cell_type": "code",
     "collapsed": false,
     "input": [
      "from util.parser import dat_parser"
     ],
     "language": "python",
     "metadata": {},
     "outputs": [],
     "prompt_number": 1
    },
    {
     "cell_type": "code",
     "collapsed": false,
     "input": [
      "DAT_TRAIN = \"dataset/ml2013final_train.dat\""
     ],
     "language": "python",
     "metadata": {},
     "outputs": [],
     "prompt_number": 2
    },
    {
     "cell_type": "code",
     "collapsed": false,
     "input": [
      "for y, x_list in dat_parser(DAT_TRAIN, line_num=5):\n",
      "    print(y, x_list[:3])"
     ],
     "language": "python",
     "metadata": {},
     "outputs": [
      {
       "output_type": "stream",
       "stream": "stdout",
       "text": [
        "2 [['3729', '0.00392156862745'], ['3938', '0.541176470588'], ['3939', '0.639215686275']]\n",
        "1 [['1314', '0.00392156862745'], ['1318', '0.00392156862745'], ['1418', '0.00392156862745']]\n",
        "9 [['2344', '0.0117647058824'], ['2345', '0.00392156862745'], ['2448', '0.0392156862745']]\n",
        "10 [['762', '0.00392156862745'], ['866', '0.00392156862745'], ['975', '0.0352941176471']]\n",
        "9 [['3634', '0.00392156862745'], ['3638', '0.00392156862745'], ['3643', '0.00392156862745']]\n"
       ]
      }
     ],
     "prompt_number": 3
    },
    {
     "cell_type": "heading",
     "level": 1,
     "metadata": {},
     "source": [
      "Skim"
     ]
    },
    {
     "cell_type": "code",
     "collapsed": false,
     "input": [
      "from collections import Counter"
     ],
     "language": "python",
     "metadata": {},
     "outputs": [],
     "prompt_number": 4
    },
    {
     "cell_type": "markdown",
     "metadata": {},
     "source": [
      "\u7d71\u8a08\u6bcf\u500b\u751f\u8096\u5171\u6709\u5e7e\u500b cases"
     ]
    },
    {
     "cell_type": "code",
     "collapsed": false,
     "input": [
      "zodiac = Counter()\n",
      "zodiac.update(y for y, _ in dat_parser(DAT_TRAIN))"
     ],
     "language": "python",
     "metadata": {},
     "outputs": [],
     "prompt_number": 5
    },
    {
     "cell_type": "code",
     "collapsed": false,
     "input": [
      "zodiac"
     ],
     "language": "python",
     "metadata": {},
     "outputs": [
      {
       "metadata": {},
       "output_type": "pyout",
       "prompt_number": 6,
       "text": [
        "Counter({'3': 542, '1': 527, '10': 522, '5': 519, '11': 516, '9': 514, '4': 513, '12': 511, '2': 507, '6': 495, '7': 494, '8': 484})"
       ]
      }
     ],
     "prompt_number": 6
    },
    {
     "cell_type": "markdown",
     "metadata": {},
     "source": [
      "\u6709\u5169\u500b\u4f86\u4e82\u7684\uff0c\u5206\u5225\u662f 446, 4186 \u884c\uff0c\u53ea\u6709\u5206\u985e\uff0c\u4e26\u6c92\u6709\u4efb\u4f55 x \u8f38\u5165"
     ]
    },
    {
     "cell_type": "code",
     "collapsed": false,
     "input": [
      "zodiac_list = sorted(\n",
      "    [k for k in  zodiac.keys() if k.isdecimal()],\n",
      "    key=lambda x: int(x)\n",
      ")\n",
      "len(zodiac_list)"
     ],
     "language": "python",
     "metadata": {},
     "outputs": [
      {
       "metadata": {},
       "output_type": "pyout",
       "prompt_number": 7,
       "text": [
        "12"
       ]
      }
     ],
     "prompt_number": 7
    },
    {
     "cell_type": "code",
     "collapsed": false,
     "input": [
      "zodiac_x = {\n",
      "    k: Counter()\n",
      "    for k in zodiac_list\n",
      "}"
     ],
     "language": "python",
     "metadata": {},
     "outputs": [],
     "prompt_number": 8
    },
    {
     "cell_type": "markdown",
     "metadata": {},
     "source": [
      "\u60f3\u770b\u6bcf\u500b\u751f\u8096\u7684 X \u5206\u5e03\u6709\u6c92\u6709\u4e0d\u4e00\u6a23"
     ]
    },
    {
     "cell_type": "code",
     "collapsed": false,
     "input": [
      "for i, (y, x_list) in enumerate(dat_parser(DAT_TRAIN), 1):\n",
      "    if y not in zodiac_list:\n",
      "        print(\"Strang entry at line:\", i)\n",
      "        continue\n",
      "    else:\n",
      "        zodiac_x[y].update(x_loc for x_loc, x_value in x_list)"
     ],
     "language": "python",
     "metadata": {},
     "outputs": [],
     "prompt_number": 9
    },
    {
     "cell_type": "code",
     "collapsed": false,
     "input": [
      "for y, x_stat in zodiac_x.items():\n",
      "    print(y, x_stat.most_common(6))"
     ],
     "language": "python",
     "metadata": {},
     "outputs": [
      {
       "output_type": "stream",
       "stream": "stdout",
       "text": [
        "8 [('4876', 185), ('4983', 184), ('4982', 183), ('5511', 181), ('4353', 181), ('4248', 179)]\n",
        "9 [('6358', 194), ('6647', 190), ('6253', 187), ('6856', 182), ('5522', 182), ('5939', 181)]\n",
        "2 [('4984', 185), ('5299', 181), ('5404', 174), ('5089', 171), ('5509', 169), ('5300', 166)]\n",
        "3 [('4670', 202), ('4776', 199), ('4456', 199), ('4458', 197), ('4565', 195), ('4459', 195)]\n",
        "1 [('6664', 192), ('6769', 191), ('8022', 190), ('7809', 187), ('7917', 186), ('6126', 185)]\n",
        "10 [('6539', 216), ('6747', 214), ('6748', 212), ('6644', 208), ('6119', 206), ('6436', 206)]\n",
        "11 [('6334', 178), ('5807', 173), ('6331', 171), ('6228', 170), ('6332', 170), ('6227', 169)]\n",
        "4 [('5819', 204), ('5926', 200), ('5928', 199), ('5927', 198), ('6032', 198), ('6134', 197)]\n",
        "7 [('4453', 197), ('4978', 196), ('5294', 193), ('5189', 193), ('5086', 193), ('4768', 192)]\n",
        "6"
       ]
      },
      {
       "output_type": "stream",
       "stream": "stdout",
       "text": [
        " [('6537', 196), ('6535', 195), ('6539', 194), ('6639', 192), ('6433', 188), ('6540', 187)]\n",
        "12 [('6751', 200), ('6224', 196), ('6856', 195), ('7171', 193), ('6149', 191), ('6328', 190)]\n",
        "5 [('7279', 204), ('5384', 203), ('7280', 202), ('5803', 201), ('7175', 199), ('4965', 199)]\n"
       ]
      }
     ],
     "prompt_number": 10
    },
    {
     "cell_type": "markdown",
     "metadata": {},
     "source": [
      "\u770b\u4e00\u4e0b X \u7684\u6700\u5927\u6700\u5c0f\u7bc4\u570d"
     ]
    },
    {
     "cell_type": "code",
     "collapsed": false,
     "input": [
      "x_range = set()"
     ],
     "language": "python",
     "metadata": {},
     "outputs": [],
     "prompt_number": 11
    },
    {
     "cell_type": "code",
     "collapsed": false,
     "input": [
      "for y, x_stat in zodiac_x.items():\n",
      "    x_range.update(int(x) for x in x_stat.keys())"
     ],
     "language": "python",
     "metadata": {},
     "outputs": [],
     "prompt_number": 12
    },
    {
     "cell_type": "code",
     "collapsed": false,
     "input": [
      "min(x_range), max(x_range)"
     ],
     "language": "python",
     "metadata": {},
     "outputs": [
      {
       "metadata": {},
       "output_type": "pyout",
       "prompt_number": 13,
       "text": [
        "(1, 12810)"
       ]
      }
     ],
     "prompt_number": 13
    },
    {
     "cell_type": "heading",
     "level": 1,
     "metadata": {},
     "source": [
      "Transform to Normal Data Frame"
     ]
    },
    {
     "cell_type": "code",
     "collapsed": false,
     "input": [
      "y, x_list = next(dat_parser(DAT_TRAIN, line_num=1))"
     ],
     "language": "python",
     "metadata": {},
     "outputs": [],
     "prompt_number": 14
    },
    {
     "cell_type": "code",
     "collapsed": false,
     "input": [
      "len(x_list)"
     ],
     "language": "python",
     "metadata": {},
     "outputs": [
      {
       "metadata": {},
       "output_type": "pyout",
       "prompt_number": 15,
       "text": [
        "276"
       ]
      }
     ],
     "prompt_number": 15
    },
    {
     "cell_type": "markdown",
     "metadata": {},
     "source": [
      "\u5e73\u5747\u4e00\u500b\u6709\u5927\u7d04 300 \u500b X \u6709\u503c\uff0c\u5171\u6709 12,810 columns x 6,144 rows\uff0c\u53ef\u80fd\u6703\u7528\u6389 ~600 MB \u7684\u8a18\u61b6\u9ad4\u3002"
     ]
    },
    {
     "cell_type": "code",
     "collapsed": false,
     "input": [
      "import pandas as pd\n",
      "import numpy as np"
     ],
     "language": "python",
     "metadata": {},
     "outputs": [],
     "prompt_number": 2
    },
    {
     "cell_type": "code",
     "collapsed": false,
     "input": [
      "N_COL = max(x_range) + 1   # an extra column for y\n",
      "N_ROW = sum(1 for _ in dat_parser(DAT_TRAIN))   # number of entries"
     ],
     "language": "python",
     "metadata": {},
     "outputs": [],
     "prompt_number": 17
    },
    {
     "cell_type": "code",
     "collapsed": false,
     "input": [
      "CSV_TRAIN = \"dataset/train.csv\""
     ],
     "language": "python",
     "metadata": {},
     "outputs": [],
     "prompt_number": 21
    },
    {
     "cell_type": "heading",
     "level": 3,
     "metadata": {},
     "source": [
      "Filling Y and Xs"
     ]
    },
    {
     "cell_type": "code",
     "collapsed": false,
     "input": [
      "def fill_data(y, x_list, x_len = 12810):\n",
      "    filled_row = np.empty(x_len + 1)\n",
      "    filled_row[:] = np.NAN\n",
      "    filled_row[0] = y\n",
      "    for x_loc, x_val in x_list:\n",
      "        filled_row[int(x_loc)] = float(x_val)\n",
      "    return filled_row"
     ],
     "language": "python",
     "metadata": {},
     "outputs": [],
     "prompt_number": 7
    },
    {
     "cell_type": "code",
     "collapsed": false,
     "input": [
      "r = fill_data(y, x_list)\n",
      "r[:10], r[~np.isnan(r)][:10]"
     ],
     "language": "python",
     "metadata": {},
     "outputs": [
      {
       "metadata": {},
       "output_type": "pyout",
       "prompt_number": 38,
       "text": [
        "(array([  2.,  nan,  nan,  nan,  nan,  nan,  nan,  nan,  nan,  nan]),\n",
        " array([ 2.        ,  0.00392157,  0.54117647,  0.63921569,  0.40784314,\n",
        "        0.64313725,  0.81960784,  1.        ,  0.15686275,  0.02352941]))"
       ]
      }
     ],
     "prompt_number": 38
    },
    {
     "cell_type": "code",
     "collapsed": false,
     "input": [
      "%%time\n",
      "df_out = pd.DataFrame(\n",
      "    [fill_data(y, x_list) for y, x_list in dat_parser(DAT_TRAIN)],\n",
      "    columns=[\n",
      "        (\"x_{}\".format(i) if i >= 1 else \"y\") for i in range(N_COL)\n",
      "    ]\n",
      ")"
     ],
     "language": "python",
     "metadata": {},
     "outputs": [
      {
       "output_type": "stream",
       "stream": "stdout",
       "text": [
        "CPU times: user 23 s, sys: 752 ms, total: 23.8 s\n",
        "Wall time: 23.8 s\n"
       ]
      }
     ],
     "prompt_number": 75
    },
    {
     "cell_type": "code",
     "collapsed": false,
     "input": [
      "df_out.ix[1:3, [0] + list(range(4005, 4015))]"
     ],
     "language": "python",
     "metadata": {},
     "outputs": [
      {
       "html": [
        "<div style=\"max-height:1000px;max-width:1500px;overflow:auto;\">\n",
        "<table border=\"1\" class=\"dataframe\">\n",
        "  <thead>\n",
        "    <tr style=\"text-align: right;\">\n",
        "      <th></th>\n",
        "      <th>y</th>\n",
        "      <th>x_4005</th>\n",
        "      <th>x_4006</th>\n",
        "      <th>x_4007</th>\n",
        "      <th>x_4008</th>\n",
        "      <th>x_4009</th>\n",
        "      <th>x_4010</th>\n",
        "      <th>x_4011</th>\n",
        "      <th>x_4012</th>\n",
        "      <th>x_4013</th>\n",
        "      <th>x_4014</th>\n",
        "    </tr>\n",
        "  </thead>\n",
        "  <tbody>\n",
        "    <tr>\n",
        "      <th>1</th>\n",
        "      <td>  1</td>\n",
        "      <td>      NaN</td>\n",
        "      <td>NaN</td>\n",
        "      <td>      NaN</td>\n",
        "      <td>      NaN</td>\n",
        "      <td>      NaN</td>\n",
        "      <td>      NaN</td>\n",
        "      <td>      NaN</td>\n",
        "      <td>      NaN</td>\n",
        "      <td>NaN</td>\n",
        "      <td>      NaN</td>\n",
        "    </tr>\n",
        "    <tr>\n",
        "      <th>2</th>\n",
        "      <td>  9</td>\n",
        "      <td>      NaN</td>\n",
        "      <td>NaN</td>\n",
        "      <td>      NaN</td>\n",
        "      <td> 0.337255</td>\n",
        "      <td> 1.000000</td>\n",
        "      <td> 1.000000</td>\n",
        "      <td> 0.611765</td>\n",
        "      <td> 0.007843</td>\n",
        "      <td>NaN</td>\n",
        "      <td>      NaN</td>\n",
        "    </tr>\n",
        "    <tr>\n",
        "      <th>3</th>\n",
        "      <td> 10</td>\n",
        "      <td> 0.031373</td>\n",
        "      <td>NaN</td>\n",
        "      <td> 0.984314</td>\n",
        "      <td> 1.000000</td>\n",
        "      <td> 0.035294</td>\n",
        "      <td> 0.070588</td>\n",
        "      <td> 0.023529</td>\n",
        "      <td> 0.411765</td>\n",
        "      <td>  1</td>\n",
        "      <td> 0.580392</td>\n",
        "    </tr>\n",
        "  </tbody>\n",
        "</table>\n",
        "</div>"
       ],
       "metadata": {},
       "output_type": "pyout",
       "prompt_number": 77,
       "text": [
        "    y    x_4005  x_4006    x_4007    x_4008    x_4009    x_4010    x_4011  \\\n",
        "1   1       NaN     NaN       NaN       NaN       NaN       NaN       NaN   \n",
        "2   9       NaN     NaN       NaN  0.337255  1.000000  1.000000  0.611765   \n",
        "3  10  0.031373     NaN  0.984314  1.000000  0.035294  0.070588  0.023529   \n",
        "\n",
        "     x_4012  x_4013    x_4014  \n",
        "1       NaN     NaN       NaN  \n",
        "2  0.007843     NaN       NaN  \n",
        "3  0.411765       1  0.580392  "
       ]
      }
     ],
     "prompt_number": 77
    },
    {
     "cell_type": "code",
     "collapsed": false,
     "input": [
      "%%time\n",
      "df_out.to_csv(CSV_TRAIN, index=False)"
     ],
     "language": "python",
     "metadata": {},
     "outputs": [
      {
       "output_type": "stream",
       "stream": "stdout",
       "text": [
        "CPU times: user 40.1 s, sys: 1.22 s, total: 41.3 s\n",
        "Wall time: 41.5 s\n"
       ]
      }
     ],
     "prompt_number": 78
    },
    {
     "cell_type": "heading",
     "level": 1,
     "metadata": {},
     "source": [
      "Check Test Case Dimension"
     ]
    },
    {
     "cell_type": "code",
     "collapsed": false,
     "input": [
      "DAT_TEST = \"dataset/ml2013final_test1.nolabel.dat\"\n",
      "for y, x_list in dat_parser(DAT_TEST, line_num=5):\n",
      "    print(y, x_list[:3])"
     ],
     "language": "python",
     "metadata": {},
     "outputs": [
      {
       "output_type": "stream",
       "stream": "stdout",
       "text": [
        "0 [['459', '0.00392156862745'], ['460', '0.0078431372549'], ['563', '0.133333333333']]\n",
        "0 [['5088', '0.00392156862745'], ['5090', '0.00392156862745'], ['5188', '0.0196078431373']]\n",
        "0 [['1520', '0.00392156862745'], ['1522', '0.00392156862745'], ['1523', '0.00392156862745']]\n",
        "0 [['53', '0.137254901961'], ['54', '0.117647058824'], ['55', '0.109803921569']]\n",
        "0 [['2878', '0.00392156862745'], ['3089', '0.0117647058824'], ['3092', '0.00392156862745']]\n"
       ]
      }
     ],
     "prompt_number": 80
    },
    {
     "cell_type": "code",
     "collapsed": false,
     "input": [
      "zodiac_x = Counter()\n",
      "for y, x_list in dat_parser(DAT_TEST):\n",
      "    zodiac_x.update(x_loc for x_loc, _ in x_list)"
     ],
     "language": "python",
     "metadata": {},
     "outputs": [],
     "prompt_number": 83
    },
    {
     "cell_type": "code",
     "collapsed": false,
     "input": [
      "x_range = [int(x) for x in zodiac_x.keys()]"
     ],
     "language": "python",
     "metadata": {},
     "outputs": [],
     "prompt_number": 84
    },
    {
     "cell_type": "code",
     "collapsed": false,
     "input": [
      "min(x_range), max(x_range)"
     ],
     "language": "python",
     "metadata": {},
     "outputs": [
      {
       "metadata": {},
       "output_type": "pyout",
       "prompt_number": 85,
       "text": [
        "(1, 12810)"
       ]
      }
     ],
     "prompt_number": 85
    },
    {
     "cell_type": "markdown",
     "metadata": {},
     "source": [
      "\u6240\u4ee5 X \u7684\u7bc4\u570d\u61c9\u8a72\u662f\u6c92\u6709\u8b8a\u7684\u3002"
     ]
    },
    {
     "cell_type": "heading",
     "level": 1,
     "metadata": {},
     "source": [
      "Test 2"
     ]
    },
    {
     "cell_type": "code",
     "collapsed": false,
     "input": [
      "CSV_NEWTEST = \"dataset/newtest_na.csv\"\n",
      "DAT_NEWTEST = \"dataset/test2.dat\"\n",
      "N_COL = 12810 + 1"
     ],
     "language": "python",
     "metadata": {},
     "outputs": [],
     "prompt_number": 5
    },
    {
     "cell_type": "code",
     "collapsed": false,
     "input": [
      "%%time\n",
      "df_newtest = pd.DataFrame(\n",
      "    [fill_data(y, x_list) for y, x_list in dat_parser(DAT_NEWTEST)],\n",
      "    columns=[\n",
      "        (\"x_{}\".format(i) if i >= 1 else \"y\") for i in range(N_COL)\n",
      "    ]\n",
      ")"
     ],
     "language": "python",
     "metadata": {},
     "outputs": [
      {
       "output_type": "stream",
       "stream": "stdout",
       "text": [
        "CPU times: user 9.38 s, sys: 272 ms, total: 9.65 s\n",
        "Wall time: 9.66 s\n"
       ]
      }
     ],
     "prompt_number": 8
    },
    {
     "cell_type": "code",
     "collapsed": false,
     "input": [
      "df_newtest.ix[4:6, [0] + list(range(3920, 3930))]"
     ],
     "language": "python",
     "metadata": {},
     "outputs": [
      {
       "html": [
        "<div style=\"max-height:1000px;max-width:1500px;overflow:auto;\">\n",
        "<table border=\"1\" class=\"dataframe\">\n",
        "  <thead>\n",
        "    <tr style=\"text-align: right;\">\n",
        "      <th></th>\n",
        "      <th>y</th>\n",
        "      <th>x_3920</th>\n",
        "      <th>x_3921</th>\n",
        "      <th>x_3922</th>\n",
        "      <th>x_3923</th>\n",
        "      <th>x_3924</th>\n",
        "      <th>x_3925</th>\n",
        "      <th>x_3926</th>\n",
        "      <th>x_3927</th>\n",
        "      <th>x_3928</th>\n",
        "      <th>x_3929</th>\n",
        "    </tr>\n",
        "  </thead>\n",
        "  <tbody>\n",
        "    <tr>\n",
        "      <th>4</th>\n",
        "      <td> 0</td>\n",
        "      <td>      NaN</td>\n",
        "      <td>      NaN</td>\n",
        "      <td>     NaN</td>\n",
        "      <td>NaN</td>\n",
        "      <td>      NaN</td>\n",
        "      <td>NaN</td>\n",
        "      <td>NaN</td>\n",
        "      <td>NaN</td>\n",
        "      <td>NaN</td>\n",
        "      <td>NaN</td>\n",
        "    </tr>\n",
        "    <tr>\n",
        "      <th>5</th>\n",
        "      <td> 0</td>\n",
        "      <td> 0.086275</td>\n",
        "      <td> 0.223529</td>\n",
        "      <td> 0.32549</td>\n",
        "      <td>NaN</td>\n",
        "      <td> 0.023529</td>\n",
        "      <td>NaN</td>\n",
        "      <td>NaN</td>\n",
        "      <td>NaN</td>\n",
        "      <td>NaN</td>\n",
        "      <td>NaN</td>\n",
        "    </tr>\n",
        "    <tr>\n",
        "      <th>6</th>\n",
        "      <td> 0</td>\n",
        "      <td>      NaN</td>\n",
        "      <td>      NaN</td>\n",
        "      <td>     NaN</td>\n",
        "      <td>NaN</td>\n",
        "      <td>      NaN</td>\n",
        "      <td>NaN</td>\n",
        "      <td>NaN</td>\n",
        "      <td>NaN</td>\n",
        "      <td>NaN</td>\n",
        "      <td>NaN</td>\n",
        "    </tr>\n",
        "  </tbody>\n",
        "</table>\n",
        "</div>"
       ],
       "metadata": {},
       "output_type": "pyout",
       "prompt_number": 14,
       "text": [
        "   y    x_3920    x_3921   x_3922  x_3923    x_3924  x_3925  x_3926  x_3927  \\\n",
        "4  0       NaN       NaN      NaN     NaN       NaN     NaN     NaN     NaN   \n",
        "5  0  0.086275  0.223529  0.32549     NaN  0.023529     NaN     NaN     NaN   \n",
        "6  0       NaN       NaN      NaN     NaN       NaN     NaN     NaN     NaN   \n",
        "\n",
        "   x_3928  x_3929  \n",
        "4     NaN     NaN  \n",
        "5     NaN     NaN  \n",
        "6     NaN     NaN  "
       ]
      }
     ],
     "prompt_number": 14
    },
    {
     "cell_type": "code",
     "collapsed": false,
     "input": [
      "df_newtest.to_csv(CSV_NEWTEST, index=False)"
     ],
     "language": "python",
     "metadata": {},
     "outputs": [],
     "prompt_number": 15
    },
    {
     "cell_type": "code",
     "collapsed": false,
     "input": [],
     "language": "python",
     "metadata": {},
     "outputs": []
    }
   ],
   "metadata": {}
  }
 ]
}