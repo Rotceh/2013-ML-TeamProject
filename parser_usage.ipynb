{
 "metadata": {
  "name": ""
 },
 "nbformat": 3,
 "nbformat_minor": 0,
 "worksheets": [
  {
   "cells": [
    {
     "cell_type": "markdown",
     "metadata": {},
     "source": [
      "Parser \u73fe\u5728\u5df2\u7d93\u5beb\u597d\u4e86\uff0c\u6240\u4ee5\u53ef\u4ee5\u76f4\u63a5 import \u5b83\u4f86\u7528"
     ]
    },
    {
     "cell_type": "code",
     "collapsed": false,
     "input": [
      "from util.parser import dat_parser"
     ],
     "language": "python",
     "metadata": {},
     "outputs": [],
     "prompt_number": 11
    },
    {
     "cell_type": "code",
     "collapsed": false,
     "input": [
      "DAT_TRAIN = \"dataset/ml2013final_train.dat\""
     ],
     "language": "python",
     "metadata": {},
     "outputs": [],
     "prompt_number": 12
    },
    {
     "cell_type": "code",
     "collapsed": false,
     "input": [
      "for y, x_list in dat_parser(DAT_TRAIN, line_num=5):\n",
      "    print(y, x_list[:3])"
     ],
     "language": "python",
     "metadata": {},
     "outputs": [
      {
       "output_type": "stream",
       "stream": "stdout",
       "text": [
        "2 [['3729', '0.00392156862745'], ['3938', '0.541176470588'], ['3939', '0.639215686275']]\n",
        "1 [['1314', '0.00392156862745'], ['1318', '0.00392156862745'], ['1418', '0.00392156862745']]\n",
        "9 [['2344', '0.0117647058824'], ['2345', '0.00392156862745'], ['2448', '0.0392156862745']]\n",
        "10 [['762', '0.00392156862745'], ['866', '0.00392156862745'], ['975', '0.0352941176471']]\n",
        "9 [['3634', '0.00392156862745'], ['3638', '0.00392156862745'], ['3643', '0.00392156862745']]\n"
       ]
      }
     ],
     "prompt_number": 13
    },
    {
     "cell_type": "heading",
     "level": 1,
     "metadata": {},
     "source": [
      "Skim"
     ]
    },
    {
     "cell_type": "code",
     "collapsed": false,
     "input": [
      "from collections import Counter"
     ],
     "language": "python",
     "metadata": {},
     "outputs": [],
     "prompt_number": 14
    },
    {
     "cell_type": "markdown",
     "metadata": {},
     "source": [
      "\u7d71\u8a08\u6bcf\u500b\u751f\u8096\u5171\u6709\u5e7e\u500b cases"
     ]
    },
    {
     "cell_type": "code",
     "collapsed": false,
     "input": [
      "zodiac = Counter()\n",
      "zodiac.update(y for y, _ in dat_parser(DAT_TRAIN))"
     ],
     "language": "python",
     "metadata": {},
     "outputs": [],
     "prompt_number": 15
    },
    {
     "cell_type": "code",
     "collapsed": false,
     "input": [
      "zodiac"
     ],
     "language": "python",
     "metadata": {},
     "outputs": [
      {
       "metadata": {},
       "output_type": "pyout",
       "prompt_number": 16,
       "text": [
        "Counter({'3': 542, '1': 527, '10': 522, '5': 518, '11': 516, '9': 514, '4': 512, '12': 511, '2': 507, '6': 495, '7': 494, '8': 484, '4\\n': 1, '5\\n': 1})"
       ]
      }
     ],
     "prompt_number": 16
    },
    {
     "cell_type": "markdown",
     "metadata": {},
     "source": [
      "\u6709\u5169\u500b\u4f86\u4e82\u7684\uff0c\u5206\u5225\u662f 446, 4186 \u884c\uff0c\u53ea\u6709\u5206\u985e\uff0c\u4e26\u6c92\u6709\u4efb\u4f55 x \u8f38\u5165"
     ]
    },
    {
     "cell_type": "code",
     "collapsed": false,
     "input": [
      "zodiac_list = sorted(\n",
      "    [k for k in  zodiac.keys() if k.isdecimal()],\n",
      "    key=lambda x: int(x)\n",
      ")\n",
      "len(zodiac_list)"
     ],
     "language": "python",
     "metadata": {},
     "outputs": [
      {
       "metadata": {},
       "output_type": "pyout",
       "prompt_number": 41,
       "text": [
        "12"
       ]
      }
     ],
     "prompt_number": 41
    },
    {
     "cell_type": "code",
     "collapsed": false,
     "input": [
      "zodiac_x = {\n",
      "    k: Counter()\n",
      "    for k in zodiac_list\n",
      "}"
     ],
     "language": "python",
     "metadata": {},
     "outputs": [],
     "prompt_number": 42
    },
    {
     "cell_type": "markdown",
     "metadata": {},
     "source": [
      "\u60f3\u770b\u6bcf\u500b\u751f\u8096\u7684 X \u5206\u5e03\u6709\u6c92\u6709\u4e0d\u4e00\u6a23"
     ]
    },
    {
     "cell_type": "code",
     "collapsed": false,
     "input": [
      "for i, (y, x_list) in enumerate(dat_parser(DAT_TRAIN), 1):\n",
      "    if y not in zodiac_list:\n",
      "        print(\"Strang entry at line:\", i)\n",
      "        continue\n",
      "    else:\n",
      "        zodiac_x[y].update(x_loc for x_loc, x_value in x_list)"
     ],
     "language": "python",
     "metadata": {},
     "outputs": [
      {
       "output_type": "stream",
       "stream": "stdout",
       "text": [
        "Strang entry at line: 446\n",
        "Strang entry at line:"
       ]
      },
      {
       "output_type": "stream",
       "stream": "stdout",
       "text": [
        " 4186\n"
       ]
      }
     ],
     "prompt_number": 45
    },
    {
     "cell_type": "code",
     "collapsed": false,
     "input": [
      "for y, x_stat in zodiac_x.items():\n",
      "    print(y, x_stat.most_common(6))"
     ],
     "language": "python",
     "metadata": {},
     "outputs": [
      {
       "output_type": "stream",
       "stream": "stdout",
       "text": [
        "4 [('5819', 204), ('5926', 200), ('5928', 199), ('5927', 198), ('6032', 198), ('6134', 197)]\n",
        "5 [('7279', 204), ('5384', 203), ('7280', 202), ('5803', 201), ('4965', 199), ('7175', 199)]\n",
        "6 [('6537', 196), ('6535', 195), ('6539', 194), ('6639', 192), ('6433', 188), ('6540', 187)]\n",
        "7 [('4453', 197), ('4978', 196), ('5189', 193), ('5294', 193), ('5086', 193), ('4768', 192)]\n",
        "1 [('6664', 192), ('6769', 191), ('8022', 190), ('7809', 187), ('7917', 186), ('6126', 185)]\n",
        "2 [('4984', 185), ('5299', 181), ('5404', 174), ('5089', 171), ('5509', 169), ('5300', 166)]\n",
        "3 [('4670', 202), ('4776', 199), ('4456', 199), ('4458', 197), ('4459', 195), ('4565', 195)]\n",
        "8 [('4876', 185), ('4983', 184), ('4982', 183), ('5511', 181), ('4353', 181), ('4248', 179)]\n",
        "9 [('6358', 194), ('6647', 190), ('6253', 187), ('6856', 182), ('5522', 182), ('6883', 181)]\n",
        "12"
       ]
      },
      {
       "output_type": "stream",
       "stream": "stdout",
       "text": [
        " [('6751', 200), ('6224', 196), ('6856', 195), ('7171', 193), ('6149', 191), ('6328', 190)]\n",
        "10 [('6539', 216), ('6747', 214), ('6748', 212), ('6644', 208), ('6119', 206), ('6436', 206)]\n",
        "11 [('6334', 178), ('5807', 173), ('6331', 171), ('6228', 170), ('6332', 170), ('6227', 169)]\n"
       ]
      }
     ],
     "prompt_number": 49
    },
    {
     "cell_type": "markdown",
     "metadata": {},
     "source": [
      "\u770b\u4e00\u4e0b X \u7684\u6700\u5927\u6700\u5c0f\u7bc4\u570d"
     ]
    },
    {
     "cell_type": "code",
     "collapsed": false,
     "input": [
      "x_range = set()"
     ],
     "language": "python",
     "metadata": {},
     "outputs": [],
     "prompt_number": 63
    },
    {
     "cell_type": "code",
     "collapsed": false,
     "input": [
      "type(x_range)"
     ],
     "language": "python",
     "metadata": {},
     "outputs": [
      {
       "metadata": {},
       "output_type": "pyout",
       "prompt_number": 64,
       "text": [
        "builtins.set"
       ]
      }
     ],
     "prompt_number": 64
    },
    {
     "cell_type": "code",
     "collapsed": false,
     "input": [
      "for y, x_stat in zodiac_x.items():\n",
      "    x_range.update(int(x) for x in x_stat.keys())"
     ],
     "language": "python",
     "metadata": {},
     "outputs": [],
     "prompt_number": 65
    },
    {
     "cell_type": "code",
     "collapsed": false,
     "input": [
      "min(x_range), max(x_range)"
     ],
     "language": "python",
     "metadata": {},
     "outputs": [
      {
       "metadata": {},
       "output_type": "pyout",
       "prompt_number": 66,
       "text": [
        "(1, 12810)"
       ]
      }
     ],
     "prompt_number": 66
    },
    {
     "cell_type": "code",
     "collapsed": false,
     "input": [],
     "language": "python",
     "metadata": {},
     "outputs": []
    }
   ],
   "metadata": {}
  }
 ]
}