{
 "metadata": {
  "name": ""
 },
 "nbformat": 3,
 "nbformat_minor": 0,
 "worksheets": [
  {
   "cells": [
    {
     "cell_type": "code",
     "collapsed": false,
     "input": [
      "import pandas as pd\n",
      "import numpy as np"
     ],
     "language": "python",
     "metadata": {},
     "outputs": [],
     "prompt_number": 1
    },
    {
     "cell_type": "code",
     "collapsed": false,
     "input": [
      "CSV_TRAIN = \"dataset/train.csv\""
     ],
     "language": "python",
     "metadata": {},
     "outputs": [],
     "prompt_number": 2
    },
    {
     "cell_type": "code",
     "collapsed": false,
     "input": [
      "df_part = pd.read_csv(CSV_TRAIN, nrows=500)"
     ],
     "language": "python",
     "metadata": {},
     "outputs": [],
     "prompt_number": 3
    },
    {
     "cell_type": "code",
     "collapsed": false,
     "input": [
      "df_part.fillna(\n",
      "    value = 0,   # all NAs fill 0\n",
      "    axis=1,   # row-by-row\n",
      "    inplace=True   # without copying\n",
      ")"
     ],
     "language": "python",
     "metadata": {},
     "outputs": [],
     "prompt_number": 4
    },
    {
     "cell_type": "markdown",
     "metadata": {},
     "source": [
      "\u78ba\u5b9a\u662f\u5426\u6bcf\u4e00\u6b04\u3001\u90fd\u6709\u503c"
     ]
    },
    {
     "cell_type": "code",
     "collapsed": false,
     "input": [
      "df_part.any(axis=0), df_part.any(axis=1)"
     ],
     "language": "python",
     "metadata": {},
     "outputs": [
      {
       "metadata": {},
       "output_type": "pyout",
       "prompt_number": 5,
       "text": [
        "(y       True\n",
        "x_1     True\n",
        "x_2     True\n",
        "x_3     True\n",
        "x_4     True\n",
        "x_5     True\n",
        "x_6     True\n",
        "x_7     True\n",
        "x_8     True\n",
        "x_9     True\n",
        "x_10    True\n",
        "x_11    True\n",
        "x_12    True\n",
        "x_13    True\n",
        "x_14    True\n",
        "...\n",
        "x_12796    False\n",
        "x_12797    False\n",
        "x_12798     True\n",
        "x_12799    False\n",
        "x_12800    False\n",
        "x_12801     True\n",
        "x_12802    False\n",
        "x_12803    False\n",
        "x_12804    False\n",
        "x_12805    False\n",
        "x_12806    False\n",
        "x_12807    False\n",
        "x_12808    False\n",
        "x_12809    False\n",
        "x_12810     True\n",
        "Length: 12811, dtype: bool,\n",
        " 0     True\n",
        "1     True\n",
        "2     True\n",
        "3     True\n",
        "4     True\n",
        "5     True\n",
        "6     True\n",
        "7     True\n",
        "8     True\n",
        "9     True\n",
        "10    True\n",
        "11    True\n",
        "12    True\n",
        "13    True\n",
        "14    True\n",
        "...\n",
        "485    True\n",
        "486    True\n",
        "487    True\n",
        "488    True\n",
        "489    True\n",
        "490    True\n",
        "491    True\n",
        "492    True\n",
        "493    True\n",
        "494    True\n",
        "495    True\n",
        "496    True\n",
        "497    True\n",
        "498    True\n",
        "499    True\n",
        "Length: 500, dtype: bool)"
       ]
      }
     ],
     "prompt_number": 5
    },
    {
     "cell_type": "code",
     "collapsed": false,
     "input": [
      "df_part.to_csv(\"dataset/train_na2zero_part.csv\", index=False)"
     ],
     "language": "python",
     "metadata": {},
     "outputs": [],
     "prompt_number": 6
    },
    {
     "cell_type": "code",
     "collapsed": false,
     "input": [
      "%%time\n",
      "df_all = pd.read_csv(CSV_TRAIN)  # require 300MB (max 600MB) ram space\n",
      "df_all.fillna(\n",
      "    value = 0,   # all NAs fill 0\n",
      "    axis=1,   # row-by-row\n",
      "    inplace=True   # without copying\n",
      ")\n",
      "df_all.to_csv(\"dataset/train_na2zero.csv\", index=False)\n"
     ],
     "language": "python",
     "metadata": {},
     "outputs": [
      {
       "output_type": "stream",
       "stream": "stdout",
       "text": [
        "CPU times: user 1min 31s, sys: 2.7 s, total: 1min 34s\n",
        "Wall time: 1min 34s\n"
       ]
      }
     ],
     "prompt_number": 7
    },
    {
     "cell_type": "code",
     "collapsed": false,
     "input": [
      "%%time\n",
      "# for test cases\n",
      "df_all = pd.read_csv(\"dataset/out_test.csv\")  # require 300MB (max 600MB) ram space\n",
      "df_all.fillna(\n",
      "    value = 0,   # all NAs fill 0\n",
      "    axis=1,   # row-by-row\n",
      "    inplace=True   # without copying\n",
      ")\n",
      "df_all.to_csv(\"dataset/test_na2zero.csv\", index=False)\n"
     ],
     "language": "python",
     "metadata": {},
     "outputs": [
      {
       "output_type": "stream",
       "stream": "stdout",
       "text": [
        "CPU times: user 44.9 s, sys: 1.33 s, total: 46.2 s\n",
        "Wall time: 46.2 s\n"
       ]
      }
     ],
     "prompt_number": 8
    },
    {
     "cell_type": "code",
     "collapsed": false,
     "input": [],
     "language": "python",
     "metadata": {},
     "outputs": []
    }
   ],
   "metadata": {}
  }
 ]
}