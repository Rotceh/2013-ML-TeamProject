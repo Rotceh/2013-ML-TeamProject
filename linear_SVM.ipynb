{
 "metadata": {
  "name": ""
 },
 "nbformat": 3,
 "nbformat_minor": 0,
 "worksheets": [
  {
   "cells": [
    {
     "cell_type": "heading",
     "level": 1,
     "metadata": {},
     "source": [
      "Linear SVM"
     ]
    },
    {
     "cell_type": "code",
     "collapsed": false,
     "input": [
      "%matplotlib inline"
     ],
     "language": "python",
     "metadata": {},
     "outputs": []
    },
    {
     "cell_type": "code",
     "collapsed": false,
     "input": [
      "import numpy as np\n",
      "import pylab as pl\n",
      "from sklearn import svm\n",
      "\n",
      "xx, yy = np.meshgrid(np.linspace(-3, 3, 500),\n",
      "                     np.linspace(-3, 3, 500))\n",
      "np.random.seed(0)\n",
      "X = np.random.randn(300, 2)\n",
      "Y = np.logical_xor(X[:, 0] > 0, X[:, 1] > 0)\n",
      "\n",
      "# fit the model\n",
      "clf = svm.NuSVC()\n",
      "clf.fit(X, Y)\n",
      "\n",
      "# plot the decision function for each datapoint on the grid\n",
      "Z = clf.decision_function(np.c_[xx.ravel(), yy.ravel()])\n",
      "Z = Z.reshape(xx.shape)\n",
      "\n",
      "pl.imshow(Z, interpolation='nearest',\n",
      "          extent=(xx.min(), xx.max(), yy.min(), yy.max()), aspect='auto',\n",
      "          origin='lower', cmap=pl.cm.PuOr_r)\n",
      "contours = pl.contour(xx, yy, Z, levels=[0], linewidths=2,\n",
      "                      linetypes='--')\n",
      "pl.scatter(X[:, 0], X[:, 1], s=30, c=Y, cmap=pl.cm.Paired)\n",
      "pl.xticks(())\n",
      "pl.yticks(())\n",
      "pl.axis([-3, 3, -3, 3])\n",
      "pl.show()\n"
     ],
     "language": "python",
     "metadata": {},
     "outputs": []
    },
    {
     "cell_type": "code",
     "collapsed": false,
     "input": [
      "import numpy as np\n",
      "import pylab as pl\n",
      "from sklearn import svm, datasets\n",
      "\n",
      "# import some data to play with\n",
      "iris = datasets.load_iris()\n",
      "X = iris.data[:, :2]  # we only take the first two features. We could\n",
      "                      # avoid this ugly slicing by using a two-dim dataset\n",
      "Y = iris.target\n",
      "\n",
      "h = .02  # step size in the mesh\n",
      "\n",
      "# we create an instance of SVM and fit out data. We do not scale our\n",
      "# data since we want to plot the support vectors\n",
      "C = 1.0  # SVM regularization parameter\n",
      "svc = svm.SVC(kernel='linear', C=C).fit(X, Y)\n",
      "rbf_svc = svm.SVC(kernel='rbf', gamma=0.7, C=C).fit(X, Y)\n",
      "poly_svc = svm.SVC(kernel='poly', degree=3, C=C).fit(X, Y)\n",
      "lin_svc = svm.LinearSVC(C=C).fit(X, Y)\n",
      "\n",
      "# create a mesh to plot in\n",
      "x_min, x_max = X[:, 0].min() - 1, X[:, 0].max() + 1\n",
      "y_min, y_max = X[:, 1].min() - 1, X[:, 1].max() + 1\n",
      "xx, yy = np.meshgrid(np.arange(x_min, x_max, h),\n",
      "                     np.arange(y_min, y_max, h))\n",
      "\n",
      "# title for the plots\n",
      "titles = ['SVC with linear kernel',\n",
      "          'SVC with RBF kernel',\n",
      "          'SVC with polynomial (degree 3) kernel',\n",
      "          'LinearSVC (linear kernel)']\n",
      "\n",
      "\n",
      "for i, clf in enumerate((svc, rbf_svc, poly_svc, lin_svc)):\n",
      "    # Plot the decision boundary. For that, we will assign a color to each\n",
      "    # point in the mesh [x_min, m_max]x[y_min, y_max].\n",
      "    pl.subplot(2, 2, i + 1)\n",
      "    Z = clf.predict(np.c_[xx.ravel(), yy.ravel()])\n",
      "\n",
      "    # Put the result into a color plot\n",
      "    Z = Z.reshape(xx.shape)\n",
      "    pl.contourf(xx, yy, Z, cmap=pl.cm.Paired)\n",
      "    pl.axis('off')\n",
      "\n",
      "    # Plot also the training points\n",
      "    pl.scatter(X[:, 0], X[:, 1], c=Y, cmap=pl.cm.Paired)\n",
      "\n",
      "    pl.title(titles[i])\n",
      "\n",
      "pl.show()"
     ],
     "language": "python",
     "metadata": {},
     "outputs": []
    },
    {
     "cell_type": "code",
     "collapsed": false,
     "input": [],
     "language": "python",
     "metadata": {},
     "outputs": []
    }
   ],
   "metadata": {}
  }
 ]
}