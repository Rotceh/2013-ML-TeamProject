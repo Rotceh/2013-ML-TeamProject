{
 "metadata": {
  "name": ""
 },
 "nbformat": 3,
 "nbformat_minor": 0,
 "worksheets": [
  {
   "cells": [
    {
     "cell_type": "markdown",
     "metadata": {},
     "source": [
      "This notebook targets **large** dataset."
     ]
    },
    {
     "cell_type": "code",
     "collapsed": false,
     "input": [
      "from __future__ import division\n",
      "import numpy as np\n",
      "import pandas as pd\n",
      "import cv2\n",
      "from util.get_data import get_train_test_suite, get_new_suite"
     ],
     "language": "python",
     "metadata": {},
     "outputs": [],
     "prompt_number": 1
    },
    {
     "cell_type": "code",
     "collapsed": false,
     "input": [
      "%%time\n",
      "df_train, df_test, train_Y, train_X, test_Y, test_X = get_new_suite(suite_name=\"raw\")"
     ],
     "language": "python",
     "metadata": {},
     "outputs": [
      {
       "output_type": "stream",
       "stream": "stdout",
       "text": [
        "CPU times: user 59.3 s, sys: 2.17 s, total: 1min 1s\n",
        "Wall time: 1min 4s\n"
       ]
      }
     ],
     "prompt_number": 2
    },
    {
     "cell_type": "heading",
     "level": 2,
     "metadata": {},
     "source": [
      "Parallel setup"
     ]
    },
    {
     "cell_type": "code",
     "collapsed": false,
     "input": [
      "from IPython.parallel import Client"
     ],
     "language": "python",
     "metadata": {},
     "outputs": [],
     "prompt_number": 3
    },
    {
     "cell_type": "code",
     "collapsed": false,
     "input": [
      "rc = Client()"
     ],
     "language": "python",
     "metadata": {},
     "outputs": [],
     "prompt_number": 4
    },
    {
     "cell_type": "code",
     "collapsed": false,
     "input": [
      "rc.ids"
     ],
     "language": "python",
     "metadata": {},
     "outputs": [
      {
       "metadata": {},
       "output_type": "pyout",
       "prompt_number": 5,
       "text": [
        "[0, 1, 2, 3, 4, 5, 6, 7, 8, 9, 10, 11]"
       ]
      }
     ],
     "prompt_number": 5
    },
    {
     "cell_type": "code",
     "collapsed": false,
     "input": [
      "dview = rc[:]"
     ],
     "language": "python",
     "metadata": {},
     "outputs": [],
     "prompt_number": 6
    },
    {
     "cell_type": "code",
     "collapsed": false,
     "input": [
      "dview.block = True"
     ],
     "language": "python",
     "metadata": {},
     "outputs": [],
     "prompt_number": 7
    },
    {
     "cell_type": "code",
     "collapsed": false,
     "input": [
      "%%px\n",
      "from __future__ import division\n",
      "import numpy as np\n",
      "import pandas as pd\n",
      "import cv2"
     ],
     "language": "python",
     "metadata": {},
     "outputs": [],
     "prompt_number": 8
    },
    {
     "cell_type": "code",
     "collapsed": false,
     "input": [
      "dview['df_train'] = df_train\n",
      "dview['train_X'] = train_X\n",
      "\n",
      "dview['df_test'] = df_test\n",
      "dview['test_X'] = test_X"
     ],
     "language": "python",
     "metadata": {},
     "outputs": [],
     "prompt_number": 9
    },
    {
     "cell_type": "code",
     "collapsed": false,
     "input": [
      "%%px\n",
      "class Instance(object):\n",
      "    __slots__ = [\"ix\", \"zwd\", \"kp_list\", \"desc_list\"]\n",
      "    def __init__(self, ix, zwd, kp_list=None, desc_list=None):\n",
      "        self.ix = ix\n",
      "        self.zwd = zwd\n",
      "        self.kp_list = [] if kp_list is None else kp_list\n",
      "        self.desc_list = [] if desc_list is None else desc_list"
     ],
     "language": "python",
     "metadata": {},
     "outputs": [],
     "prompt_number": 10
    },
    {
     "cell_type": "code",
     "collapsed": false,
     "input": [
      "%%px\n",
      "group_train = df_train.groupby(\"y\")\n",
      "group_inst_ix = [v for v in group_train.groups.values()]"
     ],
     "language": "python",
     "metadata": {},
     "outputs": [],
     "prompt_number": 11
    },
    {
     "cell_type": "code",
     "collapsed": false,
     "input": [
      "%%time\n",
      "%%px\n",
      "zwd_inst_mat = [\n",
      "    [Instance(ix=ix, zwd=zwd) for ix in ix_array] \n",
      "    for ix_array, zwd in zip(group_inst_ix, range(1, 13))\n",
      "]\n",
      "flatten_inst_arary = np.array(\n",
      "    [inst for inst_array in zwd_inst_mat for inst in inst_array]\n",
      ")"
     ],
     "language": "python",
     "metadata": {},
     "outputs": [
      {
       "output_type": "stream",
       "stream": "stdout",
       "text": [
        "CPU times: user 52 ms, sys: 5 ms, total: 57 ms\n",
        "Wall time: 119 ms\n"
       ]
      }
     ],
     "prompt_number": 12
    },
    {
     "cell_type": "code",
     "collapsed": false,
     "input": [
      "dview['len(flatten_inst_arary)']"
     ],
     "language": "python",
     "metadata": {},
     "outputs": [
      {
       "metadata": {},
       "output_type": "pyout",
       "prompt_number": 13,
       "text": [
        "[9216, 9216, 9216, 9216, 9216, 9216, 9216, 9216, 9216, 9216, 9216, 9216]"
       ]
      }
     ],
     "prompt_number": 13
    },
    {
     "cell_type": "heading",
     "level": 2,
     "metadata": {},
     "source": [
      "SIFT feature extraction"
     ]
    },
    {
     "cell_type": "code",
     "collapsed": false,
     "input": [
      "%%px\n",
      "def grey_convert(wd_array):\n",
      "    \"\"\"convert [0, 1] greyscale to [0, 255] (dark, white)\"\"\"\n",
      "    return np.round((1 - wd_array) * 255).astype(np.uint8)"
     ],
     "language": "python",
     "metadata": {},
     "outputs": [],
     "prompt_number": 14
    },
    {
     "cell_type": "code",
     "collapsed": false,
     "input": [
      "%%px\n",
      "PIXEL_X = 122\n",
      "PIXEL_Y = 105\n",
      "\n",
      "sigma = 1.4 # default: 1.6\n",
      "contrastThreshold = 0.03 # default: 0.04\n",
      "nOctaveLayers = 5  # default: 3\n",
      "edgeThreshold = 7 # default: 10\n",
      "\n",
      "sift = cv2.SIFT(\n",
      "    sigma=sigma, \n",
      "    contrastThreshold=contrastThreshold,\n",
      "    nOctaveLayers=nOctaveLayers,\n",
      "    edgeThreshold=edgeThreshold\n",
      ")"
     ],
     "language": "python",
     "metadata": {},
     "outputs": [],
     "prompt_number": 15
    },
    {
     "cell_type": "code",
     "collapsed": false,
     "input": [
      "%%time\n",
      "%%px\n",
      "for inst in flatten_inst_arary:\n",
      "    inst.kp_list, inst.desc_list = sift.detectAndCompute(\n",
      "        grey_convert(train_X[inst.ix].reshape(PIXEL_X, PIXEL_Y)),\n",
      "        None\n",
      "    )"
     ],
     "language": "python",
     "metadata": {},
     "outputs": [
      {
       "output_type": "stream",
       "stream": "stdout",
       "text": [
        "CPU times: user 42.7 s, sys: 2.62 s, total: 45.3 s\n",
        "Wall time: 3min 59s\n"
       ]
      }
     ],
     "prompt_number": 16
    },
    {
     "cell_type": "code",
     "collapsed": false,
     "input": [
      "def get_total_features():\n",
      "    return sum(len(x.kp_list) for x in flatten_inst_arary)\n",
      "\n",
      "ar = dview.apply_sync(get_total_features)\n",
      "np.all(np.equal(ar, ar)), ar[0]"
     ],
     "language": "python",
     "metadata": {},
     "outputs": [
      {
       "metadata": {},
       "output_type": "pyout",
       "prompt_number": 17,
       "text": [
        "(True, 327437)"
       ]
      }
     ],
     "prompt_number": 17
    },
    {
     "cell_type": "code",
     "collapsed": false,
     "input": [
      "def get_avg_features():\n",
      "    return np.mean([len(inst.kp_list) for inst in flatten_inst_arary])\n",
      "\n",
      "ar = dview.apply_sync(get_avg_features)\n",
      "np.all(np.equal(ar, ar)), ar[0]"
     ],
     "language": "python",
     "metadata": {},
     "outputs": [
      {
       "metadata": {},
       "output_type": "pyout",
       "prompt_number": 18,
       "text": [
        "(True, 35.529188368055557)"
       ]
      }
     ],
     "prompt_number": 18
    },
    {
     "cell_type": "heading",
     "level": 2,
     "metadata": {},
     "source": [
      "Matching"
     ]
    },
    {
     "cell_type": "heading",
     "level": 3,
     "metadata": {},
     "source": [
      "Make output dataframe"
     ]
    },
    {
     "cell_type": "code",
     "collapsed": false,
     "input": [
      "TOP_K = 150\n",
      "N_ZODIAC = 12\n",
      "out_dict = {'y': np.zeros(len(train_X))}\n",
      "\n",
      "# Top K columns\n",
      "top_column_names = [\n",
      "    \"z{}_top{}\".format(zwd+1, k+1)\n",
      "    for zwd in range(N_ZODIAC) for k in range(TOP_K)\n",
      "]\n",
      "# Mean columns\n",
      "mean_column_names = [\n",
      "    \"z{}_mean\".format(zwd+1) for zwd in range(N_ZODIAC)\n",
      "]\n",
      "out_dict.update({\n",
      "    col_name : 0 for col_name in top_column_names + mean_column_names\n",
      "})\n",
      "df_sift_train_out = pd.DataFrame(out_dict, dtype=np.float)\n",
      "\n",
      "# sort column name for better human readability\n",
      "df_sift_train_out.columns = (\n",
      "    ['y'] +\n",
      "    top_column_names +\n",
      "    mean_column_names\n",
      ")   "
     ],
     "language": "python",
     "metadata": {},
     "outputs": [],
     "prompt_number": 19
    },
    {
     "cell_type": "heading",
     "level": 3,
     "metadata": {},
     "source": [
      "FLANN Matcher"
     ]
    },
    {
     "cell_type": "code",
     "collapsed": false,
     "input": [
      "%%px\n",
      "# FLANN parameters\n",
      "FLANN_INDEX_KDTREE = 0\n",
      "index_params = dict(algorithm=FLANN_INDEX_KDTREE, trees=5)\n",
      "search_params = dict(checks=100)   # or pass empty dictionary\n",
      "\n",
      "flann = cv2.FlannBasedMatcher(index_params, search_params)"
     ],
     "language": "python",
     "metadata": {},
     "outputs": [],
     "prompt_number": 20
    },
    {
     "cell_type": "code",
     "collapsed": false,
     "input": [
      "%%time\n",
      "dview['TOP_K'] = TOP_K\n",
      "dview['DISTANCE_TH'] = 300\n",
      "\n",
      "dview['df_sift_train_out'] = df_sift_train_out"
     ],
     "language": "python",
     "metadata": {},
     "outputs": [
      {
       "output_type": "stream",
       "stream": "stdout",
       "text": [
        "CPU times: user 3.2 s, sys: 3.71 s, total: 6.91 s\n",
        "Wall time: 5.81 s\n"
       ]
      }
     ],
     "prompt_number": 21
    },
    {
     "cell_type": "code",
     "collapsed": false,
     "input": [
      "def sift_match():\n",
      "    for inst in flatten_inst_arary[inst_i_arr]:\n",
      "        for zwd, zwd_inst_list in zip(range(1, 13), zwd_inst_mat):\n",
      "            prop_matched_list = []\n",
      "            for zwd_inst in zwd_inst_list:\n",
      "                # print(i)\n",
      "                if zwd_inst.desc_list is None:\n",
      "                    # print(\"{} of zwd({}) has no features\".format(zwd_inst.ix, zwd_inst.zwd))\n",
      "                    prop_matched_list.append(0)\n",
      "                    continue\n",
      "                len_feature = len(zwd_inst.desc_list)\n",
      "                all_matches = flann.knnMatch(\n",
      "                    inst.desc_list,\n",
      "                    zwd_inst.desc_list,\n",
      "                    k=len_feature\n",
      "                )\n",
      "                matches_mat = np.unique([\n",
      "                    m.trainIdx for row in all_matches for m in row if m.distance < DISTANCE_TH\n",
      "                ])\n",
      "                prop_matched_list.append(\n",
      "                   len(matches_mat) / float(len_feature)\n",
      "                )\n",
      "            # write match result to data fame\n",
      "            # prop_matched_list.sort(reverse=True)\n",
      "            prop_matched_list = np.sort(prop_matched_list)[::-1]\n",
      "            df_sift_train_out.ix[inst.ix, \"z{}_top1\".format(zwd):\"z{}_top{}\".format(zwd, TOP_K)] = prop_matched_list[:TOP_K]\n",
      "            df_sift_train_out.ix[inst.ix, \"z{}_mean\".format(zwd)] = np.mean(prop_matched_list)"
     ],
     "language": "python",
     "metadata": {},
     "outputs": [],
     "prompt_number": 22
    },
    {
     "cell_type": "code",
     "collapsed": false,
     "input": [
      "len_total_inst = dview['len(flatten_inst_arary)'][0]\n",
      "dview.scatter('inst_i_arr', range(len_total_inst))"
     ],
     "language": "python",
     "metadata": {},
     "outputs": [],
     "prompt_number": 23
    },
    {
     "cell_type": "code",
     "collapsed": false,
     "input": [
      "ar_train = dview.apply_async(sift_match)"
     ],
     "language": "python",
     "metadata": {},
     "outputs": [],
     "prompt_number": "*"
    },
    {
     "cell_type": "code",
     "collapsed": false,
     "input": [
      "ar_train.wait_interactive()"
     ],
     "language": "python",
     "metadata": {},
     "outputs": [
      {
       "output_type": "stream",
       "stream": "stdout",
       "text": [
        "   0/12 tasks finished after  108 s"
       ]
      }
     ],
     "prompt_number": "*"
    },
    {
     "cell_type": "heading",
     "level": 2,
     "metadata": {},
     "source": [
      "Gather results"
     ]
    },
    {
     "cell_type": "code",
     "collapsed": false,
     "input": [
      "%%time\n",
      "returned_df_train_list = dview['df_sift_train_out']"
     ],
     "language": "python",
     "metadata": {},
     "outputs": [],
     "prompt_number": "*"
    },
    {
     "cell_type": "markdown",
     "metadata": {},
     "source": [
      "\u5982\u679c\u641e\u7838\u4e86\u7684\u8a71\n",
      "\n",
      "```\n",
      "scatter_i = dview['inst_i_arr']\n",
      "def get_flat_ix():\n",
      "    return [inst.ix for inst in flatten_inst_arary]\n",
      "\n",
      "flat_ix = np.array(rc[0].apply_sync(get_flat_ix))\n",
      "df_final = df_sift_train_out.copy()\n",
      "for i, df in zip(scatter_i, returned_df_out_list):\n",
      "    ix = flat_ix[i]\n",
      "    df_final.ix[ix, :] = df.ix[ix, :]\n",
      "```"
     ]
    },
    {
     "cell_type": "code",
     "collapsed": false,
     "input": [
      "df_final_train = df_sift_train_out.copy()"
     ],
     "language": "python",
     "metadata": {},
     "outputs": [],
     "prompt_number": "*"
    },
    {
     "cell_type": "code",
     "collapsed": false,
     "input": [
      "def get_flat_ix():\n",
      "    return [inst.ix for inst in flatten_inst_arary[inst_i_arr]]\n",
      "\n",
      "scattered_ix = dview.apply_sync(get_flat_ix)"
     ],
     "language": "python",
     "metadata": {},
     "outputs": [],
     "prompt_number": "*"
    },
    {
     "cell_type": "code",
     "collapsed": false,
     "input": [
      "df_final_train = df_sift_train_out.copy()\n",
      "for ix, df in zip(scattered_ix, returned_df_train_list):\n",
      "    df_final_train.ix[ix, :] = df.ix[ix, :]"
     ],
     "language": "python",
     "metadata": {},
     "outputs": [],
     "prompt_number": "*"
    },
    {
     "cell_type": "code",
     "collapsed": false,
     "input": [
      "df_final_train.ix[:10,:10]"
     ],
     "language": "python",
     "metadata": {},
     "outputs": [],
     "prompt_number": "*"
    },
    {
     "cell_type": "code",
     "collapsed": false,
     "input": [
      "CSV_TRAIN_SIFT = \"dataset/train_raw_grey_SIFT_top150_distth300.csv\"\n",
      "df_final_train['y'] = train_Y.values\n",
      "df_final_train.to_csv(CSV_TRAIN_SIFT, index=False)"
     ],
     "language": "python",
     "metadata": {},
     "outputs": [],
     "prompt_number": "*"
    },
    {
     "cell_type": "heading",
     "level": 2,
     "metadata": {},
     "source": [
      "Applying on Test Data"
     ]
    },
    {
     "cell_type": "code",
     "collapsed": false,
     "input": [
      "out_dict = {'y': np.zeros(len(test_X))}\n",
      "\n",
      "# Top K columns\n",
      "top_column_names = [\n",
      "    \"z{}_top{}\".format(zwd+1, k+1)\n",
      "    for zwd in range(N_ZODIAC) for k in range(TOP_K)\n",
      "]\n",
      "# Mean columns\n",
      "mean_column_names = [\n",
      "    \"z{}_mean\".format(zwd+1) for zwd in range(N_ZODIAC)\n",
      "]\n",
      "out_dict.update({\n",
      "    col_name : 0 for col_name in top_column_names + mean_column_names\n",
      "})\n",
      "df_sift_test_out = pd.DataFrame(out_dict, dtype=np.float)\n",
      "\n",
      "# sort column name for better human readability\n",
      "df_sift_test_out.columns = (\n",
      "    ['y'] +\n",
      "    top_column_names +\n",
      "    mean_column_names\n",
      ")   "
     ],
     "language": "python",
     "metadata": {},
     "outputs": [],
     "prompt_number": "*"
    },
    {
     "cell_type": "code",
     "collapsed": false,
     "input": [
      "%%time\n",
      "dview['df_sift_test_out'] = df_sift_test_out"
     ],
     "language": "python",
     "metadata": {},
     "outputs": [],
     "prompt_number": "*"
    },
    {
     "cell_type": "code",
     "collapsed": false,
     "input": [
      "%%time\n",
      "%%px\n",
      "group_test = df_test.groupby(\"y\")\n",
      "group_test_inst_ix = [v for v in group_test.groups.values()]\n",
      "\n",
      "zwd_test_inst_mat = [\n",
      "    [Instance(ix=ix, zwd=zwd) for ix in ix_array] \n",
      "    for ix_array, zwd in zip(group_test_inst_ix, range(1, 13))\n",
      "]\n",
      "flatten_test_inst_arary = np.array(\n",
      "    [inst for inst_array in zwd_test_inst_mat for inst in inst_array]\n",
      ")"
     ],
     "language": "python",
     "metadata": {},
     "outputs": [],
     "prompt_number": "*"
    },
    {
     "cell_type": "code",
     "collapsed": false,
     "input": [
      "dview.get(('len(flatten_test_inst_arary)', 'len(flatten_inst_arary)'))"
     ],
     "language": "python",
     "metadata": {},
     "outputs": [],
     "prompt_number": "*"
    },
    {
     "cell_type": "heading",
     "level": 3,
     "metadata": {},
     "source": [
      "SIFT"
     ]
    },
    {
     "cell_type": "code",
     "collapsed": false,
     "input": [
      "%%time\n",
      "%%px\n",
      "for inst in flatten_test_inst_arary:\n",
      "    inst.kp_list, inst.desc_list = sift.detectAndCompute(\n",
      "        grey_convert(test_X[inst.ix].reshape(PIXEL_X, PIXEL_Y)),\n",
      "        None\n",
      "    )"
     ],
     "language": "python",
     "metadata": {},
     "outputs": [],
     "prompt_number": "*"
    },
    {
     "cell_type": "code",
     "collapsed": false,
     "input": [
      "def get_total_test_features():\n",
      "    return sum(len(x.kp_list) for x in flatten_test_inst_arary)\n",
      "\n",
      "ar = dview.apply_sync(get_total_test_features)\n",
      "np.all(np.equal(ar, ar)), ar[0]"
     ],
     "language": "python",
     "metadata": {},
     "outputs": [],
     "prompt_number": "*"
    },
    {
     "cell_type": "code",
     "collapsed": false,
     "input": [
      "def get_avg_test_features():\n",
      "    return np.mean([len(inst.kp_list) for inst in flatten_test_inst_arary])\n",
      "\n",
      "ar = dview.apply_sync(get_avg_test_features)\n",
      "np.all(np.equal(ar, ar)), ar[0]"
     ],
     "language": "python",
     "metadata": {},
     "outputs": [],
     "prompt_number": "*"
    },
    {
     "cell_type": "heading",
     "level": 3,
     "metadata": {},
     "source": [
      "FLANN Match"
     ]
    },
    {
     "cell_type": "code",
     "collapsed": false,
     "input": [
      "def sift_match_test():\n",
      "    for inst in flatten_test_inst_arary[inst_i_arr]:\n",
      "        for zwd, zwd_inst_list in zip(range(1, 13), zwd_inst_mat):\n",
      "            prop_matched_list = []\n",
      "            for zwd_inst in zwd_inst_list:\n",
      "                # print(i)\n",
      "                if zwd_inst.desc_list is None:\n",
      "                    # print(\"{} of zwd({}) has no features\".format(zwd_inst.ix, zwd_inst.zwd))\n",
      "                    prop_matched_list.append(0)\n",
      "                    continue\n",
      "                len_feature = len(zwd_inst.desc_list)\n",
      "                all_matches = flann.knnMatch(\n",
      "                    inst.desc_list,\n",
      "                    zwd_inst.desc_list,\n",
      "                    k=len_feature\n",
      "                )\n",
      "                matches_mat = np.unique([\n",
      "                    m.trainIdx for row in all_matches for m in row if m.distance < DISTANCE_TH\n",
      "                ])\n",
      "                prop_matched_list.append(\n",
      "                   len(matches_mat) / float(len_feature)\n",
      "                )\n",
      "            # write match result to data fame\n",
      "            # prop_matched_list.sort(reverse=True)\n",
      "            prop_matched_list = np.sort(prop_matched_list)[::-1]\n",
      "            df_sift_test_out.ix[inst.ix, \"z{}_top1\".format(zwd):\"z{}_top{}\".format(zwd, TOP_K)] = prop_matched_list[:TOP_K]\n",
      "            df_sift_test_out.ix[inst.ix, \"z{}_mean\".format(zwd)] = np.mean(prop_matched_list)"
     ],
     "language": "python",
     "metadata": {},
     "outputs": [],
     "prompt_number": "*"
    },
    {
     "cell_type": "code",
     "collapsed": false,
     "input": [
      "len_total_inst = dview['len(flatten_test_inst_arary)'][0]\n",
      "dview.scatter('inst_i_arr', range(len_total_inst))"
     ],
     "language": "python",
     "metadata": {},
     "outputs": [],
     "prompt_number": "*"
    },
    {
     "cell_type": "code",
     "collapsed": false,
     "input": [
      "ar_test = dview.apply_async(sift_match_test)"
     ],
     "language": "python",
     "metadata": {},
     "outputs": [],
     "prompt_number": "*"
    },
    {
     "cell_type": "code",
     "collapsed": false,
     "input": [
      "# ar_test.wall_time, ar.ready() # get how many time passed\n",
      "ar_test.wait_interactive()"
     ],
     "language": "python",
     "metadata": {},
     "outputs": [],
     "prompt_number": "*"
    },
    {
     "cell_type": "heading",
     "level": 3,
     "metadata": {},
     "source": [
      "Gather"
     ]
    },
    {
     "cell_type": "code",
     "collapsed": false,
     "input": [
      "returned_df_test_list = dview['df_sift_test_out']"
     ],
     "language": "python",
     "metadata": {},
     "outputs": [],
     "prompt_number": "*"
    },
    {
     "cell_type": "code",
     "collapsed": false,
     "input": [
      "df_final_test = df_sift_test_out.copy()\n",
      "for df in returned_df_test_list:\n",
      "    df_final_test = df + df_final_test"
     ],
     "language": "python",
     "metadata": {},
     "outputs": [],
     "prompt_number": "*"
    },
    {
     "cell_type": "code",
     "collapsed": false,
     "input": [
      "df_final_test.ix[140:150, :10]"
     ],
     "language": "python",
     "metadata": {},
     "outputs": [],
     "prompt_number": "*"
    },
    {
     "cell_type": "code",
     "collapsed": false,
     "input": [
      "CSV_TEST_SIFT = \"dataset/test_raw_grey_SIFT_top150_distth300.csv\"\n",
      "df_final_test.to_csv(CSV_TEST_SIFT, index=False)"
     ],
     "language": "python",
     "metadata": {},
     "outputs": [],
     "prompt_number": "*"
    },
    {
     "cell_type": "code",
     "collapsed": false,
     "input": [
      "ls -hl $CSV_TRAIN_SIFT $CSV_TEST_SIFT"
     ],
     "language": "python",
     "metadata": {},
     "outputs": [],
     "prompt_number": "*"
    },
    {
     "cell_type": "code",
     "collapsed": false,
     "input": [
      "ar_train.elapsed, ar_test.elapsed"
     ],
     "language": "python",
     "metadata": {},
     "outputs": [],
     "prompt_number": "*"
    },
    {
     "cell_type": "code",
     "collapsed": false,
     "input": [],
     "language": "python",
     "metadata": {},
     "outputs": [],
     "prompt_number": "*"
    }
   ],
   "metadata": {}
  }
 ]
}